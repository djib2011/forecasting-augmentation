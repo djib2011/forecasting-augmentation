{
 "cells": [
  {
   "cell_type": "code",
   "execution_count": 1,
   "metadata": {},
   "outputs": [],
   "source": [
    "import tensorflow as tf\n",
    "import numpy as np\n",
    "import pandas as pd\n",
    "import pickle as pkl\n",
    "from pathlib import Path\n",
    "from tqdm import tqdm\n",
    "import matplotlib.pyplot as plt\n",
    "import seaborn as sns\n",
    "%matplotlib inline\n",
    "\n",
    "import sys\n",
    "sys.path.append('..')\n",
    "\n",
    "from utils import metrics\n",
    "import evaluation"
   ]
  },
  {
   "cell_type": "markdown",
   "metadata": {},
   "source": [
    "### Load data"
   ]
  },
  {
   "cell_type": "code",
   "execution_count": 2,
   "metadata": {},
   "outputs": [],
   "source": [
    "def get_last_N(series, N=18):\n",
    "    \"\"\"\n",
    "    Get the last N points in a timeseries. If len(ts) < N, pad the difference with the first value.\n",
    "\n",
    "    :param series: A timeseries\n",
    "    :param N: Number of points to keep\n",
    "    :return: A timeseries of length N\n",
    "    \"\"\"\n",
    "    ser_N = series.dropna().iloc[-N:].values\n",
    "    if len(ser_N) < N:\n",
    "        pad = [ser_N[0]] * (N - len(ser_N))\n",
    "        ser_N = np.r_[pad, ser_N]\n",
    "    return ser_N"
   ]
  },
  {
   "cell_type": "code",
   "execution_count": 3,
   "metadata": {},
   "outputs": [],
   "source": [
    "train_path = '../data/Yearly-train.csv'\n",
    "test_path = '../data/Yearly-test.csv'\n",
    "\n",
    "train_set = pd.read_csv(train_path).drop('V1', axis=1)\n",
    "test_set = pd.read_csv(test_path).drop('V1', axis=1)\n",
    "\n",
    "X_test = np.array([get_last_N(ser[1], N=18) for ser in train_set.iterrows()])\n",
    "y_test = test_set.values\n"
   ]
  },
  {
   "cell_type": "code",
   "execution_count": 4,
   "metadata": {},
   "outputs": [
    {
     "data": {
      "text/plain": [
       "((23000, 18), (23000, 6))"
      ]
     },
     "execution_count": 4,
     "metadata": {},
     "output_type": "execute_result"
    }
   ],
   "source": [
    "X_test.shape, y_test.shape"
   ]
  },
  {
   "cell_type": "markdown",
   "metadata": {},
   "source": [
    "### Load model"
   ]
  },
  {
   "cell_type": "code",
   "execution_count": 5,
   "metadata": {},
   "outputs": [],
   "source": [
    "models = '../results/training_hyperparameters/opt_adam__lr_0.001__ams_True__decay_True__0/'"
   ]
  },
  {
   "cell_type": "code",
   "execution_count": 6,
   "metadata": {},
   "outputs": [],
   "source": [
    "model7 = tf.keras.models.load_model(models + 'weights_epoch_007.h5')"
   ]
  },
  {
   "cell_type": "code",
   "execution_count": 7,
   "metadata": {},
   "outputs": [
    {
     "name": "stdout",
     "output_type": "stream",
     "text": [
      "Model: \"functional_1\"\n",
      "_________________________________________________________________\n",
      "Layer (type)                 Output Shape              Param #   \n",
      "=================================================================\n",
      "input_1 (InputLayer)         [(None, 18, 1)]           0         \n",
      "_________________________________________________________________\n",
      "bidirectional (Bidirectional (None, 18, 256)           133120    \n",
      "_________________________________________________________________\n",
      "bidirectional_1 (Bidirection (None, 18, 512)           1050624   \n",
      "_________________________________________________________________\n",
      "flatten (Flatten)            (None, 9216)              0         \n",
      "_________________________________________________________________\n",
      "dense (Dense)                (None, 1536)              14157312  \n",
      "_________________________________________________________________\n",
      "reshape (Reshape)            (None, 6, 256)            0         \n",
      "_________________________________________________________________\n",
      "dense_1 (Dense)              (None, 6, 1)              257       \n",
      "=================================================================\n",
      "Total params: 15,341,313\n",
      "Trainable params: 15,341,313\n",
      "Non-trainable params: 0\n",
      "_________________________________________________________________\n"
     ]
    }
   ],
   "source": [
    "model7.summary()"
   ]
  },
  {
   "cell_type": "markdown",
   "metadata": {},
   "source": [
    "### Generate predictions"
   ]
  },
  {
   "cell_type": "code",
   "execution_count": 8,
   "metadata": {},
   "outputs": [
    {
     "name": "stderr",
     "output_type": "stream",
     "text": [
      "100%|██████████| 23000/23000 [22:24<00:00, 17.11it/s]\n"
     ]
    }
   ],
   "source": [
    "preds = []\n",
    "\n",
    "for x in tqdm(X_test):\n",
    "    x = x.reshape(1, -1)\n",
    "    mn, mx = x.min(axis=1).reshape(-1, 1), x.max(axis=1).reshape(-1, 1)\n",
    "    x_sc = (x - mn) / (mx - mn)\n",
    "    pred = model7(x_sc[..., np.newaxis])\n",
    "    preds.append(pred[..., 0] * (mx - mn) + mn)"
   ]
  },
  {
   "cell_type": "code",
   "execution_count": 9,
   "metadata": {},
   "outputs": [],
   "source": [
    "preds = np.array(preds)[:, 0, :]"
   ]
  },
  {
   "cell_type": "code",
   "execution_count": 10,
   "metadata": {},
   "outputs": [
    {
     "data": {
      "text/plain": [
       "(23000, 6)"
      ]
     },
     "execution_count": 10,
     "metadata": {},
     "output_type": "execute_result"
    }
   ],
   "source": [
    "preds.shape"
   ]
  },
  {
   "cell_type": "code",
   "execution_count": 11,
   "metadata": {},
   "outputs": [],
   "source": [
    "inds = np.random.randint(len(X_test), size=16)"
   ]
  },
  {
   "cell_type": "code",
   "execution_count": 12,
   "metadata": {},
   "outputs": [
    {
     "data": {
      "image/png": "[encoded data removed]",
      "text/plain": [
       "<Figure size 1440x1008 with 16 Axes>"
      ]
     },
     "metadata": {
      "needs_background": "light"
     },
     "output_type": "display_data"
    }
   ],
   "source": [
    "plt.figure(figsize=(20, 14))\n",
    "\n",
    "for i in range(16):\n",
    "    ax = plt.subplot(4, 4, i+1)\n",
    "    ax.plot(range(18), X_test[inds[i]])\n",
    "    ax.plot(range(18, 24), preds[inds[i]])\n",
    "    ax.plot(range(18, 24), y_test[inds[i]])"
   ]
  },
  {
   "cell_type": "code",
   "execution_count": 13,
   "metadata": {},
   "outputs": [
    {
     "data": {
      "text/plain": [
       "13.32386220031002"
      ]
     },
     "execution_count": 13,
     "metadata": {},
     "output_type": "execute_result"
    }
   ],
   "source": [
    "metrics.SMAPE(y_test, preds).mean()"
   ]
  },
  {
   "cell_type": "markdown",
   "metadata": {},
   "source": [
    "### Test all models"
   ]
  },
  {
   "cell_type": "code",
   "execution_count": 14,
   "metadata": {},
   "outputs": [],
   "source": [
    "model_paths = [models + 'weights_epoch_{:03d}.h5'.format(e) for e in range(15)]"
   ]
  },
  {
   "cell_type": "code",
   "execution_count": 25,
   "metadata": {},
   "outputs": [
    {
     "name": "stderr",
     "output_type": "stream",
     "text": [
      "model 0: 100%|██████████| 23000/23000 [17:28<00:00, 21.94it/s]\n",
      "model 1: 100%|██████████| 23000/23000 [17:00<00:00, 22.54it/s]\n",
      "model 2: 100%|██████████| 23000/23000 [16:46<00:00, 22.85it/s]\n",
      "model 3: 100%|██████████| 23000/23000 [17:13<00:00, 22.26it/s]\n",
      "model 4: 100%|██████████| 23000/23000 [16:47<00:00, 22.83it/s]\n",
      "model 5: 100%|██████████| 23000/23000 [17:15<00:00, 22.20it/s]\n",
      "model 6: 100%|██████████| 23000/23000 [17:05<00:00, 22.44it/s]\n",
      "model 7: 100%|██████████| 23000/23000 [16:50<00:00, 22.76it/s]\n",
      "model 8: 100%|██████████| 23000/23000 [17:08<00:00, 22.37it/s]\n",
      "model 9: 100%|██████████| 23000/23000 [17:07<00:00, 22.38it/s]\n",
      "model 10: 100%|██████████| 23000/23000 [17:05<00:00, 22.43it/s]\n",
      "model 11: 100%|██████████| 23000/23000 [16:50<00:00, 22.77it/s]\n",
      "model 12: 100%|██████████| 23000/23000 [16:49<00:00, 22.79it/s]\n",
      "model 13: 100%|██████████| 23000/23000 [16:43<00:00, 22.92it/s]\n",
      "model 14: 100%|██████████| 23000/23000 [16:55<00:00, 22.65it/s]\n"
     ]
    }
   ],
   "source": [
    "model_preds = {}\n",
    "\n",
    "for i, m in enumerate(model_paths):\n",
    "    \n",
    "    model = tf.keras.models.load_model(m)\n",
    "    preds = []\n",
    "\n",
    "    for x in tqdm(X_test, desc='model {}'.format(i)):\n",
    "        x = x.reshape(1, -1)\n",
    "        mn, mx = x.min(axis=1).reshape(-1, 1), x.max(axis=1).reshape(-1, 1)\n",
    "        x_sc = (x - mn) / (mx - mn)\n",
    "        pred = model(x_sc[..., np.newaxis])\n",
    "        preds.append(pred[..., 0] * (mx - mn) + mn)\n",
    "        \n",
    "    model_preds[m] = np.array(preds)[:, 0, :]"
   ]
  },
  {
   "cell_type": "code",
   "execution_count": 28,
   "metadata": {},
   "outputs": [],
   "source": [
    "with open('/tmp/analytical_preds.pkl', 'wb') as f:\n",
    "    pkl.dump(model_preds, f)"
   ]
  },
  {
   "cell_type": "code",
   "execution_count": 5,
   "metadata": {},
   "outputs": [],
   "source": [
    "with open('/tmp/analytical_preds.pkl', 'rb') as f:\n",
    "    model_preds = pkl.load(f)"
   ]
  },
  {
   "cell_type": "code",
   "execution_count": 6,
   "metadata": {},
   "outputs": [
    {
     "ename": "NameError",
     "evalue": "name 'model_preds' is not defined",
     "output_type": "error",
     "traceback": [
      "\u001b[0;31m---------------------------------------------------------------------------\u001b[0m",
      "\u001b[0;31mNameError\u001b[0m                                 Traceback (most recent call last)",
      "\u001b[0;32m<ipython-input-6-7de797bc4b1e>\u001b[0m in \u001b[0;36m<module>\u001b[0;34m\u001b[0m\n\u001b[0;32m----> 1\u001b[0;31m \u001b[0mm\u001b[0m \u001b[0;34m=\u001b[0m \u001b[0mmodel_preds\u001b[0m\u001b[0;34m[\u001b[0m\u001b[0;34m'../results/training_hyperparameters/opt_adam__lr_0.001__ams_True__decay_True__0/weights_epoch_000.h5'\u001b[0m\u001b[0;34m]\u001b[0m\u001b[0;34m\u001b[0m\u001b[0;34m\u001b[0m\u001b[0m\n\u001b[0m",
      "\u001b[0;31mNameError\u001b[0m: name 'model_preds' is not defined"
     ]
    }
   ],
   "source": [
    "m = model_preds['../results/training_hyperparameters/opt_adam__lr_0.001__ams_True__decay_True__0/weights_epoch_000.h5']"
   ]
  },
  {
   "cell_type": "code",
   "execution_count": 36,
   "metadata": {},
   "outputs": [
    {
     "name": "stdout",
     "output_type": "stream",
     "text": [
      "weights_epoch_000.h5   13.967\n",
      "weights_epoch_001.h5   13.697\n",
      "weights_epoch_002.h5   13.498\n",
      "weights_epoch_003.h5   13.307\n",
      "weights_epoch_004.h5   13.505\n",
      "weights_epoch_005.h5   13.283\n",
      "weights_epoch_006.h5   13.289\n",
      "weights_epoch_007.h5   13.324\n",
      "weights_epoch_008.h5   13.285\n",
      "weights_epoch_009.h5   13.374\n",
      "weights_epoch_010.h5   13.378\n",
      "weights_epoch_011.h5   13.333\n",
      "weights_epoch_012.h5   13.259\n",
      "weights_epoch_013.h5   13.243\n",
      "weights_epoch_014.h5   13.321\n"
     ]
    },
    {
     "data": {
      "text/plain": [
       "[<matplotlib.lines.Line2D at 0x7f00441e7a58>]"
      ]
     },
     "execution_count": 36,
     "metadata": {},
     "output_type": "execute_result"
    },
    {
     "data": {
      "image/png": "[encoded data removed]",
      "text/plain": [
       "<Figure size 432x288 with 1 Axes>"
      ]
     },
     "metadata": {
      "needs_background": "light"
     },
     "output_type": "display_data"
    }
   ],
   "source": [
    "single = []\n",
    "ensemble = []\n",
    "\n",
    "agg = []\n",
    "\n",
    "for k, v in model_preds.items():\n",
    "    agg.append(v)\n",
    "    s1 = metrics.SMAPE(y_test, v).mean()\n",
    "    s2 = metrics.SMAPE(y_test, np.median(agg, axis=0)).mean()\n",
    "    print('{}   {:.3f}'.format(k.split('/')[-1], s1))\n",
    "    single.append(s1)\n",
    "    ensemble.append(s2)\n",
    "    \n",
    "plt.plot(single)\n",
    "plt.plot(ensemble)"
   ]
  },
  {
   "cell_type": "markdown",
   "metadata": {},
   "source": [
    "### Investigate `get_predictions`"
   ]
  },
  {
   "cell_type": "code",
   "execution_count": 40,
   "metadata": {},
   "outputs": [],
   "source": [
    "from evaluation import get_predictions"
   ]
  },
  {
   "cell_type": "code",
   "execution_count": 41,
   "metadata": {},
   "outputs": [
    {
     "name": "stderr",
     "output_type": "stream",
     "text": [
      "100%|██████████| 15/15 [05:52<00:00, 23.52s/it]\n"
     ]
    }
   ],
   "source": [
    "model_preds_2 = {}\n",
    "for m in tqdm(model_paths):\n",
    "    \n",
    "    model = tf.keras.models.load_model(m)\n",
    "    \n",
    "    preds = get_predictions(model, X_test)\n",
    "    \n",
    "    model_preds_2[m] = preds"
   ]
  },
  {
   "cell_type": "code",
   "execution_count": 42,
   "metadata": {},
   "outputs": [],
   "source": [
    "with open('/tmp/analytical_preds_2.pkl', 'wb') as f:\n",
    "    pkl.dump(model_preds_2, f)"
   ]
  },
  {
   "cell_type": "code",
   "execution_count": 10,
   "metadata": {},
   "outputs": [],
   "source": [
    "with open('/tmp/analytical_preds_2.pkl', 'rb') as f:\n",
    "    model_preds_2 = pkl.load(f)"
   ]
  },
  {
   "cell_type": "code",
   "execution_count": 14,
   "metadata": {},
   "outputs": [
    {
     "name": "stdout",
     "output_type": "stream",
     "text": [
      "weights_epoch_000.h5   13.967\n",
      "weights_epoch_001.h5   13.697\n",
      "weights_epoch_002.h5   13.498\n",
      "weights_epoch_003.h5   13.307\n",
      "weights_epoch_004.h5   13.505\n",
      "weights_epoch_005.h5   13.283\n",
      "weights_epoch_006.h5   13.289\n",
      "weights_epoch_007.h5   13.324\n",
      "weights_epoch_008.h5   13.285\n",
      "weights_epoch_009.h5   13.374\n",
      "weights_epoch_010.h5   13.378\n",
      "weights_epoch_011.h5   13.333\n",
      "weights_epoch_012.h5   13.259\n",
      "weights_epoch_013.h5   13.243\n",
      "weights_epoch_014.h5   13.321\n"
     ]
    },
    {
     "data": {
      "text/plain": [
       "[<matplotlib.lines.Line2D at 0x7f4a8fcf37b8>]"
      ]
     },
     "execution_count": 14,
     "metadata": {},
     "output_type": "execute_result"
    },
    {
     "data": {
      "image/png": "[encoded data removed]",
      "text/plain": [
       "<Figure size 432x288 with 1 Axes>"
      ]
     },
     "metadata": {
      "needs_background": "light"
     },
     "output_type": "display_data"
    }
   ],
   "source": [
    "single_2 = []\n",
    "ensemble_2 = []\n",
    "\n",
    "agg_2 = []\n",
    "\n",
    "for k, v in model_preds.items():\n",
    "    agg_2.append(v)\n",
    "    s1 = metrics.SMAPE(y_test, v).mean()\n",
    "    s2 = metrics.SMAPE(y_test, np.median(agg_2, axis=0)).mean()\n",
    "    print('{}   {:.3f}'.format(k.split('/')[-1], s1))\n",
    "    single_2.append(s1)\n",
    "    ensemble_2.append(s2)\n",
    "    \n",
    "plt.plot(single_2)\n",
    "plt.plot(ensemble_2)"
   ]
  },
  {
   "cell_type": "markdown",
   "metadata": {},
   "source": [
    "### Investigate `evaluate_family_with_multiple_weights`"
   ]
  },
  {
   "cell_type": "code",
   "execution_count": 21,
   "metadata": {},
   "outputs": [
    {
     "name": "stdout",
     "output_type": "stream",
     "text": [
      "1\n",
      "2\n",
      "3\n",
      "4\n",
      "5\n",
      "6\n",
      "7\n",
      "8\n",
      "9\n",
      "10\n",
      "11\n",
      "12\n",
      "13\n",
      "14\n",
      "15\n"
     ]
    }
   ],
   "source": [
    "all_model_preds_in_trial = []\n",
    "results = {'smape': {}, 'mase*': {}}\n",
    "epoch_ind = 0\n",
    "\n",
    "for k, v in model_preds_2.items():\n",
    "\n",
    "    preds = v\n",
    "\n",
    "    all_model_preds_in_trial.append(preds)\n",
    "\n",
    "    results['smape']['n' + '__epoch_{}'.format(epoch_ind + 1)] = np.nanmean(metrics.SMAPE(y_test, preds[:, -6:]))\n",
    "    results['mase*']['n' + '__epoch_{}'.format(epoch_ind + 1)] = np.nanmean(metrics.MASE(X_test, y_test, preds[:, -6:]))\n",
    "\n",
    "    ensemble_preds = np.median(np.array(all_model_preds_in_trial), axis=0)\n",
    "\n",
    "    results['smape']['ens__' + 'n' + '__epoch_{}'.format(epoch_ind + 1)] = np.nanmean(metrics.SMAPE(y_test, ensemble_preds[:, -6:]))\n",
    "    results['mase*']['ens__' + 'n' + '__epoch_{}'.format(epoch_ind + 1)] = np.nanmean(metrics.MASE(X_test, y_test, ensemble_preds[:, -6:]))\n",
    "\n",
    "    epoch_ind += 1\n",
    "    \n",
    "    print(epoch_ind)"
   ]
  },
  {
   "cell_type": "code",
   "execution_count": 24,
   "metadata": {},
   "outputs": [],
   "source": [
    "r1 = [v for k, v in results['smape'].items() if 'ens' not in k]\n",
    "r2 = [v for k, v in results['smape'].items() if 'ens' in k]"
   ]
  },
  {
   "cell_type": "code",
   "execution_count": 27,
   "metadata": {},
   "outputs": [
    {
     "data": {
      "text/plain": [
       "[<matplotlib.lines.Line2D at 0x7f4a8fa8d898>]"
      ]
     },
     "execution_count": 27,
     "metadata": {},
     "output_type": "execute_result"
    },
    {
     "data": {
      "image/png": "[encoded data removed]",
      "text/plain": [
       "<Figure size 432x288 with 1 Axes>"
      ]
     },
     "metadata": {
      "needs_background": "light"
     },
     "output_type": "display_data"
    }
   ],
   "source": [
    "plt.plot(r1)\n",
    "plt.plot(r2)"
   ]
  },
  {
   "cell_type": "code",
   "execution_count": 28,
   "metadata": {},
   "outputs": [],
   "source": [
    "family = '../results/training_hyperparameters/opt_adam__lr_0.001__ams_True__decay_True'"
   ]
  },
  {
   "cell_type": "code",
   "execution_count": 32,
   "metadata": {},
   "outputs": [
    {
     "name": "stderr",
     "output_type": "stream",
     "text": [
      "\r",
      "  0%|          | 0/4 [00:00<?, ?it/s]"
     ]
    },
    {
     "name": "stdout",
     "output_type": "stream",
     "text": [
      "Run name: opt_adam__lr_0.001__ams_True__decay_True\n",
      "Family path: ../results/training_hyperparameters/opt_adam__lr_0.001__ams_True__decay_True\n",
      "Trials identified: 4\n",
      "   0. ../results/training_hyperparameters/opt_adam__lr_0.001__ams_True__decay_True__1\n",
      "   1. ../results/training_hyperparameters/opt_adam__lr_0.001__ams_True__decay_True__2\n",
      "   2. ../results/training_hyperparameters/opt_adam__lr_0.001__ams_True__decay_True__0\n",
      "   3. ../results/training_hyperparameters/opt_adam__lr_0.001__ams_True__decay_True__3\n"
     ]
    },
    {
     "name": "stderr",
     "output_type": "stream",
     "text": [
      "100%|██████████| 4/4 [05:17<00:00, 79.49s/it]\n"
     ]
    }
   ],
   "source": [
    "res = evaluation.evaluate_family_with_multiple_weights(family, X_test, y_test, result_dict=None, desc=None, verbose=True)"
   ]
  },
  {
   "cell_type": "code",
   "execution_count": 34,
   "metadata": {},
   "outputs": [],
   "source": [
    "subset = {k: v for k, v in res['smape'].items() if 'opt_adam__lr_0.001__ams_True__decay_True__0' in k}"
   ]
  },
  {
   "cell_type": "code",
   "execution_count": 36,
   "metadata": {},
   "outputs": [
    {
     "data": {
      "text/plain": [
       "[<matplotlib.lines.Line2D at 0x7f4a843514e0>]"
      ]
     },
     "execution_count": 36,
     "metadata": {},
     "output_type": "execute_result"
    },
    {
     "data": {
      "image/png": "[encoded data removed]",
      "text/plain": [
       "<Figure size 432x288 with 1 Axes>"
      ]
     },
     "metadata": {
      "needs_background": "light"
     },
     "output_type": "display_data"
    }
   ],
   "source": [
    "r1 = [v for k, v in subset.items() if 'ens' not in k]\n",
    "r2 = [v for k, v in subset.items() if 'ens' in k]\n",
    "plt.plot(r1)\n",
    "plt.plot(r2)"
   ]
  },
  {
   "cell_type": "code",
   "execution_count": 41,
   "metadata": {},
   "outputs": [
    {
     "data": {
      "text/plain": [
       "dict_keys(['opt_adam__lr_0.001__ams_True__decay_True__1__epoch_1', 'ens__opt_adam__lr_0.001__ams_True__decay_True__1__epoch_1', 'opt_adam__lr_0.001__ams_True__decay_True__1__epoch_2', 'ens__opt_adam__lr_0.001__ams_True__decay_True__1__epoch_2', 'opt_adam__lr_0.001__ams_True__decay_True__1__epoch_3', 'ens__opt_adam__lr_0.001__ams_True__decay_True__1__epoch_3', 'opt_adam__lr_0.001__ams_True__decay_True__1__epoch_4', 'ens__opt_adam__lr_0.001__ams_True__decay_True__1__epoch_4', 'opt_adam__lr_0.001__ams_True__decay_True__1__epoch_5', 'ens__opt_adam__lr_0.001__ams_True__decay_True__1__epoch_5', 'opt_adam__lr_0.001__ams_True__decay_True__1__epoch_6', 'ens__opt_adam__lr_0.001__ams_True__decay_True__1__epoch_6', 'opt_adam__lr_0.001__ams_True__decay_True__1__epoch_7', 'ens__opt_adam__lr_0.001__ams_True__decay_True__1__epoch_7', 'opt_adam__lr_0.001__ams_True__decay_True__1__epoch_8', 'ens__opt_adam__lr_0.001__ams_True__decay_True__1__epoch_8', 'opt_adam__lr_0.001__ams_True__decay_True__1__epoch_9', 'ens__opt_adam__lr_0.001__ams_True__decay_True__1__epoch_9', 'opt_adam__lr_0.001__ams_True__decay_True__1__epoch_10', 'ens__opt_adam__lr_0.001__ams_True__decay_True__1__epoch_10', 'opt_adam__lr_0.001__ams_True__decay_True__1__epoch_11', 'ens__opt_adam__lr_0.001__ams_True__decay_True__1__epoch_11', 'opt_adam__lr_0.001__ams_True__decay_True__1__epoch_12', 'ens__opt_adam__lr_0.001__ams_True__decay_True__1__epoch_12', 'opt_adam__lr_0.001__ams_True__decay_True__1__epoch_13', 'ens__opt_adam__lr_0.001__ams_True__decay_True__1__epoch_13', 'opt_adam__lr_0.001__ams_True__decay_True__1__epoch_14', 'ens__opt_adam__lr_0.001__ams_True__decay_True__1__epoch_14', 'opt_adam__lr_0.001__ams_True__decay_True__1__epoch_15', 'ens__opt_adam__lr_0.001__ams_True__decay_True__1__epoch_15', 'opt_adam__lr_0.001__ams_True__decay_True__2__epoch_1', 'ens__opt_adam__lr_0.001__ams_True__decay_True__2__epoch_1', 'opt_adam__lr_0.001__ams_True__decay_True__2__epoch_2', 'ens__opt_adam__lr_0.001__ams_True__decay_True__2__epoch_2', 'opt_adam__lr_0.001__ams_True__decay_True__2__epoch_3', 'ens__opt_adam__lr_0.001__ams_True__decay_True__2__epoch_3', 'opt_adam__lr_0.001__ams_True__decay_True__2__epoch_4', 'ens__opt_adam__lr_0.001__ams_True__decay_True__2__epoch_4', 'opt_adam__lr_0.001__ams_True__decay_True__2__epoch_5', 'ens__opt_adam__lr_0.001__ams_True__decay_True__2__epoch_5', 'opt_adam__lr_0.001__ams_True__decay_True__2__epoch_6', 'ens__opt_adam__lr_0.001__ams_True__decay_True__2__epoch_6', 'opt_adam__lr_0.001__ams_True__decay_True__2__epoch_7', 'ens__opt_adam__lr_0.001__ams_True__decay_True__2__epoch_7', 'opt_adam__lr_0.001__ams_True__decay_True__2__epoch_8', 'ens__opt_adam__lr_0.001__ams_True__decay_True__2__epoch_8', 'opt_adam__lr_0.001__ams_True__decay_True__2__epoch_9', 'ens__opt_adam__lr_0.001__ams_True__decay_True__2__epoch_9', 'opt_adam__lr_0.001__ams_True__decay_True__2__epoch_10', 'ens__opt_adam__lr_0.001__ams_True__decay_True__2__epoch_10', 'opt_adam__lr_0.001__ams_True__decay_True__2__epoch_11', 'ens__opt_adam__lr_0.001__ams_True__decay_True__2__epoch_11', 'opt_adam__lr_0.001__ams_True__decay_True__2__epoch_12', 'ens__opt_adam__lr_0.001__ams_True__decay_True__2__epoch_12', 'opt_adam__lr_0.001__ams_True__decay_True__2__epoch_13', 'ens__opt_adam__lr_0.001__ams_True__decay_True__2__epoch_13', 'opt_adam__lr_0.001__ams_True__decay_True__2__epoch_14', 'ens__opt_adam__lr_0.001__ams_True__decay_True__2__epoch_14', 'opt_adam__lr_0.001__ams_True__decay_True__2__epoch_15', 'ens__opt_adam__lr_0.001__ams_True__decay_True__2__epoch_15', 'opt_adam__lr_0.001__ams_True__decay_True__0__epoch_1', 'ens__opt_adam__lr_0.001__ams_True__decay_True__0__epoch_1', 'opt_adam__lr_0.001__ams_True__decay_True__0__epoch_2', 'ens__opt_adam__lr_0.001__ams_True__decay_True__0__epoch_2', 'opt_adam__lr_0.001__ams_True__decay_True__0__epoch_3', 'ens__opt_adam__lr_0.001__ams_True__decay_True__0__epoch_3', 'opt_adam__lr_0.001__ams_True__decay_True__0__epoch_4', 'ens__opt_adam__lr_0.001__ams_True__decay_True__0__epoch_4', 'opt_adam__lr_0.001__ams_True__decay_True__0__epoch_5', 'ens__opt_adam__lr_0.001__ams_True__decay_True__0__epoch_5', 'opt_adam__lr_0.001__ams_True__decay_True__0__epoch_6', 'ens__opt_adam__lr_0.001__ams_True__decay_True__0__epoch_6', 'opt_adam__lr_0.001__ams_True__decay_True__0__epoch_7', 'ens__opt_adam__lr_0.001__ams_True__decay_True__0__epoch_7', 'opt_adam__lr_0.001__ams_True__decay_True__0__epoch_8', 'ens__opt_adam__lr_0.001__ams_True__decay_True__0__epoch_8', 'opt_adam__lr_0.001__ams_True__decay_True__0__epoch_9', 'ens__opt_adam__lr_0.001__ams_True__decay_True__0__epoch_9', 'opt_adam__lr_0.001__ams_True__decay_True__0__epoch_10', 'ens__opt_adam__lr_0.001__ams_True__decay_True__0__epoch_10', 'opt_adam__lr_0.001__ams_True__decay_True__0__epoch_11', 'ens__opt_adam__lr_0.001__ams_True__decay_True__0__epoch_11', 'opt_adam__lr_0.001__ams_True__decay_True__0__epoch_12', 'ens__opt_adam__lr_0.001__ams_True__decay_True__0__epoch_12', 'opt_adam__lr_0.001__ams_True__decay_True__0__epoch_13', 'ens__opt_adam__lr_0.001__ams_True__decay_True__0__epoch_13', 'opt_adam__lr_0.001__ams_True__decay_True__0__epoch_14', 'ens__opt_adam__lr_0.001__ams_True__decay_True__0__epoch_14', 'opt_adam__lr_0.001__ams_True__decay_True__0__epoch_15', 'ens__opt_adam__lr_0.001__ams_True__decay_True__0__epoch_15', 'opt_adam__lr_0.001__ams_True__decay_True__3__epoch_1', 'ens__opt_adam__lr_0.001__ams_True__decay_True__3__epoch_1', 'opt_adam__lr_0.001__ams_True__decay_True__3__epoch_2', 'ens__opt_adam__lr_0.001__ams_True__decay_True__3__epoch_2', 'opt_adam__lr_0.001__ams_True__decay_True__3__epoch_3', 'ens__opt_adam__lr_0.001__ams_True__decay_True__3__epoch_3', 'opt_adam__lr_0.001__ams_True__decay_True__3__epoch_4', 'ens__opt_adam__lr_0.001__ams_True__decay_True__3__epoch_4', 'opt_adam__lr_0.001__ams_True__decay_True__3__epoch_5', 'ens__opt_adam__lr_0.001__ams_True__decay_True__3__epoch_5', 'opt_adam__lr_0.001__ams_True__decay_True__3__epoch_6', 'ens__opt_adam__lr_0.001__ams_True__decay_True__3__epoch_6', 'opt_adam__lr_0.001__ams_True__decay_True__3__epoch_7', 'ens__opt_adam__lr_0.001__ams_True__decay_True__3__epoch_7', 'opt_adam__lr_0.001__ams_True__decay_True__3__epoch_8', 'ens__opt_adam__lr_0.001__ams_True__decay_True__3__epoch_8', 'opt_adam__lr_0.001__ams_True__decay_True__3__epoch_9', 'ens__opt_adam__lr_0.001__ams_True__decay_True__3__epoch_9', 'opt_adam__lr_0.001__ams_True__decay_True__3__epoch_10', 'ens__opt_adam__lr_0.001__ams_True__decay_True__3__epoch_10', 'opt_adam__lr_0.001__ams_True__decay_True__3__epoch_11', 'ens__opt_adam__lr_0.001__ams_True__decay_True__3__epoch_11', 'opt_adam__lr_0.001__ams_True__decay_True__3__epoch_12', 'ens__opt_adam__lr_0.001__ams_True__decay_True__3__epoch_12', 'opt_adam__lr_0.001__ams_True__decay_True__3__epoch_13', 'ens__opt_adam__lr_0.001__ams_True__decay_True__3__epoch_13', 'opt_adam__lr_0.001__ams_True__decay_True__3__epoch_14', 'ens__opt_adam__lr_0.001__ams_True__decay_True__3__epoch_14', 'opt_adam__lr_0.001__ams_True__decay_True__3__epoch_15', 'ens__opt_adam__lr_0.001__ams_True__decay_True__3__epoch_15', 'ens__opt_adam__lr_0.001__ams_True__decay_True____epoch_0', 'ens__opt_adam__lr_0.001__ams_True__decay_True____epoch_1', 'ens__opt_adam__lr_0.001__ams_True__decay_True____epoch_2', 'ens__opt_adam__lr_0.001__ams_True__decay_True____epoch_3', 'ens__opt_adam__lr_0.001__ams_True__decay_True____epoch_4', 'ens__opt_adam__lr_0.001__ams_True__decay_True____epoch_5', 'ens__opt_adam__lr_0.001__ams_True__decay_True____epoch_6', 'ens__opt_adam__lr_0.001__ams_True__decay_True____epoch_7', 'ens__opt_adam__lr_0.001__ams_True__decay_True____epoch_8', 'ens__opt_adam__lr_0.001__ams_True__decay_True____epoch_9', 'ens__opt_adam__lr_0.001__ams_True__decay_True____epoch_10', 'ens__opt_adam__lr_0.001__ams_True__decay_True____epoch_11', 'ens__opt_adam__lr_0.001__ams_True__decay_True____epoch_12', 'ens__opt_adam__lr_0.001__ams_True__decay_True____epoch_13', 'ens__opt_adam__lr_0.001__ams_True__decay_True____epoch_14', 'ens__opt_adam__lr_0.001__ams_True__decay_True____epoch_'])"
      ]
     },
     "execution_count": 41,
     "metadata": {},
     "output_type": "execute_result"
    }
   ],
   "source": [
    "res['smape'].keys()"
   ]
  },
  {
   "cell_type": "code",
   "execution_count": 46,
   "metadata": {},
   "outputs": [],
   "source": [
    "def evaluate_family_1(family, x, y, result_dict=None, desc=None, verbose=False):\n",
    "\n",
    "    if not result_dict:\n",
    "        results = {'smape': {}, 'mase*': {}}\n",
    "        results2 = {'smape': {}, 'mase*': {}}\n",
    "    else:\n",
    "        results = result_dict.copy()\n",
    "\n",
    "    family = Path(family)\n",
    "    trials = list(family.parent.glob(family.name + '*'))  # list for tqdm\n",
    "\n",
    "    family_preds = None\n",
    "    trial_ind = 0\n",
    "\n",
    "    if verbose:\n",
    "        print('Run name:', family.name)\n",
    "        print('Family path:', str(family))\n",
    "        print('Trials identified:', len(trials))\n",
    "        for i, t in enumerate(trials):\n",
    "            print('  {:>2d}. {}'.format(i, t))\n",
    "\n",
    "    ensemble_preds_all_trials = []\n",
    "\n",
    "    for trial in tqdm(trials, desc=desc):\n",
    "\n",
    "        all_model_preds_in_trial = []\n",
    "\n",
    "        trial = Path(trial)\n",
    "        all_models_in_trial = list(trial.glob('*'))\n",
    "\n",
    "        for epoch_ind, single_model in enumerate(all_models_in_trial):\n",
    "\n",
    "            model = tf.keras.models.load_model(single_model)\n",
    "\n",
    "            preds = get_predictions(model, x)\n",
    "\n",
    "            if not family_preds:\n",
    "                family_preds = [[] for _ in range(len(all_models_in_trial))]\n",
    "\n",
    "            family_preds[epoch_ind].append(preds)\n",
    "            all_model_preds_in_trial.append(preds)\n",
    "\n",
    "            tf.keras.backend.clear_session()\n",
    "\n",
    "            results['smape'][trial.name + '__epoch_{}'.format(epoch_ind + 1)] = np.nanmean(metrics.SMAPE(y, preds[:, -6:]))\n",
    "            results['mase*'][trial.name + '__epoch_{}'.format(epoch_ind + 1)] = np.nanmean(metrics.MASE(x, y, preds[:, -6:]))\n",
    "\n",
    "            ensemble_preds = np.median(np.array(all_model_preds_in_trial), axis=0)\n",
    "\n",
    "            results['smape']['ens__' + trial.name + '__epoch_{}'.format(epoch_ind + 1)] = np.nanmean(metrics.SMAPE(y, ensemble_preds[:, -6:]))\n",
    "            results['mase*']['ens__' + trial.name + '__epoch_{}'.format(epoch_ind + 1)] = np.nanmean(metrics.MASE(x, y, ensemble_preds[:, -6:]))\n",
    "\n",
    "        trial_ind += 1\n",
    "\n",
    "        ensemble_preds_all_trials.append(ensemble_preds)\n",
    "\n",
    "    for i, epoch_preds in enumerate(family_preds):\n",
    "\n",
    "        preds = np.median(np.array(epoch_preds), axis=0)\n",
    "\n",
    "        results2['smape']['ens__' + family.name + '____epoch_{}'.format(i)] = np.nanmean(metrics.SMAPE(y, preds[:, -6:]))\n",
    "        results2['mase*']['ens__' + family.name + '____epoch_{}'.format(i)] = np.nanmean(metrics.MASE(x, y, preds[:, -6:]))\n",
    "\n",
    "    final_preds = np.median(np.array(ensemble_preds_all_trials), axis=0)\n",
    "\n",
    "    results2['smape']['ens__' + family.name + '____epoch_'] = np.nanmean(metrics.SMAPE(y, final_preds[:, -6:]))\n",
    "    results2['mase*']['ens__' + family.name + '____epoch_'] = np.nanmean(metrics.MASE(x, y, final_preds[:, -6:]))\n",
    "\n",
    "    return results"
   ]
  },
  {
   "cell_type": "code",
   "execution_count": 47,
   "metadata": {},
   "outputs": [
    {
     "name": "stderr",
     "output_type": "stream",
     "text": [
      "\r",
      "  0%|          | 0/4 [00:00<?, ?it/s]"
     ]
    },
    {
     "name": "stdout",
     "output_type": "stream",
     "text": [
      "Run name: opt_adam__lr_0.001__ams_True__decay_True\n",
      "Family path: ../results/training_hyperparameters/opt_adam__lr_0.001__ams_True__decay_True\n",
      "Trials identified: 4\n",
      "   0. ../results/training_hyperparameters/opt_adam__lr_0.001__ams_True__decay_True__1\n",
      "   1. ../results/training_hyperparameters/opt_adam__lr_0.001__ams_True__decay_True__2\n",
      "   2. ../results/training_hyperparameters/opt_adam__lr_0.001__ams_True__decay_True__0\n",
      "   3. ../results/training_hyperparameters/opt_adam__lr_0.001__ams_True__decay_True__3\n"
     ]
    },
    {
     "name": "stderr",
     "output_type": "stream",
     "text": [
      "100%|██████████| 4/4 [02:21<00:00, 35.39s/it]\n"
     ]
    }
   ],
   "source": [
    "res1, res2 = evaluate_family_1(family, X_test, y_test, verbose=True)"
   ]
  },
  {
   "cell_type": "code",
   "execution_count": 50,
   "metadata": {},
   "outputs": [
    {
     "data": {
      "text/plain": [
       "[<matplotlib.lines.Line2D at 0x7f4a6c22f3c8>]"
      ]
     },
     "execution_count": 50,
     "metadata": {},
     "output_type": "execute_result"
    },
    {
     "data": {
      "image/png": "[encoded data removed]",
      "text/plain": [
       "<Figure size 432x288 with 1 Axes>"
      ]
     },
     "metadata": {
      "needs_background": "light"
     },
     "output_type": "display_data"
    }
   ],
   "source": [
    "subset = {k: v for k, v in res1['smape'].items() if 'opt_adam__lr_0.001__ams_True__decay_True__0' in k}\n",
    "r1 = [v for k, v in subset.items() if 'ens' not in k]\n",
    "r2 = [v for k, v in subset.items() if 'ens' in k]\n",
    "plt.plot(r1)\n",
    "plt.plot(r2)"
   ]
  },
  {
   "cell_type": "code",
   "execution_count": 52,
   "metadata": {},
   "outputs": [],
   "source": [
    "def evaluate_family_2(family, x, y, result_dict=None, desc=None, verbose=False):\n",
    "\n",
    "    results = {'smape': {}, 'mase*': {}}\n",
    "    results2 = {'smape': {}, 'mase*': {}} \n",
    "\n",
    "    family = Path(family)\n",
    "    trials = list(family.parent.glob(family.name + '*'))  # list for tqdm\n",
    "\n",
    "    family_preds = None\n",
    "    trial_ind = 0\n",
    "\n",
    "    if verbose:\n",
    "        print('Run name:', family.name)\n",
    "        print('Family path:', str(family))\n",
    "        print('Trials identified:', len(trials))\n",
    "        for i, t in enumerate(trials):\n",
    "            print('  {:>2d}. {}'.format(i, t))\n",
    "\n",
    "    ensemble_preds_all_trials = []\n",
    "\n",
    "    for trial in trials:\n",
    "\n",
    "        all_model_preds_in_trial = []\n",
    "\n",
    "        trial = Path(trial)\n",
    "        all_models_in_trial = list(trial.glob('*'))\n",
    "\n",
    "        for epoch_ind, single_model in enumerate(all_models_in_trial):\n",
    "\n",
    "            model = tf.keras.models.load_model(single_model)\n",
    "\n",
    "            preds = evaluation.get_predictions(model, x)\n",
    "\n",
    "            if not family_preds:\n",
    "                family_preds = [[] for _ in range(len(all_models_in_trial))]\n",
    "\n",
    "            family_preds[epoch_ind].append(preds)\n",
    "            all_model_preds_in_trial.append(preds)\n",
    "\n",
    "            tf.keras.backend.clear_session()\n",
    "\n",
    "            results['smape'][trial.name + '__epoch_{}'.format(epoch_ind + 1)] = np.nanmean(metrics.SMAPE(y, preds[:, -6:]))\n",
    "            results['mase*'][trial.name + '__epoch_{}'.format(epoch_ind + 1)] = np.nanmean(metrics.MASE(x, y, preds[:, -6:]))\n",
    "\n",
    "            ensemble_preds = np.median(np.array(all_model_preds_in_trial), axis=0)\n",
    "\n",
    "            results3['smape']['ens__' + trial.name + '__epoch_{}'.format(epoch_ind + 1)] = np.nanmean(metrics.SMAPE(y, ensemble_preds[:, -6:]))\n",
    "            results3['mase*']['ens__' + trial.name + '__epoch_{}'.format(epoch_ind + 1)] = np.nanmean(metrics.MASE(x, y, ensemble_preds[:, -6:]))\n",
    "\n",
    "            print('trial_ind', trial_ind)\n",
    "            print('epoch_ind', epoch_ind)\n",
    "            print('len(family_preds[epoch_ind])', len(family_preds[epoch_ind]))\n",
    "            print('len(all_model_preds_in_trial)', len(all_model_preds_in_trial))\n",
    "            print('len(results[smape])', len(results['smape']))\n",
    "            \n",
    "        trial_ind += 1\n",
    "\n",
    "        ensemble_preds_all_trials.append(ensemble_preds)\n",
    "\n",
    "    for i, epoch_preds in enumerate(family_preds):\n",
    "\n",
    "        preds = np.median(np.array(epoch_preds), axis=0)\n",
    "\n",
    "        results2['smape']['ens__' + family.name + '____epoch_{}'.format(i)] = np.nanmean(metrics.SMAPE(y, preds[:, -6:]))\n",
    "        results2['mase*']['ens__' + family.name + '____epoch_{}'.format(i)] = np.nanmean(metrics.MASE(x, y, preds[:, -6:]))\n",
    "\n",
    "    final_preds = np.median(np.array(ensemble_preds_all_trials), axis=0)\n",
    "\n",
    "    results2['smape']['ens__' + family.name + '____epoch_'] = np.nanmean(metrics.SMAPE(y, final_preds[:, -6:]))\n",
    "    results2['mase*']['ens__' + family.name + '____epoch_'] = np.nanmean(metrics.MASE(x, y, final_preds[:, -6:]))\n",
    "\n",
    "    return results, results2"
   ]
  },
  {
   "cell_type": "code",
   "execution_count": 54,
   "metadata": {},
   "outputs": [
    {
     "name": "stdout",
     "output_type": "stream",
     "text": [
      "Run name: opt_adam__lr_0.001__ams_True__decay_True\n",
      "Family path: ../results/training_hyperparameters/opt_adam__lr_0.001__ams_True__decay_True\n",
      "Trials identified: 4\n",
      "   0. ../results/training_hyperparameters/opt_adam__lr_0.001__ams_True__decay_True__1\n",
      "   1. ../results/training_hyperparameters/opt_adam__lr_0.001__ams_True__decay_True__2\n",
      "   2. ../results/training_hyperparameters/opt_adam__lr_0.001__ams_True__decay_True__0\n",
      "   3. ../results/training_hyperparameters/opt_adam__lr_0.001__ams_True__decay_True__3\n",
      "trial_ind 0\n",
      "epoch_ind 0\n",
      "len(family_preds[epoch_ind]) 1\n",
      "len(all_model_preds_in_trial) 1\n",
      "len(results[smape]) 2\n",
      "trial_ind 0\n",
      "epoch_ind 1\n",
      "len(family_preds[epoch_ind]) 1\n",
      "len(all_model_preds_in_trial) 2\n",
      "len(results[smape]) 4\n",
      "trial_ind 0\n",
      "epoch_ind 2\n",
      "len(family_preds[epoch_ind]) 1\n",
      "len(all_model_preds_in_trial) 3\n",
      "len(results[smape]) 6\n",
      "trial_ind 0\n",
      "epoch_ind 3\n",
      "len(family_preds[epoch_ind]) 1\n",
      "len(all_model_preds_in_trial) 4\n",
      "len(results[smape]) 8\n",
      "trial_ind 0\n",
      "epoch_ind 4\n",
      "len(family_preds[epoch_ind]) 1\n",
      "len(all_model_preds_in_trial) 5\n",
      "len(results[smape]) 10\n",
      "trial_ind 0\n",
      "epoch_ind 5\n",
      "len(family_preds[epoch_ind]) 1\n",
      "len(all_model_preds_in_trial) 6\n",
      "len(results[smape]) 12\n",
      "trial_ind 0\n",
      "epoch_ind 6\n",
      "len(family_preds[epoch_ind]) 1\n",
      "len(all_model_preds_in_trial) 7\n",
      "len(results[smape]) 14\n",
      "trial_ind 0\n",
      "epoch_ind 7\n",
      "len(family_preds[epoch_ind]) 1\n",
      "len(all_model_preds_in_trial) 8\n",
      "len(results[smape]) 16\n",
      "trial_ind 0\n",
      "epoch_ind 8\n",
      "len(family_preds[epoch_ind]) 1\n",
      "len(all_model_preds_in_trial) 9\n",
      "len(results[smape]) 18\n",
      "trial_ind 0\n",
      "epoch_ind 9\n",
      "len(family_preds[epoch_ind]) 1\n",
      "len(all_model_preds_in_trial) 10\n",
      "len(results[smape]) 20\n",
      "trial_ind 0\n",
      "epoch_ind 10\n",
      "len(family_preds[epoch_ind]) 1\n",
      "len(all_model_preds_in_trial) 11\n",
      "len(results[smape]) 22\n",
      "trial_ind 0\n",
      "epoch_ind 11\n",
      "len(family_preds[epoch_ind]) 1\n",
      "len(all_model_preds_in_trial) 12\n",
      "len(results[smape]) 24\n",
      "trial_ind 0\n",
      "epoch_ind 12\n",
      "len(family_preds[epoch_ind]) 1\n",
      "len(all_model_preds_in_trial) 13\n",
      "len(results[smape]) 26\n",
      "trial_ind 0\n",
      "epoch_ind 13\n",
      "len(family_preds[epoch_ind]) 1\n",
      "len(all_model_preds_in_trial) 14\n",
      "len(results[smape]) 28\n",
      "trial_ind 0\n",
      "epoch_ind 14\n",
      "len(family_preds[epoch_ind]) 1\n",
      "len(all_model_preds_in_trial) 15\n",
      "len(results[smape]) 30\n",
      "trial_ind 1\n",
      "epoch_ind 0\n",
      "len(family_preds[epoch_ind]) 2\n",
      "len(all_model_preds_in_trial) 1\n",
      "len(results[smape]) 32\n",
      "trial_ind 1\n",
      "epoch_ind 1\n",
      "len(family_preds[epoch_ind]) 2\n",
      "len(all_model_preds_in_trial) 2\n",
      "len(results[smape]) 34\n",
      "trial_ind 1\n",
      "epoch_ind 2\n",
      "len(family_preds[epoch_ind]) 2\n",
      "len(all_model_preds_in_trial) 3\n",
      "len(results[smape]) 36\n",
      "trial_ind 1\n",
      "epoch_ind 3\n",
      "len(family_preds[epoch_ind]) 2\n",
      "len(all_model_preds_in_trial) 4\n",
      "len(results[smape]) 38\n",
      "trial_ind 1\n",
      "epoch_ind 4\n",
      "len(family_preds[epoch_ind]) 2\n",
      "len(all_model_preds_in_trial) 5\n",
      "len(results[smape]) 40\n",
      "trial_ind 1\n",
      "epoch_ind 5\n",
      "len(family_preds[epoch_ind]) 2\n",
      "len(all_model_preds_in_trial) 6\n",
      "len(results[smape]) 42\n",
      "trial_ind 1\n",
      "epoch_ind 6\n",
      "len(family_preds[epoch_ind]) 2\n",
      "len(all_model_preds_in_trial) 7\n",
      "len(results[smape]) 44\n",
      "trial_ind 1\n",
      "epoch_ind 7\n",
      "len(family_preds[epoch_ind]) 2\n",
      "len(all_model_preds_in_trial) 8\n",
      "len(results[smape]) 46\n",
      "trial_ind 1\n",
      "epoch_ind 8\n",
      "len(family_preds[epoch_ind]) 2\n",
      "len(all_model_preds_in_trial) 9\n",
      "len(results[smape]) 48\n",
      "trial_ind 1\n",
      "epoch_ind 9\n",
      "len(family_preds[epoch_ind]) 2\n",
      "len(all_model_preds_in_trial) 10\n",
      "len(results[smape]) 50\n",
      "trial_ind 1\n",
      "epoch_ind 10\n",
      "len(family_preds[epoch_ind]) 2\n",
      "len(all_model_preds_in_trial) 11\n",
      "len(results[smape]) 52\n",
      "trial_ind 1\n",
      "epoch_ind 11\n",
      "len(family_preds[epoch_ind]) 2\n",
      "len(all_model_preds_in_trial) 12\n",
      "len(results[smape]) 54\n",
      "trial_ind 1\n",
      "epoch_ind 12\n",
      "len(family_preds[epoch_ind]) 2\n",
      "len(all_model_preds_in_trial) 13\n",
      "len(results[smape]) 56\n",
      "trial_ind 1\n",
      "epoch_ind 13\n",
      "len(family_preds[epoch_ind]) 2\n",
      "len(all_model_preds_in_trial) 14\n",
      "len(results[smape]) 58\n",
      "trial_ind 1\n",
      "epoch_ind 14\n",
      "len(family_preds[epoch_ind]) 2\n",
      "len(all_model_preds_in_trial) 15\n",
      "len(results[smape]) 60\n",
      "trial_ind 2\n",
      "epoch_ind 0\n",
      "len(family_preds[epoch_ind]) 3\n",
      "len(all_model_preds_in_trial) 1\n",
      "len(results[smape]) 62\n",
      "trial_ind 2\n",
      "epoch_ind 1\n",
      "len(family_preds[epoch_ind]) 3\n",
      "len(all_model_preds_in_trial) 2\n",
      "len(results[smape]) 64\n",
      "trial_ind 2\n",
      "epoch_ind 2\n",
      "len(family_preds[epoch_ind]) 3\n",
      "len(all_model_preds_in_trial) 3\n",
      "len(results[smape]) 66\n",
      "trial_ind 2\n",
      "epoch_ind 3\n",
      "len(family_preds[epoch_ind]) 3\n",
      "len(all_model_preds_in_trial) 4\n",
      "len(results[smape]) 68\n",
      "trial_ind 2\n",
      "epoch_ind 4\n",
      "len(family_preds[epoch_ind]) 3\n",
      "len(all_model_preds_in_trial) 5\n",
      "len(results[smape]) 70\n",
      "trial_ind 2\n",
      "epoch_ind 5\n",
      "len(family_preds[epoch_ind]) 3\n",
      "len(all_model_preds_in_trial) 6\n",
      "len(results[smape]) 72\n",
      "trial_ind 2\n",
      "epoch_ind 6\n",
      "len(family_preds[epoch_ind]) 3\n",
      "len(all_model_preds_in_trial) 7\n",
      "len(results[smape]) 74\n",
      "trial_ind 2\n",
      "epoch_ind 7\n",
      "len(family_preds[epoch_ind]) 3\n",
      "len(all_model_preds_in_trial) 8\n",
      "len(results[smape]) 76\n",
      "trial_ind 2\n",
      "epoch_ind 8\n",
      "len(family_preds[epoch_ind]) 3\n",
      "len(all_model_preds_in_trial) 9\n",
      "len(results[smape]) 78\n",
      "trial_ind 2\n",
      "epoch_ind 9\n",
      "len(family_preds[epoch_ind]) 3\n",
      "len(all_model_preds_in_trial) 10\n",
      "len(results[smape]) 80\n",
      "trial_ind 2\n",
      "epoch_ind 10\n",
      "len(family_preds[epoch_ind]) 3\n",
      "len(all_model_preds_in_trial) 11\n",
      "len(results[smape]) 82\n",
      "trial_ind 2\n",
      "epoch_ind 11\n",
      "len(family_preds[epoch_ind]) 3\n",
      "len(all_model_preds_in_trial) 12\n",
      "len(results[smape]) 84\n",
      "trial_ind 2\n",
      "epoch_ind 12\n",
      "len(family_preds[epoch_ind]) 3\n",
      "len(all_model_preds_in_trial) 13\n",
      "len(results[smape]) 86\n",
      "trial_ind 2\n",
      "epoch_ind 13\n",
      "len(family_preds[epoch_ind]) 3\n",
      "len(all_model_preds_in_trial) 14\n",
      "len(results[smape]) 88\n",
      "trial_ind 2\n",
      "epoch_ind 14\n",
      "len(family_preds[epoch_ind]) 3\n",
      "len(all_model_preds_in_trial) 15\n",
      "len(results[smape]) 90\n",
      "trial_ind 3\n",
      "epoch_ind 0\n",
      "len(family_preds[epoch_ind]) 4\n",
      "len(all_model_preds_in_trial) 1\n",
      "len(results[smape]) 92\n",
      "trial_ind 3\n",
      "epoch_ind 1\n",
      "len(family_preds[epoch_ind]) 4\n",
      "len(all_model_preds_in_trial) 2\n",
      "len(results[smape]) 94\n",
      "trial_ind 3\n",
      "epoch_ind 2\n",
      "len(family_preds[epoch_ind]) 4\n",
      "len(all_model_preds_in_trial) 3\n",
      "len(results[smape]) 96\n",
      "trial_ind 3\n",
      "epoch_ind 3\n",
      "len(family_preds[epoch_ind]) 4\n",
      "len(all_model_preds_in_trial) 4\n",
      "len(results[smape]) 98\n",
      "trial_ind 3\n",
      "epoch_ind 4\n",
      "len(family_preds[epoch_ind]) 4\n",
      "len(all_model_preds_in_trial) 5\n",
      "len(results[smape]) 100\n",
      "trial_ind 3\n",
      "epoch_ind 5\n",
      "len(family_preds[epoch_ind]) 4\n",
      "len(all_model_preds_in_trial) 6\n",
      "len(results[smape]) 102\n",
      "trial_ind 3\n",
      "epoch_ind 6\n",
      "len(family_preds[epoch_ind]) 4\n",
      "len(all_model_preds_in_trial) 7\n",
      "len(results[smape]) 104\n",
      "trial_ind 3\n",
      "epoch_ind 7\n",
      "len(family_preds[epoch_ind]) 4\n",
      "len(all_model_preds_in_trial) 8\n",
      "len(results[smape]) 106\n",
      "trial_ind 3\n",
      "epoch_ind 8\n",
      "len(family_preds[epoch_ind]) 4\n",
      "len(all_model_preds_in_trial) 9\n",
      "len(results[smape]) 108\n",
      "trial_ind 3\n",
      "epoch_ind 9\n",
      "len(family_preds[epoch_ind]) 4\n",
      "len(all_model_preds_in_trial) 10\n",
      "len(results[smape]) 110\n",
      "trial_ind 3\n",
      "epoch_ind 10\n",
      "len(family_preds[epoch_ind]) 4\n",
      "len(all_model_preds_in_trial) 11\n",
      "len(results[smape]) 112\n",
      "trial_ind 3\n",
      "epoch_ind 11\n",
      "len(family_preds[epoch_ind]) 4\n",
      "len(all_model_preds_in_trial) 12\n",
      "len(results[smape]) 114\n",
      "trial_ind 3\n",
      "epoch_ind 12\n",
      "len(family_preds[epoch_ind]) 4\n",
      "len(all_model_preds_in_trial) 13\n",
      "len(results[smape]) 116\n",
      "trial_ind 3\n",
      "epoch_ind 13\n",
      "len(family_preds[epoch_ind]) 4\n",
      "len(all_model_preds_in_trial) 14\n",
      "len(results[smape]) 118\n",
      "trial_ind 3\n",
      "epoch_ind 14\n",
      "len(family_preds[epoch_ind]) 4\n",
      "len(all_model_preds_in_trial) 15\n",
      "len(results[smape]) 120\n"
     ]
    }
   ],
   "source": [
    "res1, res2 = evaluate_family_2(family, X_test, y_test, verbose=True)"
   ]
  },
  {
   "cell_type": "code",
   "execution_count": 56,
   "metadata": {},
   "outputs": [
    {
     "data": {
      "text/plain": [
       "[<matplotlib.lines.Line2D at 0x7f49c418bcf8>]"
      ]
     },
     "execution_count": 56,
     "metadata": {},
     "output_type": "execute_result"
    },
    {
     "data": {
      "image/png": "[encoded data removed]",
      "text/plain": [
       "<Figure size 432x288 with 1 Axes>"
      ]
     },
     "metadata": {
      "needs_background": "light"
     },
     "output_type": "display_data"
    }
   ],
   "source": [
    "subset = {k: v for k, v in res1['smape'].items() if 'opt_adam__lr_0.001__ams_True__decay_True__0' in k}\n",
    "r1 = [v for k, v in subset.items() if 'ens' not in k]\n",
    "r2 = [v for k, v in subset.items() if 'ens' in k]\n",
    "plt.plot(r1)\n",
    "plt.plot(r2)"
   ]
  },
  {
   "cell_type": "code",
   "execution_count": 57,
   "metadata": {},
   "outputs": [],
   "source": [
    "def evaluate_family_3(family, x, y, result_dict=None, desc=None, verbose=False):\n",
    "\n",
    "    results = {'smape': {}, 'mase*': {}}\n",
    "    results2 = {'smape': {}, 'mase*': {}} \n",
    "    results3 = {'smape': {}, 'mase*': {}} \n",
    "\n",
    "    family = Path(family)\n",
    "    trials = list(family.parent.glob(family.name + '*'))  # list for tqdm\n",
    "\n",
    "    family_preds = None\n",
    "    trial_ind = 0\n",
    "\n",
    "    if verbose:\n",
    "        print('Run name:', family.name)\n",
    "        print('Family path:', str(family))\n",
    "        print('Trials identified:', len(trials))\n",
    "        for i, t in enumerate(trials):\n",
    "            print('  {:>2d}. {}'.format(i, t))\n",
    "\n",
    "    ensemble_preds_all_trials = []\n",
    "\n",
    "    for trial in trials:\n",
    "\n",
    "        all_model_preds_in_trial = []\n",
    "\n",
    "        trial = Path(trial)\n",
    "        all_models_in_trial = list(trial.glob('*'))\n",
    "\n",
    "        for epoch_ind, single_model in enumerate(all_models_in_trial):\n",
    "\n",
    "            model = tf.keras.models.load_model(single_model)\n",
    "\n",
    "            preds = evaluation.get_predictions(model, x)\n",
    "\n",
    "            if not family_preds:\n",
    "                family_preds = [[] for _ in range(len(all_models_in_trial))]\n",
    "\n",
    "            family_preds[epoch_ind].append(preds)\n",
    "            all_model_preds_in_trial.append(preds)\n",
    "\n",
    "            tf.keras.backend.clear_session()\n",
    "\n",
    "            results['smape'][trial.name + '__epoch_{}'.format(epoch_ind + 1)] = np.nanmean(metrics.SMAPE(y, preds[:, -6:]))\n",
    "            results['mase*'][trial.name + '__epoch_{}'.format(epoch_ind + 1)] = np.nanmean(metrics.MASE(x, y, preds[:, -6:]))\n",
    "\n",
    "            ensemble_preds = np.median(np.array(all_model_preds_in_trial), axis=0)\n",
    "\n",
    "            results3['smape']['ens__' + trial.name + '__epoch_{}'.format(epoch_ind + 1)] = np.nanmean(metrics.SMAPE(y, ensemble_preds[:, -6:]))\n",
    "            results3['mase*']['ens__' + trial.name + '__epoch_{}'.format(epoch_ind + 1)] = np.nanmean(metrics.MASE(x, y, ensemble_preds[:, -6:]))\n",
    "\n",
    "            print('trial_ind', trial_ind)\n",
    "            print('epoch_ind', epoch_ind)\n",
    "            print('len(family_preds[epoch_ind])', len(family_preds[epoch_ind]))\n",
    "            print('len(all_model_preds_in_trial)', len(all_model_preds_in_trial))\n",
    "            print('len(results[smape])', len(results['smape']))\n",
    "            \n",
    "        trial_ind += 1\n",
    "\n",
    "        ensemble_preds_all_trials.append(ensemble_preds)\n",
    "\n",
    "    for i, epoch_preds in enumerate(family_preds):\n",
    "\n",
    "        preds = np.median(np.array(epoch_preds), axis=0)\n",
    "\n",
    "        results2['smape']['ens__' + family.name + '____epoch_{}'.format(i)] = np.nanmean(metrics.SMAPE(y, preds[:, -6:]))\n",
    "        results2['mase*']['ens__' + family.name + '____epoch_{}'.format(i)] = np.nanmean(metrics.MASE(x, y, preds[:, -6:]))\n",
    "\n",
    "    final_preds = np.median(np.array(ensemble_preds_all_trials), axis=0)\n",
    "\n",
    "    results2['smape']['ens__' + family.name + '____epoch_'] = np.nanmean(metrics.SMAPE(y, final_preds[:, -6:]))\n",
    "    results2['mase*']['ens__' + family.name + '____epoch_'] = np.nanmean(metrics.MASE(x, y, final_preds[:, -6:]))\n",
    "\n",
    "    return results, results2, results3"
   ]
  },
  {
   "cell_type": "code",
   "execution_count": 58,
   "metadata": {
    "scrolled": true
   },
   "outputs": [
    {
     "name": "stdout",
     "output_type": "stream",
     "text": [
      "Run name: opt_adam__lr_0.001__ams_True__decay_True\n",
      "Family path: ../results/training_hyperparameters/opt_adam__lr_0.001__ams_True__decay_True\n",
      "Trials identified: 4\n",
      "   0. ../results/training_hyperparameters/opt_adam__lr_0.001__ams_True__decay_True__1\n",
      "   1. ../results/training_hyperparameters/opt_adam__lr_0.001__ams_True__decay_True__2\n",
      "   2. ../results/training_hyperparameters/opt_adam__lr_0.001__ams_True__decay_True__0\n",
      "   3. ../results/training_hyperparameters/opt_adam__lr_0.001__ams_True__decay_True__3\n",
      "trial_ind 0\n",
      "epoch_ind 0\n",
      "len(family_preds[epoch_ind]) 1\n",
      "len(all_model_preds_in_trial) 1\n",
      "len(results[smape]) 1\n",
      "trial_ind 0\n",
      "epoch_ind 1\n",
      "len(family_preds[epoch_ind]) 1\n",
      "len(all_model_preds_in_trial) 2\n",
      "len(results[smape]) 2\n",
      "trial_ind 0\n",
      "epoch_ind 2\n",
      "len(family_preds[epoch_ind]) 1\n",
      "len(all_model_preds_in_trial) 3\n",
      "len(results[smape]) 3\n",
      "trial_ind 0\n",
      "epoch_ind 3\n",
      "len(family_preds[epoch_ind]) 1\n",
      "len(all_model_preds_in_trial) 4\n",
      "len(results[smape]) 4\n",
      "trial_ind 0\n",
      "epoch_ind 4\n",
      "len(family_preds[epoch_ind]) 1\n",
      "len(all_model_preds_in_trial) 5\n",
      "len(results[smape]) 5\n",
      "trial_ind 0\n",
      "epoch_ind 5\n",
      "len(family_preds[epoch_ind]) 1\n",
      "len(all_model_preds_in_trial) 6\n",
      "len(results[smape]) 6\n",
      "trial_ind 0\n",
      "epoch_ind 6\n",
      "len(family_preds[epoch_ind]) 1\n",
      "len(all_model_preds_in_trial) 7\n",
      "len(results[smape]) 7\n",
      "trial_ind 0\n",
      "epoch_ind 7\n",
      "len(family_preds[epoch_ind]) 1\n",
      "len(all_model_preds_in_trial) 8\n",
      "len(results[smape]) 8\n",
      "trial_ind 0\n",
      "epoch_ind 8\n",
      "len(family_preds[epoch_ind]) 1\n",
      "len(all_model_preds_in_trial) 9\n",
      "len(results[smape]) 9\n",
      "trial_ind 0\n",
      "epoch_ind 9\n",
      "len(family_preds[epoch_ind]) 1\n",
      "len(all_model_preds_in_trial) 10\n",
      "len(results[smape]) 10\n",
      "trial_ind 0\n",
      "epoch_ind 10\n",
      "len(family_preds[epoch_ind]) 1\n",
      "len(all_model_preds_in_trial) 11\n",
      "len(results[smape]) 11\n",
      "trial_ind 0\n",
      "epoch_ind 11\n",
      "len(family_preds[epoch_ind]) 1\n",
      "len(all_model_preds_in_trial) 12\n",
      "len(results[smape]) 12\n",
      "trial_ind 0\n",
      "epoch_ind 12\n",
      "len(family_preds[epoch_ind]) 1\n",
      "len(all_model_preds_in_trial) 13\n",
      "len(results[smape]) 13\n",
      "trial_ind 0\n",
      "epoch_ind 13\n",
      "len(family_preds[epoch_ind]) 1\n",
      "len(all_model_preds_in_trial) 14\n",
      "len(results[smape]) 14\n",
      "trial_ind 0\n",
      "epoch_ind 14\n",
      "len(family_preds[epoch_ind]) 1\n",
      "len(all_model_preds_in_trial) 15\n",
      "len(results[smape]) 15\n",
      "trial_ind 1\n",
      "epoch_ind 0\n",
      "len(family_preds[epoch_ind]) 2\n",
      "len(all_model_preds_in_trial) 1\n",
      "len(results[smape]) 16\n",
      "trial_ind 1\n",
      "epoch_ind 1\n",
      "len(family_preds[epoch_ind]) 2\n",
      "len(all_model_preds_in_trial) 2\n",
      "len(results[smape]) 17\n",
      "trial_ind 1\n",
      "epoch_ind 2\n",
      "len(family_preds[epoch_ind]) 2\n",
      "len(all_model_preds_in_trial) 3\n",
      "len(results[smape]) 18\n",
      "trial_ind 1\n",
      "epoch_ind 3\n",
      "len(family_preds[epoch_ind]) 2\n",
      "len(all_model_preds_in_trial) 4\n",
      "len(results[smape]) 19\n",
      "trial_ind 1\n",
      "epoch_ind 4\n",
      "len(family_preds[epoch_ind]) 2\n",
      "len(all_model_preds_in_trial) 5\n",
      "len(results[smape]) 20\n",
      "trial_ind 1\n",
      "epoch_ind 5\n",
      "len(family_preds[epoch_ind]) 2\n",
      "len(all_model_preds_in_trial) 6\n",
      "len(results[smape]) 21\n",
      "trial_ind 1\n",
      "epoch_ind 6\n",
      "len(family_preds[epoch_ind]) 2\n",
      "len(all_model_preds_in_trial) 7\n",
      "len(results[smape]) 22\n",
      "trial_ind 1\n",
      "epoch_ind 7\n",
      "len(family_preds[epoch_ind]) 2\n",
      "len(all_model_preds_in_trial) 8\n",
      "len(results[smape]) 23\n",
      "trial_ind 1\n",
      "epoch_ind 8\n",
      "len(family_preds[epoch_ind]) 2\n",
      "len(all_model_preds_in_trial) 9\n",
      "len(results[smape]) 24\n",
      "trial_ind 1\n",
      "epoch_ind 9\n",
      "len(family_preds[epoch_ind]) 2\n",
      "len(all_model_preds_in_trial) 10\n",
      "len(results[smape]) 25\n",
      "trial_ind 1\n",
      "epoch_ind 10\n",
      "len(family_preds[epoch_ind]) 2\n",
      "len(all_model_preds_in_trial) 11\n",
      "len(results[smape]) 26\n",
      "trial_ind 1\n",
      "epoch_ind 11\n",
      "len(family_preds[epoch_ind]) 2\n",
      "len(all_model_preds_in_trial) 12\n",
      "len(results[smape]) 27\n",
      "trial_ind 1\n",
      "epoch_ind 12\n",
      "len(family_preds[epoch_ind]) 2\n",
      "len(all_model_preds_in_trial) 13\n",
      "len(results[smape]) 28\n",
      "trial_ind 1\n",
      "epoch_ind 13\n",
      "len(family_preds[epoch_ind]) 2\n",
      "len(all_model_preds_in_trial) 14\n",
      "len(results[smape]) 29\n",
      "trial_ind 1\n",
      "epoch_ind 14\n",
      "len(family_preds[epoch_ind]) 2\n",
      "len(all_model_preds_in_trial) 15\n",
      "len(results[smape]) 30\n",
      "trial_ind 2\n",
      "epoch_ind 0\n",
      "len(family_preds[epoch_ind]) 3\n",
      "len(all_model_preds_in_trial) 1\n",
      "len(results[smape]) 31\n",
      "trial_ind 2\n",
      "epoch_ind 1\n",
      "len(family_preds[epoch_ind]) 3\n",
      "len(all_model_preds_in_trial) 2\n",
      "len(results[smape]) 32\n",
      "trial_ind 2\n",
      "epoch_ind 2\n",
      "len(family_preds[epoch_ind]) 3\n",
      "len(all_model_preds_in_trial) 3\n",
      "len(results[smape]) 33\n",
      "trial_ind 2\n",
      "epoch_ind 3\n",
      "len(family_preds[epoch_ind]) 3\n",
      "len(all_model_preds_in_trial) 4\n",
      "len(results[smape]) 34\n",
      "trial_ind 2\n",
      "epoch_ind 4\n",
      "len(family_preds[epoch_ind]) 3\n",
      "len(all_model_preds_in_trial) 5\n",
      "len(results[smape]) 35\n",
      "trial_ind 2\n",
      "epoch_ind 5\n",
      "len(family_preds[epoch_ind]) 3\n",
      "len(all_model_preds_in_trial) 6\n",
      "len(results[smape]) 36\n",
      "trial_ind 2\n",
      "epoch_ind 6\n",
      "len(family_preds[epoch_ind]) 3\n",
      "len(all_model_preds_in_trial) 7\n",
      "len(results[smape]) 37\n",
      "trial_ind 2\n",
      "epoch_ind 7\n",
      "len(family_preds[epoch_ind]) 3\n",
      "len(all_model_preds_in_trial) 8\n",
      "len(results[smape]) 38\n",
      "trial_ind 2\n",
      "epoch_ind 8\n",
      "len(family_preds[epoch_ind]) 3\n",
      "len(all_model_preds_in_trial) 9\n",
      "len(results[smape]) 39\n",
      "trial_ind 2\n",
      "epoch_ind 9\n",
      "len(family_preds[epoch_ind]) 3\n",
      "len(all_model_preds_in_trial) 10\n",
      "len(results[smape]) 40\n",
      "trial_ind 2\n",
      "epoch_ind 10\n",
      "len(family_preds[epoch_ind]) 3\n",
      "len(all_model_preds_in_trial) 11\n",
      "len(results[smape]) 41\n",
      "trial_ind 2\n",
      "epoch_ind 11\n",
      "len(family_preds[epoch_ind]) 3\n",
      "len(all_model_preds_in_trial) 12\n",
      "len(results[smape]) 42\n",
      "trial_ind 2\n",
      "epoch_ind 12\n",
      "len(family_preds[epoch_ind]) 3\n",
      "len(all_model_preds_in_trial) 13\n",
      "len(results[smape]) 43\n",
      "trial_ind 2\n",
      "epoch_ind 13\n",
      "len(family_preds[epoch_ind]) 3\n",
      "len(all_model_preds_in_trial) 14\n",
      "len(results[smape]) 44\n",
      "trial_ind 2\n",
      "epoch_ind 14\n",
      "len(family_preds[epoch_ind]) 3\n",
      "len(all_model_preds_in_trial) 15\n",
      "len(results[smape]) 45\n",
      "trial_ind 3\n",
      "epoch_ind 0\n",
      "len(family_preds[epoch_ind]) 4\n",
      "len(all_model_preds_in_trial) 1\n",
      "len(results[smape]) 46\n",
      "trial_ind 3\n",
      "epoch_ind 1\n",
      "len(family_preds[epoch_ind]) 4\n",
      "len(all_model_preds_in_trial) 2\n",
      "len(results[smape]) 47\n",
      "trial_ind 3\n",
      "epoch_ind 2\n",
      "len(family_preds[epoch_ind]) 4\n",
      "len(all_model_preds_in_trial) 3\n",
      "len(results[smape]) 48\n",
      "trial_ind 3\n",
      "epoch_ind 3\n",
      "len(family_preds[epoch_ind]) 4\n",
      "len(all_model_preds_in_trial) 4\n",
      "len(results[smape]) 49\n",
      "trial_ind 3\n",
      "epoch_ind 4\n",
      "len(family_preds[epoch_ind]) 4\n",
      "len(all_model_preds_in_trial) 5\n",
      "len(results[smape]) 50\n",
      "trial_ind 3\n",
      "epoch_ind 5\n",
      "len(family_preds[epoch_ind]) 4\n",
      "len(all_model_preds_in_trial) 6\n",
      "len(results[smape]) 51\n",
      "trial_ind 3\n",
      "epoch_ind 6\n",
      "len(family_preds[epoch_ind]) 4\n",
      "len(all_model_preds_in_trial) 7\n",
      "len(results[smape]) 52\n",
      "trial_ind 3\n",
      "epoch_ind 7\n",
      "len(family_preds[epoch_ind]) 4\n",
      "len(all_model_preds_in_trial) 8\n",
      "len(results[smape]) 53\n",
      "trial_ind 3\n",
      "epoch_ind 8\n",
      "len(family_preds[epoch_ind]) 4\n",
      "len(all_model_preds_in_trial) 9\n",
      "len(results[smape]) 54\n",
      "trial_ind 3\n",
      "epoch_ind 9\n",
      "len(family_preds[epoch_ind]) 4\n",
      "len(all_model_preds_in_trial) 10\n",
      "len(results[smape]) 55\n",
      "trial_ind 3\n",
      "epoch_ind 10\n",
      "len(family_preds[epoch_ind]) 4\n",
      "len(all_model_preds_in_trial) 11\n",
      "len(results[smape]) 56\n",
      "trial_ind 3\n",
      "epoch_ind 11\n",
      "len(family_preds[epoch_ind]) 4\n",
      "len(all_model_preds_in_trial) 12\n",
      "len(results[smape]) 57\n",
      "trial_ind 3\n",
      "epoch_ind 12\n",
      "len(family_preds[epoch_ind]) 4\n",
      "len(all_model_preds_in_trial) 13\n",
      "len(results[smape]) 58\n",
      "trial_ind 3\n",
      "epoch_ind 13\n",
      "len(family_preds[epoch_ind]) 4\n",
      "len(all_model_preds_in_trial) 14\n",
      "len(results[smape]) 59\n",
      "trial_ind 3\n",
      "epoch_ind 14\n",
      "len(family_preds[epoch_ind]) 4\n",
      "len(all_model_preds_in_trial) 15\n",
      "len(results[smape]) 60\n"
     ]
    }
   ],
   "source": [
    "res1, res2, res3 = evaluate_family_3(family, X_test, y_test, verbose=True)"
   ]
  },
  {
   "cell_type": "code",
   "execution_count": 59,
   "metadata": {},
   "outputs": [
    {
     "data": {
      "text/plain": [
       "[<matplotlib.lines.Line2D at 0x7f4a60007d30>]"
      ]
     },
     "execution_count": 59,
     "metadata": {},
     "output_type": "execute_result"
    },
    {
     "data": {
      "image/png": "[encoded data removed]",
      "text/plain": [
       "<Figure size 432x288 with 1 Axes>"
      ]
     },
     "metadata": {
      "needs_background": "light"
     },
     "output_type": "display_data"
    }
   ],
   "source": [
    "subset = {k: v for k, v in res1['smape'].items() if 'opt_adam__lr_0.001__ams_True__decay_True__0' in k}\n",
    "r1 = [v for k, v in subset.items() if 'ens' not in k]\n",
    "plt.plot(r1)"
   ]
  },
  {
   "cell_type": "code",
   "execution_count": 60,
   "metadata": {},
   "outputs": [],
   "source": [
    "def evaluate_family_4(family, x, y, result_dict=None, desc=None, verbose=False):\n",
    "\n",
    "    results = {'smape': {}, 'mase*': {}}\n",
    "    results2 = {'smape': {}, 'mase*': {}} \n",
    "    results3 = {'smape': {}, 'mase*': {}} \n",
    "\n",
    "    family = Path(family)\n",
    "    trials = list(family.parent.glob(family.name + '*'))  # list for tqdm\n",
    "\n",
    "    family_preds = None\n",
    "    trial_ind = 0\n",
    "\n",
    "    if verbose:\n",
    "        print('Run name:', family.name)\n",
    "        print('Family path:', str(family))\n",
    "        print('Trials identified:', len(trials))\n",
    "        for i, t in enumerate(trials):\n",
    "            print('  {:>2d}. {}'.format(i, t))\n",
    "\n",
    "    ensemble_preds_all_trials = []\n",
    "\n",
    "    for trial in trials:\n",
    "\n",
    "        all_model_preds_in_trial = []\n",
    "\n",
    "        trial = Path(trial)\n",
    "        all_models_in_trial = list(trial.glob('*'))\n",
    "\n",
    "        for epoch_ind, single_model in enumerate(all_models_in_trial):\n",
    "\n",
    "            model = tf.keras.models.load_model(single_model)\n",
    "\n",
    "            preds = evaluation.get_predictions(model, x)\n",
    "\n",
    "            if not family_preds:\n",
    "                family_preds = [[] for _ in range(len(all_models_in_trial))]\n",
    "\n",
    "            family_preds[epoch_ind].append(preds)\n",
    "            all_model_preds_in_trial.append(preds)\n",
    "\n",
    "            tf.keras.backend.clear_session()\n",
    "\n",
    "            results['smape'][trial.name + '__epoch_{}'.format(epoch_ind + 1)] = np.nanmean(metrics.SMAPE(y, preds[:, -6:]))\n",
    "            results['mase*'][trial.name + '__epoch_{}'.format(epoch_ind + 1)] = np.nanmean(metrics.MASE(x, y, preds[:, -6:]))\n",
    "\n",
    "            ensemble_preds = np.median(np.array(all_model_preds_in_trial), axis=0)\n",
    "\n",
    "            results3['smape']['ens__' + trial.name + '__epoch_{}'.format(epoch_ind + 1)] = np.nanmean(metrics.SMAPE(y, ensemble_preds[:, -6:]))\n",
    "            results3['mase*']['ens__' + trial.name + '__epoch_{}'.format(epoch_ind + 1)] = np.nanmean(metrics.MASE(x, y, ensemble_preds[:, -6:]))\n",
    "\n",
    "            print('trial_ind', trial_ind)\n",
    "            print('epoch_ind', epoch_ind)\n",
    "            print('len(family_preds[epoch_ind])', len(family_preds[epoch_ind]))\n",
    "            print('len(all_model_preds_in_trial)', len(all_model_preds_in_trial))\n",
    "            print('len(results[smape])', len(results['smape']))\n",
    "            \n",
    "        return results, results3\n",
    "        trial_ind += 1\n",
    "\n",
    "        ensemble_preds_all_trials.append(ensemble_preds)\n",
    "\n",
    "    for i, epoch_preds in enumerate(family_preds):\n",
    "\n",
    "        preds = np.median(np.array(epoch_preds), axis=0)\n",
    "\n",
    "        results2['smape']['ens__' + family.name + '____epoch_{}'.format(i)] = np.nanmean(metrics.SMAPE(y, preds[:, -6:]))\n",
    "        results2['mase*']['ens__' + family.name + '____epoch_{}'.format(i)] = np.nanmean(metrics.MASE(x, y, preds[:, -6:]))\n",
    "\n",
    "    final_preds = np.median(np.array(ensemble_preds_all_trials), axis=0)\n",
    "\n",
    "    results2['smape']['ens__' + family.name + '____epoch_'] = np.nanmean(metrics.SMAPE(y, final_preds[:, -6:]))\n",
    "    results2['mase*']['ens__' + family.name + '____epoch_'] = np.nanmean(metrics.MASE(x, y, final_preds[:, -6:]))\n",
    "\n",
    "    return results, results2, results3"
   ]
  },
  {
   "cell_type": "code",
   "execution_count": 61,
   "metadata": {},
   "outputs": [
    {
     "name": "stdout",
     "output_type": "stream",
     "text": [
      "Run name: opt_adam__lr_0.001__ams_True__decay_True\n",
      "Family path: ../results/training_hyperparameters/opt_adam__lr_0.001__ams_True__decay_True\n",
      "Trials identified: 4\n",
      "   0. ../results/training_hyperparameters/opt_adam__lr_0.001__ams_True__decay_True__1\n",
      "   1. ../results/training_hyperparameters/opt_adam__lr_0.001__ams_True__decay_True__2\n",
      "   2. ../results/training_hyperparameters/opt_adam__lr_0.001__ams_True__decay_True__0\n",
      "   3. ../results/training_hyperparameters/opt_adam__lr_0.001__ams_True__decay_True__3\n",
      "trial_ind 0\n",
      "epoch_ind 0\n",
      "len(family_preds[epoch_ind]) 1\n",
      "len(all_model_preds_in_trial) 1\n",
      "len(results[smape]) 1\n",
      "trial_ind 0\n",
      "epoch_ind 1\n",
      "len(family_preds[epoch_ind]) 1\n",
      "len(all_model_preds_in_trial) 2\n",
      "len(results[smape]) 2\n",
      "trial_ind 0\n",
      "epoch_ind 2\n",
      "len(family_preds[epoch_ind]) 1\n",
      "len(all_model_preds_in_trial) 3\n",
      "len(results[smape]) 3\n",
      "trial_ind 0\n",
      "epoch_ind 3\n",
      "len(family_preds[epoch_ind]) 1\n",
      "len(all_model_preds_in_trial) 4\n",
      "len(results[smape]) 4\n",
      "trial_ind 0\n",
      "epoch_ind 4\n",
      "len(family_preds[epoch_ind]) 1\n",
      "len(all_model_preds_in_trial) 5\n",
      "len(results[smape]) 5\n",
      "trial_ind 0\n",
      "epoch_ind 5\n",
      "len(family_preds[epoch_ind]) 1\n",
      "len(all_model_preds_in_trial) 6\n",
      "len(results[smape]) 6\n",
      "trial_ind 0\n",
      "epoch_ind 6\n",
      "len(family_preds[epoch_ind]) 1\n",
      "len(all_model_preds_in_trial) 7\n",
      "len(results[smape]) 7\n",
      "trial_ind 0\n",
      "epoch_ind 7\n",
      "len(family_preds[epoch_ind]) 1\n",
      "len(all_model_preds_in_trial) 8\n",
      "len(results[smape]) 8\n",
      "trial_ind 0\n",
      "epoch_ind 8\n",
      "len(family_preds[epoch_ind]) 1\n",
      "len(all_model_preds_in_trial) 9\n",
      "len(results[smape]) 9\n",
      "trial_ind 0\n",
      "epoch_ind 9\n",
      "len(family_preds[epoch_ind]) 1\n",
      "len(all_model_preds_in_trial) 10\n",
      "len(results[smape]) 10\n",
      "trial_ind 0\n",
      "epoch_ind 10\n",
      "len(family_preds[epoch_ind]) 1\n",
      "len(all_model_preds_in_trial) 11\n",
      "len(results[smape]) 11\n",
      "trial_ind 0\n",
      "epoch_ind 11\n",
      "len(family_preds[epoch_ind]) 1\n",
      "len(all_model_preds_in_trial) 12\n",
      "len(results[smape]) 12\n",
      "trial_ind 0\n",
      "epoch_ind 12\n",
      "len(family_preds[epoch_ind]) 1\n",
      "len(all_model_preds_in_trial) 13\n",
      "len(results[smape]) 13\n",
      "trial_ind 0\n",
      "epoch_ind 13\n",
      "len(family_preds[epoch_ind]) 1\n",
      "len(all_model_preds_in_trial) 14\n",
      "len(results[smape]) 14\n",
      "trial_ind 0\n",
      "epoch_ind 14\n",
      "len(family_preds[epoch_ind]) 1\n",
      "len(all_model_preds_in_trial) 15\n",
      "len(results[smape]) 15\n"
     ]
    }
   ],
   "source": [
    "res1, res3 = evaluate_family_4(family, X_test, y_test, verbose=True)"
   ]
  },
  {
   "cell_type": "code",
   "execution_count": 63,
   "metadata": {},
   "outputs": [
    {
     "data": {
      "text/plain": [
       "[<matplotlib.lines.Line2D at 0x7f4a8c15c1d0>]"
      ]
     },
     "execution_count": 63,
     "metadata": {},
     "output_type": "execute_result"
    },
    {
     "data": {
      "image/png": "[encoded data removed]",
      "text/plain": [
       "<Figure size 432x288 with 1 Axes>"
      ]
     },
     "metadata": {
      "needs_background": "light"
     },
     "output_type": "display_data"
    }
   ],
   "source": [
    "subset = {k: v for k, v in res1['smape'].items() if 'opt_adam__lr_0.001__ams_True__decay_True__1' in k}\n",
    "r1 = [v for k, v in subset.items() if 'ens' not in k]\n",
    "plt.plot(r1)"
   ]
  },
  {
   "cell_type": "code",
   "execution_count": 67,
   "metadata": {},
   "outputs": [],
   "source": [
    "def evaluate_family_5(family, x, y, result_dict=None, desc=None, verbose=False):\n",
    "\n",
    "    results = {'smape': {}, 'mase*': {}}\n",
    "    results2 = {'smape': {}, 'mase*': {}} \n",
    "    results3 = {'smape': {}, 'mase*': {}} \n",
    "\n",
    "    family = Path(family)\n",
    "    trials = list(family.parent.glob(family.name + '*'))  # list for tqdm\n",
    "\n",
    "    family_preds = None\n",
    "    trial_ind = 0\n",
    "\n",
    "    if verbose:\n",
    "        print('Run name:', family.name)\n",
    "        print('Family path:', str(family))\n",
    "        print('Trials identified:', len(trials))\n",
    "        for i, t in enumerate(trials):\n",
    "            print('  {:>2d}. {}'.format(i, t))\n",
    "\n",
    "    ensemble_preds_all_trials = []\n",
    "\n",
    "    for trial in trials:\n",
    "\n",
    "        all_model_preds_in_trial = []\n",
    "\n",
    "        trial = Path(trial)\n",
    "        all_models_in_trial = list(trial.glob('*'))\n",
    "\n",
    "        for epoch_ind, single_model in enumerate(all_models_in_trial):\n",
    "\n",
    "            model = tf.keras.models.load_model(single_model)\n",
    "\n",
    "            preds = evaluation.get_predictions(model, x)\n",
    "\n",
    "#             if not family_preds:\n",
    "#                 family_preds = [[] for _ in range(len(all_models_in_trial))]\n",
    "\n",
    "#             family_preds[epoch_ind].append(preds)\n",
    "            all_model_preds_in_trial.append(preds)\n",
    "\n",
    "            tf.keras.backend.clear_session()\n",
    "\n",
    "            results['smape'][trial.name + '__epoch_{}'.format(epoch_ind + 1)] = np.nanmean(metrics.SMAPE(y, preds[:, -6:]))\n",
    "            results['mase*'][trial.name + '__epoch_{}'.format(epoch_ind + 1)] = np.nanmean(metrics.MASE(x, y, preds[:, -6:]))\n",
    "\n",
    "            ensemble_preds = np.median(np.array(all_model_preds_in_trial), axis=0)\n",
    "\n",
    "            results3['smape']['ens__' + trial.name + '__epoch_{}'.format(epoch_ind + 1)] = np.nanmean(metrics.SMAPE(y, ensemble_preds[:, -6:]))\n",
    "            results3['mase*']['ens__' + trial.name + '__epoch_{}'.format(epoch_ind + 1)] = np.nanmean(metrics.MASE(x, y, ensemble_preds[:, -6:]))\n",
    "\n",
    "            print('trial_ind', trial_ind)\n",
    "            print('epoch_ind', epoch_ind)\n",
    "#             print('len(family_preds[epoch_ind])', len(family_preds[epoch_ind]))\n",
    "            print('len(all_model_preds_in_trial)', len(all_model_preds_in_trial))\n",
    "            print('len(results[smape])', len(results['smape']))\n",
    "            \n",
    "        return results, results3\n",
    "    \n",
    "        trial_ind += 1\n",
    "\n",
    "        ensemble_preds_all_trials.append(ensemble_preds)\n",
    "\n",
    "    for i, epoch_preds in enumerate(family_preds):\n",
    "\n",
    "        preds = np.median(np.array(epoch_preds), axis=0)\n",
    "\n",
    "        results2['smape']['ens__' + family.name + '____epoch_{}'.format(i)] = np.nanmean(metrics.SMAPE(y, preds[:, -6:]))\n",
    "        results2['mase*']['ens__' + family.name + '____epoch_{}'.format(i)] = np.nanmean(metrics.MASE(x, y, preds[:, -6:]))\n",
    "\n",
    "    final_preds = np.median(np.array(ensemble_preds_all_trials), axis=0)\n",
    "\n",
    "    results2['smape']['ens__' + family.name + '____epoch_'] = np.nanmean(metrics.SMAPE(y, final_preds[:, -6:]))\n",
    "    results2['mase*']['ens__' + family.name + '____epoch_'] = np.nanmean(metrics.MASE(x, y, final_preds[:, -6:]))\n",
    "\n",
    "    return results, results2, results3"
   ]
  },
  {
   "cell_type": "code",
   "execution_count": 68,
   "metadata": {
    "scrolled": true
   },
   "outputs": [
    {
     "name": "stdout",
     "output_type": "stream",
     "text": [
      "Run name: opt_adam__lr_0.001__ams_True__decay_True\n",
      "Family path: ../results/training_hyperparameters/opt_adam__lr_0.001__ams_True__decay_True\n",
      "Trials identified: 4\n",
      "   0. ../results/training_hyperparameters/opt_adam__lr_0.001__ams_True__decay_True__1\n",
      "   1. ../results/training_hyperparameters/opt_adam__lr_0.001__ams_True__decay_True__2\n",
      "   2. ../results/training_hyperparameters/opt_adam__lr_0.001__ams_True__decay_True__0\n",
      "   3. ../results/training_hyperparameters/opt_adam__lr_0.001__ams_True__decay_True__3\n",
      "trial_ind 0\n",
      "epoch_ind 0\n",
      "len(all_model_preds_in_trial) 1\n",
      "len(results[smape]) 1\n",
      "trial_ind 0\n",
      "epoch_ind 1\n",
      "len(all_model_preds_in_trial) 2\n",
      "len(results[smape]) 2\n",
      "trial_ind 0\n",
      "epoch_ind 2\n",
      "len(all_model_preds_in_trial) 3\n",
      "len(results[smape]) 3\n",
      "trial_ind 0\n",
      "epoch_ind 3\n",
      "len(all_model_preds_in_trial) 4\n",
      "len(results[smape]) 4\n",
      "trial_ind 0\n",
      "epoch_ind 4\n",
      "len(all_model_preds_in_trial) 5\n",
      "len(results[smape]) 5\n",
      "trial_ind 0\n",
      "epoch_ind 5\n",
      "len(all_model_preds_in_trial) 6\n",
      "len(results[smape]) 6\n",
      "trial_ind 0\n",
      "epoch_ind 6\n",
      "len(all_model_preds_in_trial) 7\n",
      "len(results[smape]) 7\n",
      "trial_ind 0\n",
      "epoch_ind 7\n",
      "len(all_model_preds_in_trial) 8\n",
      "len(results[smape]) 8\n",
      "trial_ind 0\n",
      "epoch_ind 8\n",
      "len(all_model_preds_in_trial) 9\n",
      "len(results[smape]) 9\n",
      "trial_ind 0\n",
      "epoch_ind 9\n",
      "len(all_model_preds_in_trial) 10\n",
      "len(results[smape]) 10\n",
      "trial_ind 0\n",
      "epoch_ind 10\n",
      "len(all_model_preds_in_trial) 11\n",
      "len(results[smape]) 11\n",
      "trial_ind 0\n",
      "epoch_ind 11\n",
      "len(all_model_preds_in_trial) 12\n",
      "len(results[smape]) 12\n",
      "trial_ind 0\n",
      "epoch_ind 12\n",
      "len(all_model_preds_in_trial) 13\n",
      "len(results[smape]) 13\n",
      "trial_ind 0\n",
      "epoch_ind 13\n",
      "len(all_model_preds_in_trial) 14\n",
      "len(results[smape]) 14\n",
      "trial_ind 0\n",
      "epoch_ind 14\n",
      "len(all_model_preds_in_trial) 15\n",
      "len(results[smape]) 15\n"
     ]
    }
   ],
   "source": [
    "res1, res3 = evaluate_family_5(family, X_test, y_test, verbose=True)"
   ]
  },
  {
   "cell_type": "code",
   "execution_count": 69,
   "metadata": {
    "scrolled": true
   },
   "outputs": [
    {
     "data": {
      "text/plain": [
       "[<matplotlib.lines.Line2D at 0x7f4a780c1b00>]"
      ]
     },
     "execution_count": 69,
     "metadata": {},
     "output_type": "execute_result"
    },
    {
     "data": {
      "image/png": "[encoded data removed]",
      "text/plain": [
       "<Figure size 432x288 with 1 Axes>"
      ]
     },
     "metadata": {
      "needs_background": "light"
     },
     "output_type": "display_data"
    }
   ],
   "source": [
    "subset = {k: v for k, v in res1['smape'].items() if 'opt_adam__lr_0.001__ams_True__decay_True__1' in k}\n",
    "r1 = [v for k, v in subset.items() if 'ens' not in k]\n",
    "plt.plot(r1)"
   ]
  },
  {
   "cell_type": "code",
   "execution_count": 72,
   "metadata": {},
   "outputs": [],
   "source": [
    "def evaluate_family_6(family, x, y, result_dict=None, desc=None, verbose=False):\n",
    "\n",
    "    results = {'smape': {}, 'mase*': {}}\n",
    "\n",
    "    family = Path(family)\n",
    "    trials = list(family.parent.glob(family.name + '*'))\n",
    "\n",
    "    trial = trials[0]\n",
    "    print(trial)\n",
    "\n",
    "    all_model_preds_in_trial = []\n",
    "\n",
    "    trial = Path(trial)\n",
    "    all_models_in_trial = list(trial.glob('*'))\n",
    "    \n",
    "    print(all_models_in_trial)\n",
    "\n",
    "    for epoch_ind, single_model in enumerate(all_models_in_trial):\n",
    "\n",
    "        model = tf.keras.models.load_model(single_model)\n",
    "\n",
    "        preds = evaluation.get_predictions(model, x)\n",
    "\n",
    "        all_model_preds_in_trial.append(preds)\n",
    "\n",
    "        tf.keras.backend.clear_session()\n",
    "\n",
    "        results['smape'][trial.name + '__epoch_{}'.format(epoch_ind + 1)] = np.nanmean(metrics.SMAPE(y, preds[:, -6:]))\n",
    "        results['mase*'][trial.name + '__epoch_{}'.format(epoch_ind + 1)] = np.nanmean(metrics.MASE(x, y, preds[:, -6:]))\n",
    "\n",
    "        ensemble_preds = np.median(np.array(all_model_preds_in_trial), axis=0)\n",
    "\n",
    "        results['smape']['ens__' + trial.name + '__epoch_{}'.format(epoch_ind + 1)] = np.nanmean(metrics.SMAPE(y, ensemble_preds[:, -6:]))\n",
    "        results['mase*']['ens__' + trial.name + '__epoch_{}'.format(epoch_ind + 1)] = np.nanmean(metrics.MASE(x, y, ensemble_preds[:, -6:]))\n",
    "\n",
    "        print('epoch_ind', epoch_ind)\n",
    "        print('len(all_model_preds_in_trial)', len(all_model_preds_in_trial))\n",
    "        print('len(results[smape])', len(results['smape']))\n",
    "\n",
    "    return results"
   ]
  },
  {
   "cell_type": "code",
   "execution_count": 73,
   "metadata": {},
   "outputs": [
    {
     "name": "stdout",
     "output_type": "stream",
     "text": [
      "../results/training_hyperparameters/opt_adam__lr_0.001__ams_True__decay_True__1\n",
      "[PosixPath('../results/training_hyperparameters/opt_adam__lr_0.001__ams_True__decay_True__1/weights_epoch_005.h5'), PosixPath('../results/training_hyperparameters/opt_adam__lr_0.001__ams_True__decay_True__1/weights_epoch_012.h5'), PosixPath('../results/training_hyperparameters/opt_adam__lr_0.001__ams_True__decay_True__1/weights_epoch_011.h5'), PosixPath('../results/training_hyperparameters/opt_adam__lr_0.001__ams_True__decay_True__1/weights_epoch_002.h5'), PosixPath('../results/training_hyperparameters/opt_adam__lr_0.001__ams_True__decay_True__1/weights_epoch_001.h5'), PosixPath('../results/training_hyperparameters/opt_adam__lr_0.001__ams_True__decay_True__1/weights_epoch_013.h5'), PosixPath('../results/training_hyperparameters/opt_adam__lr_0.001__ams_True__decay_True__1/weights_epoch_006.h5'), PosixPath('../results/training_hyperparameters/opt_adam__lr_0.001__ams_True__decay_True__1/weights_epoch_000.h5'), PosixPath('../results/training_hyperparameters/opt_adam__lr_0.001__ams_True__decay_True__1/weights_epoch_007.h5'), PosixPath('../results/training_hyperparameters/opt_adam__lr_0.001__ams_True__decay_True__1/weights_epoch_009.h5'), PosixPath('../results/training_hyperparameters/opt_adam__lr_0.001__ams_True__decay_True__1/weights_epoch_003.h5'), PosixPath('../results/training_hyperparameters/opt_adam__lr_0.001__ams_True__decay_True__1/weights_epoch_010.h5'), PosixPath('../results/training_hyperparameters/opt_adam__lr_0.001__ams_True__decay_True__1/weights_epoch_008.h5'), PosixPath('../results/training_hyperparameters/opt_adam__lr_0.001__ams_True__decay_True__1/weights_epoch_004.h5'), PosixPath('../results/training_hyperparameters/opt_adam__lr_0.001__ams_True__decay_True__1/weights_epoch_014.h5')]\n",
      "epoch_ind 0\n",
      "len(all_model_preds_in_trial) 1\n",
      "len(results[smape]) 2\n",
      "epoch_ind 1\n",
      "len(all_model_preds_in_trial) 2\n",
      "len(results[smape]) 4\n",
      "epoch_ind 2\n",
      "len(all_model_preds_in_trial) 3\n",
      "len(results[smape]) 6\n",
      "epoch_ind 3\n",
      "len(all_model_preds_in_trial) 4\n",
      "len(results[smape]) 8\n",
      "epoch_ind 4\n",
      "len(all_model_preds_in_trial) 5\n",
      "len(results[smape]) 10\n",
      "epoch_ind 5\n",
      "len(all_model_preds_in_trial) 6\n",
      "len(results[smape]) 12\n",
      "epoch_ind 6\n",
      "len(all_model_preds_in_trial) 7\n",
      "len(results[smape]) 14\n",
      "epoch_ind 7\n",
      "len(all_model_preds_in_trial) 8\n",
      "len(results[smape]) 16\n",
      "epoch_ind 8\n",
      "len(all_model_preds_in_trial) 9\n",
      "len(results[smape]) 18\n",
      "epoch_ind 9\n",
      "len(all_model_preds_in_trial) 10\n",
      "len(results[smape]) 20\n",
      "epoch_ind 10\n",
      "len(all_model_preds_in_trial) 11\n",
      "len(results[smape]) 22\n",
      "epoch_ind 11\n",
      "len(all_model_preds_in_trial) 12\n",
      "len(results[smape]) 24\n",
      "epoch_ind 12\n",
      "len(all_model_preds_in_trial) 13\n",
      "len(results[smape]) 26\n",
      "epoch_ind 13\n",
      "len(all_model_preds_in_trial) 14\n",
      "len(results[smape]) 28\n",
      "epoch_ind 14\n",
      "len(all_model_preds_in_trial) 15\n",
      "len(results[smape]) 30\n"
     ]
    }
   ],
   "source": [
    "ress = evaluate_family_6(family, X_test, y_test, verbose=True)"
   ]
  },
  {
   "cell_type": "code",
   "execution_count": 75,
   "metadata": {},
   "outputs": [
    {
     "data": {
      "text/plain": [
       "[<matplotlib.lines.Line2D at 0x7f4a782199e8>]"
      ]
     },
     "execution_count": 75,
     "metadata": {},
     "output_type": "execute_result"
    },
    {
     "data": {
      "image/png": "[encoded data removed]",
      "text/plain": [
       "<Figure size 432x288 with 1 Axes>"
      ]
     },
     "metadata": {
      "needs_background": "light"
     },
     "output_type": "display_data"
    }
   ],
   "source": [
    "subset = {k: v for k, v in ress['smape'].items() if 'opt_adam__lr_0.001__ams_True__decay_True__1' in k}\n",
    "r1 = [v for k, v in subset.items() if 'ens' not in k]\n",
    "r2 = [v for k, v in subset.items() if 'ens' in k]\n",
    "plt.plot(r1)\n",
    "plt.plot(r2)"
   ]
  },
  {
   "cell_type": "code",
   "execution_count": 85,
   "metadata": {},
   "outputs": [],
   "source": [
    "def evaluate_family_7(family, x, y, result_dict=None, desc=None, verbose=False):\n",
    "\n",
    "    results = {'smape': {}, 'mase*': {}}\n",
    "\n",
    "    fallback = []\n",
    "    fallback_ens = []\n",
    "    \n",
    "    family = Path(family)\n",
    "    trials = list(family.parent.glob(family.name + '*'))\n",
    "\n",
    "    trial = trials[2]\n",
    "    print(trial)\n",
    "\n",
    "    all_model_preds_in_trial = []\n",
    "\n",
    "    trial = Path(trial)\n",
    "    all_models_in_trial = list(trial.glob('*'))\n",
    "    \n",
    "    print(all_models_in_trial)\n",
    "\n",
    "    for epoch_ind, single_model in enumerate(all_models_in_trial):\n",
    "\n",
    "        model = tf.keras.models.load_model(single_model)\n",
    "\n",
    "        preds = evaluation.get_predictions(model, x)\n",
    "\n",
    "        all_model_preds_in_trial.append(preds)\n",
    "\n",
    "        tf.keras.backend.clear_session()\n",
    "\n",
    "        s1 = np.nanmean(metrics.SMAPE(y, preds[:, -6:]))\n",
    "        results['smape'][trial.name + '__epoch_{}'.format(epoch_ind + 1)] = s1\n",
    "        results['mase*'][trial.name + '__epoch_{}'.format(epoch_ind + 1)] = np.nanmean(metrics.MASE(x, y, preds[:, -6:]))\n",
    "        fallback.append(s1)\n",
    "            \n",
    "        ensemble_preds = np.median(np.array(all_model_preds_in_trial), axis=0)\n",
    "\n",
    "        s2 = np.nanmean(metrics.SMAPE(y, ensemble_preds[:, -6:]))\n",
    "        results['smape']['ens__' + trial.name + '__epoch_{}'.format(epoch_ind + 1)] = s2\n",
    "        results['mase*']['ens__' + trial.name + '__epoch_{}'.format(epoch_ind + 1)] = np.nanmean(metrics.MASE(x, y, ensemble_preds[:, -6:]))\n",
    "        fallback_ens.append(s2)\n",
    "\n",
    "        print('epoch_ind', epoch_ind)\n",
    "        print('len(all_model_preds_in_trial)', len(all_model_preds_in_trial))\n",
    "        print('len(results[smape])', len(results['smape']))\n",
    "\n",
    "    return results, fallback, fallback_ens"
   ]
  },
  {
   "cell_type": "code",
   "execution_count": 86,
   "metadata": {},
   "outputs": [
    {
     "name": "stdout",
     "output_type": "stream",
     "text": [
      "../results/training_hyperparameters/opt_adam__lr_0.001__ams_True__decay_True__0\n",
      "[PosixPath('../results/training_hyperparameters/opt_adam__lr_0.001__ams_True__decay_True__0/weights_epoch_005.h5'), PosixPath('../results/training_hyperparameters/opt_adam__lr_0.001__ams_True__decay_True__0/weights_epoch_012.h5'), PosixPath('../results/training_hyperparameters/opt_adam__lr_0.001__ams_True__decay_True__0/weights_epoch_011.h5'), PosixPath('../results/training_hyperparameters/opt_adam__lr_0.001__ams_True__decay_True__0/weights_epoch_002.h5'), PosixPath('../results/training_hyperparameters/opt_adam__lr_0.001__ams_True__decay_True__0/weights_epoch_001.h5'), PosixPath('../results/training_hyperparameters/opt_adam__lr_0.001__ams_True__decay_True__0/weights_epoch_013.h5'), PosixPath('../results/training_hyperparameters/opt_adam__lr_0.001__ams_True__decay_True__0/weights_epoch_006.h5'), PosixPath('../results/training_hyperparameters/opt_adam__lr_0.001__ams_True__decay_True__0/weights_epoch_000.h5'), PosixPath('../results/training_hyperparameters/opt_adam__lr_0.001__ams_True__decay_True__0/weights_epoch_007.h5'), PosixPath('../results/training_hyperparameters/opt_adam__lr_0.001__ams_True__decay_True__0/weights_epoch_009.h5'), PosixPath('../results/training_hyperparameters/opt_adam__lr_0.001__ams_True__decay_True__0/weights_epoch_003.h5'), PosixPath('../results/training_hyperparameters/opt_adam__lr_0.001__ams_True__decay_True__0/weights_epoch_010.h5'), PosixPath('../results/training_hyperparameters/opt_adam__lr_0.001__ams_True__decay_True__0/weights_epoch_008.h5'), PosixPath('../results/training_hyperparameters/opt_adam__lr_0.001__ams_True__decay_True__0/weights_epoch_004.h5'), PosixPath('../results/training_hyperparameters/opt_adam__lr_0.001__ams_True__decay_True__0/weights_epoch_014.h5')]\n",
      "epoch_ind 0\n",
      "len(all_model_preds_in_trial) 1\n",
      "len(results[smape]) 2\n",
      "epoch_ind 1\n",
      "len(all_model_preds_in_trial) 2\n",
      "len(results[smape]) 4\n",
      "epoch_ind 2\n",
      "len(all_model_preds_in_trial) 3\n",
      "len(results[smape]) 6\n",
      "epoch_ind 3\n",
      "len(all_model_preds_in_trial) 4\n",
      "len(results[smape]) 8\n",
      "epoch_ind 4\n",
      "len(all_model_preds_in_trial) 5\n",
      "len(results[smape]) 10\n",
      "epoch_ind 5\n",
      "len(all_model_preds_in_trial) 6\n",
      "len(results[smape]) 12\n",
      "epoch_ind 6\n",
      "len(all_model_preds_in_trial) 7\n",
      "len(results[smape]) 14\n",
      "epoch_ind 7\n",
      "len(all_model_preds_in_trial) 8\n",
      "len(results[smape]) 16\n",
      "epoch_ind 8\n",
      "len(all_model_preds_in_trial) 9\n",
      "len(results[smape]) 18\n",
      "epoch_ind 9\n",
      "len(all_model_preds_in_trial) 10\n",
      "len(results[smape]) 20\n",
      "epoch_ind 10\n",
      "len(all_model_preds_in_trial) 11\n",
      "len(results[smape]) 22\n",
      "epoch_ind 11\n",
      "len(all_model_preds_in_trial) 12\n",
      "len(results[smape]) 24\n",
      "epoch_ind 12\n",
      "len(all_model_preds_in_trial) 13\n",
      "len(results[smape]) 26\n",
      "epoch_ind 13\n",
      "len(all_model_preds_in_trial) 14\n",
      "len(results[smape]) 28\n",
      "epoch_ind 14\n",
      "len(all_model_preds_in_trial) 15\n",
      "len(results[smape]) 30\n"
     ]
    }
   ],
   "source": [
    "ress, fb, fbe = evaluate_family_7(family, X_test, y_test, verbose=True)"
   ]
  },
  {
   "cell_type": "code",
   "execution_count": 89,
   "metadata": {},
   "outputs": [
    {
     "data": {
      "text/plain": [
       "[<matplotlib.lines.Line2D at 0x7f4a780c7cc0>]"
      ]
     },
     "execution_count": 89,
     "metadata": {},
     "output_type": "execute_result"
    },
    {
     "data": {
      "image/png": "[encoded data removed]",
      "text/plain": [
       "<Figure size 432x288 with 1 Axes>"
      ]
     },
     "metadata": {
      "needs_background": "light"
     },
     "output_type": "display_data"
    }
   ],
   "source": [
    "subset = {k: v for k, v in ress['smape'].items() if 'opt_adam__lr_0.001__ams_True__decay_True__0' in k}\n",
    "r1 = [v for k, v in subset.items() if 'ens' not in k]\n",
    "r2 = [v for k, v in subset.items() if 'ens' in k]\n",
    "plt.plot(r1)\n",
    "plt.plot(r2)"
   ]
  },
  {
   "cell_type": "code",
   "execution_count": 88,
   "metadata": {},
   "outputs": [
    {
     "data": {
      "text/plain": [
       "[<matplotlib.lines.Line2D at 0x7f4a780e5a90>]"
      ]
     },
     "execution_count": 88,
     "metadata": {},
     "output_type": "execute_result"
    },
    {
     "data": {
      "image/png": "[encoded data removed]",
      "text/plain": [
       "<Figure size 432x288 with 1 Axes>"
      ]
     },
     "metadata": {
      "needs_background": "light"
     },
     "output_type": "display_data"
    }
   ],
   "source": [
    "plt.plot(fb)\n",
    "plt.plot(fbe)"
   ]
  },
  {
   "cell_type": "code",
   "execution_count": 91,
   "metadata": {},
   "outputs": [],
   "source": [
    "def evaluate_family_8(family, x, y, result_dict=None, desc=None, verbose=False):\n",
    "\n",
    "    results = {'smape': {}, 'mase*': {}}\n",
    "\n",
    "    fallback = []\n",
    "    fallback_ens = []\n",
    "    \n",
    "    family = Path(family)\n",
    "    trials = list(family.parent.glob(family.name + '*'))\n",
    "\n",
    "    trial = trials[2]\n",
    "    print(trial)\n",
    "\n",
    "    all_model_preds_in_trial = []\n",
    "\n",
    "    trial = Path(trial)\n",
    "    all_models_in_trial = list(trial.glob('*'))\n",
    "    \n",
    "    print(all_models_in_trial)\n",
    "\n",
    "    for epoch_ind, single_model in enumerate(all_models_in_trial):\n",
    "\n",
    "        model = tf.keras.models.load_model(single_model)\n",
    "\n",
    "        preds = evaluation.get_predictions(model, x)\n",
    "        return preds\n",
    "        all_model_preds_in_trial.append(preds)\n",
    "\n",
    "        tf.keras.backend.clear_session()\n",
    "\n",
    "        s1 = np.nanmean(metrics.SMAPE(y, preds[:, -6:]))\n",
    "        results['smape'][trial.name + '__epoch_{}'.format(epoch_ind + 1)] = s1\n",
    "        results['mase*'][trial.name + '__epoch_{}'.format(epoch_ind + 1)] = np.nanmean(metrics.MASE(x, y, preds[:, -6:]))\n",
    "        fallback.append(s1)\n",
    "            \n",
    "        ensemble_preds = np.median(np.array(all_model_preds_in_trial), axis=0)\n",
    "\n",
    "        s2 = np.nanmean(metrics.SMAPE(y, ensemble_preds[:, -6:]))\n",
    "        results['smape']['ens__' + trial.name + '__epoch_{}'.format(epoch_ind + 1)] = s2\n",
    "        results['mase*']['ens__' + trial.name + '__epoch_{}'.format(epoch_ind + 1)] = np.nanmean(metrics.MASE(x, y, ensemble_preds[:, -6:]))\n",
    "        fallback_ens.append(s2)\n",
    "\n",
    "        print('epoch_ind', epoch_ind)\n",
    "        print('len(all_model_preds_in_trial)', len(all_model_preds_in_trial))\n",
    "        print('len(results[smape])', len(results['smape']))\n",
    "\n",
    "    return results, fallback, fallback_ens"
   ]
  },
  {
   "cell_type": "code",
   "execution_count": 92,
   "metadata": {},
   "outputs": [
    {
     "name": "stdout",
     "output_type": "stream",
     "text": [
      "../results/training_hyperparameters/opt_adam__lr_0.001__ams_True__decay_True__0\n",
      "[PosixPath('../results/training_hyperparameters/opt_adam__lr_0.001__ams_True__decay_True__0/weights_epoch_005.h5'), PosixPath('../results/training_hyperparameters/opt_adam__lr_0.001__ams_True__decay_True__0/weights_epoch_012.h5'), PosixPath('../results/training_hyperparameters/opt_adam__lr_0.001__ams_True__decay_True__0/weights_epoch_011.h5'), PosixPath('../results/training_hyperparameters/opt_adam__lr_0.001__ams_True__decay_True__0/weights_epoch_002.h5'), PosixPath('../results/training_hyperparameters/opt_adam__lr_0.001__ams_True__decay_True__0/weights_epoch_001.h5'), PosixPath('../results/training_hyperparameters/opt_adam__lr_0.001__ams_True__decay_True__0/weights_epoch_013.h5'), PosixPath('../results/training_hyperparameters/opt_adam__lr_0.001__ams_True__decay_True__0/weights_epoch_006.h5'), PosixPath('../results/training_hyperparameters/opt_adam__lr_0.001__ams_True__decay_True__0/weights_epoch_000.h5'), PosixPath('../results/training_hyperparameters/opt_adam__lr_0.001__ams_True__decay_True__0/weights_epoch_007.h5'), PosixPath('../results/training_hyperparameters/opt_adam__lr_0.001__ams_True__decay_True__0/weights_epoch_009.h5'), PosixPath('../results/training_hyperparameters/opt_adam__lr_0.001__ams_True__decay_True__0/weights_epoch_003.h5'), PosixPath('../results/training_hyperparameters/opt_adam__lr_0.001__ams_True__decay_True__0/weights_epoch_010.h5'), PosixPath('../results/training_hyperparameters/opt_adam__lr_0.001__ams_True__decay_True__0/weights_epoch_008.h5'), PosixPath('../results/training_hyperparameters/opt_adam__lr_0.001__ams_True__decay_True__0/weights_epoch_004.h5'), PosixPath('../results/training_hyperparameters/opt_adam__lr_0.001__ams_True__decay_True__0/weights_epoch_014.h5')]\n"
     ]
    }
   ],
   "source": [
    "p = evaluate_family_8(family, X_test, y_test)"
   ]
  },
  {
   "cell_type": "code",
   "execution_count": 99,
   "metadata": {},
   "outputs": [
    {
     "data": {
      "text/plain": [
       "[PosixPath('../results/training_hyperparameters/opt_adam__lr_0.001__ams_True__decay_True__0'),\n",
       " PosixPath('../results/training_hyperparameters/opt_adam__lr_0.001__ams_True__decay_True__1'),\n",
       " PosixPath('../results/training_hyperparameters/opt_adam__lr_0.001__ams_True__decay_True__2'),\n",
       " PosixPath('../results/training_hyperparameters/opt_adam__lr_0.001__ams_True__decay_True__3')]"
      ]
     },
     "execution_count": 99,
     "metadata": {},
     "output_type": "execute_result"
    }
   ],
   "source": [
    "sorted(list(Path(family).parent.glob(Path(family).name + '*')))"
   ]
  },
  {
   "cell_type": "code",
   "execution_count": 100,
   "metadata": {},
   "outputs": [],
   "source": [
    "!mkdir /tmp/test11"
   ]
  },
  {
   "cell_type": "code",
   "execution_count": 102,
   "metadata": {},
   "outputs": [],
   "source": [
    "!mkdir /tmp/test11/1 /tmp/test11/2 /tmp/test11/3 /tmp/test11/4 /tmp/test11/5 /tmp/test11/6 /tmp/test11/7 /tmp/test11/8"
   ]
  },
  {
   "cell_type": "code",
   "execution_count": 103,
   "metadata": {},
   "outputs": [],
   "source": [
    "!mkdir /tmp/test11/0 /tmp/test11/9 /tmp/test11/10 /tmp/test11/11 /tmp/test11/12"
   ]
  },
  {
   "cell_type": "code",
   "execution_count": 106,
   "metadata": {},
   "outputs": [
    {
     "data": {
      "text/plain": [
       "[PosixPath('/tmp/test11/0'),\n",
       " PosixPath('/tmp/test11/1'),\n",
       " PosixPath('/tmp/test11/10'),\n",
       " PosixPath('/tmp/test11/11'),\n",
       " PosixPath('/tmp/test11/12'),\n",
       " PosixPath('/tmp/test11/2'),\n",
       " PosixPath('/tmp/test11/3'),\n",
       " PosixPath('/tmp/test11/4'),\n",
       " PosixPath('/tmp/test11/5'),\n",
       " PosixPath('/tmp/test11/6'),\n",
       " PosixPath('/tmp/test11/7'),\n",
       " PosixPath('/tmp/test11/8'),\n",
       " PosixPath('/tmp/test11/9')]"
      ]
     },
     "execution_count": 106,
     "metadata": {},
     "output_type": "execute_result"
    }
   ],
   "source": [
    "sorted(list(Path('/tmp/test11/').glob('*')))"
   ]
  },
  {
   "cell_type": "code",
   "execution_count": 95,
   "metadata": {},
   "outputs": [
    {
     "data": {
      "text/plain": [
       "array([[ 7351.3633,  7431.8994,  7470.9727,  7542.619 ,  7618.61  ,\n",
       "         7661.723 ],\n",
       "       [ 1513.0276,  1564.1771,  1608.8691,  1654.0038,  1707.8842,\n",
       "         1757.1377],\n",
       "       [ 8431.716 ,  8657.25  ,  8841.766 ,  9064.315 ,  9278.399 ,\n",
       "         9440.254 ],\n",
       "       ...,\n",
       "       [ 1153.5724,  1246.1045,  1286.2072,  1363.1514,  1441.3564,\n",
       "         1483.7505],\n",
       "       [ 7540.8496,  8214.973 ,  8815.082 ,  9456.734 , 10034.135 ,\n",
       "        10511.1045],\n",
       "       [ 8937.232 ,  9105.631 ,  9278.546 ,  9449.613 ,  9603.531 ,\n",
       "         9746.676 ]], dtype=float32)"
      ]
     },
     "execution_count": 95,
     "metadata": {},
     "output_type": "execute_result"
    }
   ],
   "source": [
    "model_preds_2['../results/training_hyperparameters/opt_adam__lr_0.001__ams_True__decay_True__0/weights_epoch_000.h5']"
   ]
  },
  {
   "cell_type": "code",
   "execution_count": 156,
   "metadata": {},
   "outputs": [],
   "source": [
    "def evaluate_family_9(family, x, y, result_dict=None, desc=None, verbose=False):\n",
    "\n",
    "    results = {'smape': {}, 'mase*': {}}\n",
    "\n",
    "    fallback = []\n",
    "    fallback_ens = []\n",
    "    \n",
    "    family = Path(family)\n",
    "    trials = sorted(family.parent.glob(family.name + '*'), key=lambda x: int(x.name.split('__')[-1]))\n",
    "    print(trials)\n",
    "    trial = trials[0]\n",
    "    print(trial)\n",
    "\n",
    "    all_model_preds_in_trial = []\n",
    "\n",
    "    trial = Path(trial)\n",
    "    all_models_in_trial = sorted(trial.glob('*'), key=lambda x: x.name.split('/')[-1])\n",
    "    \n",
    "    print(all_models_in_trial)\n",
    "\n",
    "    for epoch_ind, single_model in enumerate(all_models_in_trial):\n",
    "\n",
    "        model = tf.keras.models.load_model(single_model)\n",
    "\n",
    "        preds = evaluation.get_predictions(model, x)\n",
    "        return preds\n",
    "        all_model_preds_in_trial.append(preds)\n",
    "\n",
    "        tf.keras.backend.clear_session()\n",
    "\n",
    "        s1 = np.nanmean(metrics.SMAPE(y, preds[:, -6:]))\n",
    "        results['smape'][trial.name + '__epoch_{}'.format(epoch_ind + 1)] = s1\n",
    "        results['mase*'][trial.name + '__epoch_{}'.format(epoch_ind + 1)] = np.nanmean(metrics.MASE(x, y, preds[:, -6:]))\n",
    "        fallback.append(s1)\n",
    "            \n",
    "        ensemble_preds = np.median(np.array(all_model_preds_in_trial), axis=0)\n",
    "\n",
    "        s2 = np.nanmean(metrics.SMAPE(y, ensemble_preds[:, -6:]))\n",
    "        results['smape']['ens__' + trial.name + '__epoch_{}'.format(epoch_ind + 1)] = s2\n",
    "        results['mase*']['ens__' + trial.name + '__epoch_{}'.format(epoch_ind + 1)] = np.nanmean(metrics.MASE(x, y, ensemble_preds[:, -6:]))\n",
    "        fallback_ens.append(s2)\n",
    "\n",
    "        print('epoch_ind', epoch_ind)\n",
    "        print('len(all_model_preds_in_trial)', len(all_model_preds_in_trial))\n",
    "        print('len(results[smape])', len(results['smape']))\n",
    "\n",
    "    return results, fallback, fallback_ens"
   ]
  },
  {
   "cell_type": "code",
   "execution_count": 165,
   "metadata": {},
   "outputs": [],
   "source": [
    "f = Path(family)\n",
    "trials = sorted(f.parent.glob(f.name + '*'), key=lambda x: int(x.name.split('__')[-1]))\n"
   ]
  },
  {
   "cell_type": "code",
   "execution_count": 166,
   "metadata": {},
   "outputs": [
    {
     "data": {
      "text/plain": [
       "[PosixPath('../results/training_hyperparameters/opt_adam__lr_0.001__ams_True__decay_True__0'),\n",
       " PosixPath('../results/training_hyperparameters/opt_adam__lr_0.001__ams_True__decay_True__1'),\n",
       " PosixPath('../results/training_hyperparameters/opt_adam__lr_0.001__ams_True__decay_True__2'),\n",
       " PosixPath('../results/training_hyperparameters/opt_adam__lr_0.001__ams_True__decay_True__3')]"
      ]
     },
     "execution_count": 166,
     "metadata": {},
     "output_type": "execute_result"
    }
   ],
   "source": [
    "trials"
   ]
  },
  {
   "cell_type": "code",
   "execution_count": 167,
   "metadata": {},
   "outputs": [
    {
     "data": {
      "text/plain": [
       "[PosixPath('../results/training_hyperparameters/opt_adam__lr_0.001__ams_True__decay_True__1'),\n",
       " PosixPath('../results/training_hyperparameters/opt_adam__lr_0.001__ams_True__decay_True__2'),\n",
       " PosixPath('../results/training_hyperparameters/opt_adam__lr_0.001__ams_True__decay_True__0'),\n",
       " PosixPath('../results/training_hyperparameters/opt_adam__lr_0.001__ams_True__decay_True__3')]"
      ]
     },
     "execution_count": 167,
     "metadata": {},
     "output_type": "execute_result"
    }
   ],
   "source": [
    "list(f.parent.glob(f.name + '*'))"
   ]
  },
  {
   "cell_type": "code",
   "execution_count": 168,
   "metadata": {},
   "outputs": [
    {
     "data": {
      "text/plain": [
       "'1'"
      ]
     },
     "execution_count": 168,
     "metadata": {},
     "output_type": "execute_result"
    }
   ],
   "source": [
    "a = list(f.parent.glob(f.name + '*'))\n",
    "a[0].name.split('__')[-1]"
   ]
  },
  {
   "cell_type": "code",
   "execution_count": 169,
   "metadata": {
    "scrolled": true
   },
   "outputs": [
    {
     "name": "stdout",
     "output_type": "stream",
     "text": [
      "[PosixPath('../results/training_hyperparameters/opt_adam__lr_0.001__ams_True__decay_True__0'), PosixPath('../results/training_hyperparameters/opt_adam__lr_0.001__ams_True__decay_True__1'), PosixPath('../results/training_hyperparameters/opt_adam__lr_0.001__ams_True__decay_True__2'), PosixPath('../results/training_hyperparameters/opt_adam__lr_0.001__ams_True__decay_True__3')]\n",
      "../results/training_hyperparameters/opt_adam__lr_0.001__ams_True__decay_True__0\n",
      "[PosixPath('../results/training_hyperparameters/opt_adam__lr_0.001__ams_True__decay_True__0/weights_epoch_000.h5'), PosixPath('../results/training_hyperparameters/opt_adam__lr_0.001__ams_True__decay_True__0/weights_epoch_001.h5'), PosixPath('../results/training_hyperparameters/opt_adam__lr_0.001__ams_True__decay_True__0/weights_epoch_002.h5'), PosixPath('../results/training_hyperparameters/opt_adam__lr_0.001__ams_True__decay_True__0/weights_epoch_003.h5'), PosixPath('../results/training_hyperparameters/opt_adam__lr_0.001__ams_True__decay_True__0/weights_epoch_004.h5'), PosixPath('../results/training_hyperparameters/opt_adam__lr_0.001__ams_True__decay_True__0/weights_epoch_005.h5'), PosixPath('../results/training_hyperparameters/opt_adam__lr_0.001__ams_True__decay_True__0/weights_epoch_006.h5'), PosixPath('../results/training_hyperparameters/opt_adam__lr_0.001__ams_True__decay_True__0/weights_epoch_007.h5'), PosixPath('../results/training_hyperparameters/opt_adam__lr_0.001__ams_True__decay_True__0/weights_epoch_008.h5'), PosixPath('../results/training_hyperparameters/opt_adam__lr_0.001__ams_True__decay_True__0/weights_epoch_009.h5'), PosixPath('../results/training_hyperparameters/opt_adam__lr_0.001__ams_True__decay_True__0/weights_epoch_010.h5'), PosixPath('../results/training_hyperparameters/opt_adam__lr_0.001__ams_True__decay_True__0/weights_epoch_011.h5'), PosixPath('../results/training_hyperparameters/opt_adam__lr_0.001__ams_True__decay_True__0/weights_epoch_012.h5'), PosixPath('../results/training_hyperparameters/opt_adam__lr_0.001__ams_True__decay_True__0/weights_epoch_013.h5'), PosixPath('../results/training_hyperparameters/opt_adam__lr_0.001__ams_True__decay_True__0/weights_epoch_014.h5')]\n"
     ]
    }
   ],
   "source": [
    "p = evaluate_family_9(family, X_test, y_test)"
   ]
  },
  {
   "cell_type": "code",
   "execution_count": 170,
   "metadata": {},
   "outputs": [
    {
     "data": {
      "text/plain": [
       "False"
      ]
     },
     "execution_count": 170,
     "metadata": {},
     "output_type": "execute_result"
    }
   ],
   "source": [
    "np.array_equal(p, model_preds_2['../results/training_hyperparameters/opt_adam__lr_0.001__ams_True__decay_True__0/weights_epoch_000.h5'])"
   ]
  },
  {
   "cell_type": "code",
   "execution_count": 171,
   "metadata": {},
   "outputs": [
    {
     "data": {
      "text/plain": [
       "13.966873516125027"
      ]
     },
     "execution_count": 171,
     "metadata": {},
     "output_type": "execute_result"
    }
   ],
   "source": [
    "metrics.SMAPE(y_test, p[:, -6:]).mean()"
   ]
  },
  {
   "cell_type": "code",
   "execution_count": 172,
   "metadata": {},
   "outputs": [
    {
     "data": {
      "text/plain": [
       "13.966872749073568"
      ]
     },
     "execution_count": 172,
     "metadata": {},
     "output_type": "execute_result"
    }
   ],
   "source": [
    "metrics.SMAPE(y_test, model_preds_2['../results/training_hyperparameters/opt_adam__lr_0.001__ams_True__decay_True__0/weights_epoch_000.h5'][:, -6:]).mean()"
   ]
  },
  {
   "cell_type": "code",
   "execution_count": null,
   "metadata": {},
   "outputs": [
    {
     "name": "stderr",
     "output_type": "stream",
     "text": [
      "\r",
      "  0%|          | 0/4 [00:00<?, ?it/s]"
     ]
    },
    {
     "name": "stdout",
     "output_type": "stream",
     "text": [
      "Run name: opt_adam__lr_0.001__ams_True__decay_True\n",
      "Family path: ../results/training_hyperparameters/opt_adam__lr_0.001__ams_True__decay_True\n",
      "Trials identified: 4\n",
      "   0. ../results/training_hyperparameters/opt_adam__lr_0.001__ams_True__decay_True__0\n",
      "   1. ../results/training_hyperparameters/opt_adam__lr_0.001__ams_True__decay_True__1\n",
      "   2. ../results/training_hyperparameters/opt_adam__lr_0.001__ams_True__decay_True__2\n",
      "   3. ../results/training_hyperparameters/opt_adam__lr_0.001__ams_True__decay_True__3\n",
      "[PosixPath('../results/training_hyperparameters/opt_adam__lr_0.001__ams_True__decay_True__0/weights_epoch_000.h5'), PosixPath('../results/training_hyperparameters/opt_adam__lr_0.001__ams_True__decay_True__0/weights_epoch_001.h5'), PosixPath('../results/training_hyperparameters/opt_adam__lr_0.001__ams_True__decay_True__0/weights_epoch_002.h5'), PosixPath('../results/training_hyperparameters/opt_adam__lr_0.001__ams_True__decay_True__0/weights_epoch_003.h5'), PosixPath('../results/training_hyperparameters/opt_adam__lr_0.001__ams_True__decay_True__0/weights_epoch_004.h5'), PosixPath('../results/training_hyperparameters/opt_adam__lr_0.001__ams_True__decay_True__0/weights_epoch_005.h5'), PosixPath('../results/training_hyperparameters/opt_adam__lr_0.001__ams_True__decay_True__0/weights_epoch_006.h5'), PosixPath('../results/training_hyperparameters/opt_adam__lr_0.001__ams_True__decay_True__0/weights_epoch_007.h5'), PosixPath('../results/training_hyperparameters/opt_adam__lr_0.001__ams_True__decay_True__0/weights_epoch_008.h5'), PosixPath('../results/training_hyperparameters/opt_adam__lr_0.001__ams_True__decay_True__0/weights_epoch_009.h5'), PosixPath('../results/training_hyperparameters/opt_adam__lr_0.001__ams_True__decay_True__0/weights_epoch_010.h5'), PosixPath('../results/training_hyperparameters/opt_adam__lr_0.001__ams_True__decay_True__0/weights_epoch_011.h5'), PosixPath('../results/training_hyperparameters/opt_adam__lr_0.001__ams_True__decay_True__0/weights_epoch_012.h5'), PosixPath('../results/training_hyperparameters/opt_adam__lr_0.001__ams_True__decay_True__0/weights_epoch_013.h5'), PosixPath('../results/training_hyperparameters/opt_adam__lr_0.001__ams_True__decay_True__0/weights_epoch_014.h5')]\n"
     ]
    },
    {
     "name": "stderr",
     "output_type": "stream",
     "text": [
      "\r",
      " 25%|██▌       | 1/4 [04:46<14:20, 286.91s/it]"
     ]
    },
    {
     "name": "stdout",
     "output_type": "stream",
     "text": [
      "[PosixPath('../results/training_hyperparameters/opt_adam__lr_0.001__ams_True__decay_True__1/weights_epoch_000.h5'), PosixPath('../results/training_hyperparameters/opt_adam__lr_0.001__ams_True__decay_True__1/weights_epoch_001.h5'), PosixPath('../results/training_hyperparameters/opt_adam__lr_0.001__ams_True__decay_True__1/weights_epoch_002.h5'), PosixPath('../results/training_hyperparameters/opt_adam__lr_0.001__ams_True__decay_True__1/weights_epoch_003.h5'), PosixPath('../results/training_hyperparameters/opt_adam__lr_0.001__ams_True__decay_True__1/weights_epoch_004.h5'), PosixPath('../results/training_hyperparameters/opt_adam__lr_0.001__ams_True__decay_True__1/weights_epoch_005.h5'), PosixPath('../results/training_hyperparameters/opt_adam__lr_0.001__ams_True__decay_True__1/weights_epoch_006.h5'), PosixPath('../results/training_hyperparameters/opt_adam__lr_0.001__ams_True__decay_True__1/weights_epoch_007.h5'), PosixPath('../results/training_hyperparameters/opt_adam__lr_0.001__ams_True__decay_True__1/weights_epoch_008.h5'), PosixPath('../results/training_hyperparameters/opt_adam__lr_0.001__ams_True__decay_True__1/weights_epoch_009.h5'), PosixPath('../results/training_hyperparameters/opt_adam__lr_0.001__ams_True__decay_True__1/weights_epoch_010.h5'), PosixPath('../results/training_hyperparameters/opt_adam__lr_0.001__ams_True__decay_True__1/weights_epoch_011.h5'), PosixPath('../results/training_hyperparameters/opt_adam__lr_0.001__ams_True__decay_True__1/weights_epoch_012.h5'), PosixPath('../results/training_hyperparameters/opt_adam__lr_0.001__ams_True__decay_True__1/weights_epoch_013.h5'), PosixPath('../results/training_hyperparameters/opt_adam__lr_0.001__ams_True__decay_True__1/weights_epoch_014.h5')]\n"
     ]
    },
    {
     "name": "stderr",
     "output_type": "stream",
     "text": [
      "\r",
      " 50%|█████     | 2/4 [10:39<10:13, 306.63s/it]"
     ]
    },
    {
     "name": "stdout",
     "output_type": "stream",
     "text": [
      "[PosixPath('../results/training_hyperparameters/opt_adam__lr_0.001__ams_True__decay_True__2/weights_epoch_000.h5'), PosixPath('../results/training_hyperparameters/opt_adam__lr_0.001__ams_True__decay_True__2/weights_epoch_001.h5'), PosixPath('../results/training_hyperparameters/opt_adam__lr_0.001__ams_True__decay_True__2/weights_epoch_002.h5'), PosixPath('../results/training_hyperparameters/opt_adam__lr_0.001__ams_True__decay_True__2/weights_epoch_003.h5'), PosixPath('../results/training_hyperparameters/opt_adam__lr_0.001__ams_True__decay_True__2/weights_epoch_004.h5'), PosixPath('../results/training_hyperparameters/opt_adam__lr_0.001__ams_True__decay_True__2/weights_epoch_005.h5'), PosixPath('../results/training_hyperparameters/opt_adam__lr_0.001__ams_True__decay_True__2/weights_epoch_006.h5'), PosixPath('../results/training_hyperparameters/opt_adam__lr_0.001__ams_True__decay_True__2/weights_epoch_007.h5'), PosixPath('../results/training_hyperparameters/opt_adam__lr_0.001__ams_True__decay_True__2/weights_epoch_008.h5'), PosixPath('../results/training_hyperparameters/opt_adam__lr_0.001__ams_True__decay_True__2/weights_epoch_009.h5'), PosixPath('../results/training_hyperparameters/opt_adam__lr_0.001__ams_True__decay_True__2/weights_epoch_010.h5'), PosixPath('../results/training_hyperparameters/opt_adam__lr_0.001__ams_True__decay_True__2/weights_epoch_011.h5'), PosixPath('../results/training_hyperparameters/opt_adam__lr_0.001__ams_True__decay_True__2/weights_epoch_012.h5'), PosixPath('../results/training_hyperparameters/opt_adam__lr_0.001__ams_True__decay_True__2/weights_epoch_013.h5'), PosixPath('../results/training_hyperparameters/opt_adam__lr_0.001__ams_True__decay_True__2/weights_epoch_014.h5')]\n"
     ]
    },
    {
     "name": "stderr",
     "output_type": "stream",
     "text": [
      "\r",
      " 75%|███████▌  | 3/4 [16:12<05:14, 314.44s/it]"
     ]
    },
    {
     "name": "stdout",
     "output_type": "stream",
     "text": [
      "[PosixPath('../results/training_hyperparameters/opt_adam__lr_0.001__ams_True__decay_True__3/weights_epoch_000.h5'), PosixPath('../results/training_hyperparameters/opt_adam__lr_0.001__ams_True__decay_True__3/weights_epoch_001.h5'), PosixPath('../results/training_hyperparameters/opt_adam__lr_0.001__ams_True__decay_True__3/weights_epoch_002.h5'), PosixPath('../results/training_hyperparameters/opt_adam__lr_0.001__ams_True__decay_True__3/weights_epoch_003.h5'), PosixPath('../results/training_hyperparameters/opt_adam__lr_0.001__ams_True__decay_True__3/weights_epoch_004.h5'), PosixPath('../results/training_hyperparameters/opt_adam__lr_0.001__ams_True__decay_True__3/weights_epoch_005.h5'), PosixPath('../results/training_hyperparameters/opt_adam__lr_0.001__ams_True__decay_True__3/weights_epoch_006.h5'), PosixPath('../results/training_hyperparameters/opt_adam__lr_0.001__ams_True__decay_True__3/weights_epoch_007.h5'), PosixPath('../results/training_hyperparameters/opt_adam__lr_0.001__ams_True__decay_True__3/weights_epoch_008.h5'), PosixPath('../results/training_hyperparameters/opt_adam__lr_0.001__ams_True__decay_True__3/weights_epoch_009.h5'), PosixPath('../results/training_hyperparameters/opt_adam__lr_0.001__ams_True__decay_True__3/weights_epoch_010.h5'), PosixPath('../results/training_hyperparameters/opt_adam__lr_0.001__ams_True__decay_True__3/weights_epoch_011.h5'), PosixPath('../results/training_hyperparameters/opt_adam__lr_0.001__ams_True__decay_True__3/weights_epoch_012.h5'), PosixPath('../results/training_hyperparameters/opt_adam__lr_0.001__ams_True__decay_True__3/weights_epoch_013.h5'), PosixPath('../results/training_hyperparameters/opt_adam__lr_0.001__ams_True__decay_True__3/weights_epoch_014.h5')]\n"
     ]
    }
   ],
   "source": [
    "resf = evaluate_family_final(family, X_test, y_test, verbose=True)"
   ]
  },
  {
   "cell_type": "code",
   "execution_count": 112,
   "metadata": {},
   "outputs": [
    {
     "data": {
      "text/plain": [
       "[<matplotlib.lines.Line2D at 0x7f49c41dc7f0>]"
      ]
     },
     "execution_count": 112,
     "metadata": {},
     "output_type": "execute_result"
    },
    {
     "data": {
      "image/png": "[encoded data removed]",
      "text/plain": [
       "<Figure size 432x288 with 1 Axes>"
      ]
     },
     "metadata": {
      "needs_background": "light"
     },
     "output_type": "display_data"
    }
   ],
   "source": [
    "subset = {k: v for k, v in ress['smape'].items() if 'opt_adam__lr_0.001__ams_True__decay_True__0' in k}\n",
    "r1 = [v for k, v in subset.items() if 'ens' not in k]\n",
    "r2 = [v for k, v in subset.items() if 'ens' in k]\n",
    "plt.plot(r1)\n",
    "plt.plot(r2)"
   ]
  },
  {
   "cell_type": "markdown",
   "metadata": {},
   "source": [
    "## 27/12"
   ]
  },
  {
   "cell_type": "code",
   "execution_count": 9,
   "metadata": {},
   "outputs": [
    {
     "name": "stdout",
     "output_type": "stream",
     "text": [
      "weights_epoch_000.h5   13.967\n",
      "weights_epoch_001.h5   13.697\n",
      "weights_epoch_002.h5   13.498\n",
      "weights_epoch_003.h5   13.307\n",
      "weights_epoch_004.h5   13.505\n",
      "weights_epoch_005.h5   13.283\n",
      "weights_epoch_006.h5   13.289\n",
      "weights_epoch_007.h5   13.324\n",
      "weights_epoch_008.h5   13.285\n",
      "weights_epoch_009.h5   13.374\n",
      "weights_epoch_010.h5   13.378\n",
      "weights_epoch_011.h5   13.333\n",
      "weights_epoch_012.h5   13.259\n",
      "weights_epoch_013.h5   13.243\n",
      "weights_epoch_014.h5   13.321\n"
     ]
    },
    {
     "data": {
      "text/plain": [
       "[<matplotlib.lines.Line2D at 0x7f757aa6f358>]"
      ]
     },
     "execution_count": 9,
     "metadata": {},
     "output_type": "execute_result"
    },
    {
     "data": {
      "image/png": "[encoded data removed]",
      "text/plain": [
       "<Figure size 432x288 with 1 Axes>"
      ]
     },
     "metadata": {
      "needs_background": "light"
     },
     "output_type": "display_data"
    }
   ],
   "source": [
    "single_2 = []\n",
    "ensemble_2 = []\n",
    "\n",
    "agg_2 = []\n",
    "\n",
    "for k, v in model_preds.items():\n",
    "    agg_2.append(v)\n",
    "    s1 = metrics.SMAPE(y_test, v).mean()\n",
    "    s2 = metrics.SMAPE(y_test, np.median(agg_2, axis=0)).mean()\n",
    "    print('{}   {:.3f}'.format(k.split('/')[-1], s1))\n",
    "    single_2.append(s1)\n",
    "    ensemble_2.append(s2)\n",
    "    \n",
    "plt.plot(single_2)\n",
    "plt.plot(ensemble_2)"
   ]
  },
  {
   "cell_type": "code",
   "execution_count": 20,
   "metadata": {},
   "outputs": [
    {
     "name": "stdout",
     "output_type": "stream",
     "text": [
      "1\n",
      "2\n",
      "3\n",
      "4\n",
      "5\n",
      "6\n",
      "7\n",
      "8\n",
      "9\n",
      "10\n",
      "11\n",
      "12\n",
      "13\n",
      "14\n",
      "15\n"
     ]
    }
   ],
   "source": [
    "all_model_preds_in_trial = []\n",
    "results = {'smape': {}, 'mase*': {}}\n",
    "epoch_ind = 0\n",
    "\n",
    "for k, v in model_preds_2.items():\n",
    "\n",
    "    preds = v\n",
    "\n",
    "    all_model_preds_in_trial.append(preds)\n",
    "\n",
    "    results['smape']['n' + '__epoch_{}'.format(epoch_ind + 1)] = np.nanmean(metrics.SMAPE(y_test, preds[:, -6:]))\n",
    "    results['mase*']['n' + '__epoch_{}'.format(epoch_ind + 1)] = np.nanmean(metrics.MASE(X_test, y_test, preds[:, -6:]))\n",
    "\n",
    "    ensemble_preds = np.median(np.array(all_model_preds_in_trial), axis=0)\n",
    "\n",
    "    results['smape']['ens__' + 'n' + '__epoch_{}'.format(epoch_ind + 1)] = np.nanmean(metrics.SMAPE(y_test, ensemble_preds[:, -6:]))\n",
    "    results['mase*']['ens__' + 'n' + '__epoch_{}'.format(epoch_ind + 1)] = np.nanmean(metrics.MASE(X_test, y_test, ensemble_preds[:, -6:]))\n",
    "\n",
    "    epoch_ind += 1\n",
    "    \n",
    "    print(epoch_ind)"
   ]
  },
  {
   "cell_type": "code",
   "execution_count": 22,
   "metadata": {},
   "outputs": [
    {
     "data": {
      "text/plain": [
       "[<matplotlib.lines.Line2D at 0x7f757aa267b8>]"
      ]
     },
     "execution_count": 22,
     "metadata": {},
     "output_type": "execute_result"
    },
    {
     "data": {
      "image/png": "[encoded data removed]",
      "text/plain": [
       "<Figure size 432x288 with 1 Axes>"
      ]
     },
     "metadata": {
      "needs_background": "light"
     },
     "output_type": "display_data"
    }
   ],
   "source": [
    "r1 = [v for k, v in results['smape'].items() if 'ens' not in k]\n",
    "r2 = [v for k, v in results['smape'].items() if 'ens' in k]\n",
    "\n",
    "plt.plot(r1)\n",
    "plt.plot(r2)"
   ]
  },
  {
   "cell_type": "code",
   "execution_count": 24,
   "metadata": {},
   "outputs": [],
   "source": [
    "def evaluate_from_preds(model_preds):\n",
    "    all_model_preds_in_trial = []\n",
    "    results = {'smape': {}, 'mase*': {}}\n",
    "    epoch_ind = 0\n",
    "\n",
    "    for k, v in tqdm(model_preds.items()):\n",
    "\n",
    "        preds = v\n",
    "\n",
    "        all_model_preds_in_trial.append(preds)\n",
    "\n",
    "        results['smape']['n' + '__epoch_{}'.format(epoch_ind + 1)] = np.nanmean(metrics.SMAPE(y_test, preds[:, -6:]))\n",
    "        results['mase*']['n' + '__epoch_{}'.format(epoch_ind + 1)] = np.nanmean(metrics.MASE(X_test, y_test, preds[:, -6:]))\n",
    "\n",
    "        ensemble_preds = np.median(np.array(all_model_preds_in_trial), axis=0)\n",
    "\n",
    "        results['smape']['ens__' + 'n' + '__epoch_{}'.format(epoch_ind + 1)] = np.nanmean(metrics.SMAPE(y_test, ensemble_preds[:, -6:]))\n",
    "        results['mase*']['ens__' + 'n' + '__epoch_{}'.format(epoch_ind + 1)] = np.nanmean(metrics.MASE(X_test, y_test, ensemble_preds[:, -6:]))\n",
    "\n",
    "        epoch_ind += 1\n",
    "\n",
    "    return results\n",
    "\n",
    "def plot_results(results):\n",
    "    r1 = [v for k, v in results['smape'].items() if 'ens' not in k]\n",
    "    r2 = [v for k, v in results['smape'].items() if 'ens' in k]\n",
    "\n",
    "    plt.plot(r1)\n",
    "    plt.plot(r2)"
   ]
  },
  {
   "cell_type": "code",
   "execution_count": 32,
   "metadata": {},
   "outputs": [],
   "source": [
    "def evaluate_family_10(family, x, y, result_dict=None, desc=None, verbose=False):\n",
    "\n",
    "    results = {'smape': {}, 'mase*': {}}\n",
    "    family = Path(family)\n",
    "    trials = sorted(family.parent.glob(family.name + '*'), key=lambda x: int(x.name.split('__')[-1]))\n",
    "    print(trials)\n",
    "    \n",
    "    trial = trials[0]\n",
    "    print(trial)\n",
    "    trial = Path(trial)\n",
    "    \n",
    "    all_models_in_trial = sorted(trial.glob('*'), key=lambda x: x.name.split('/')[-1])\n",
    "    print(all_models_in_trial)\n",
    "\n",
    "    model_preds = {}\n",
    "    \n",
    "    for single_model in tqdm(all_models_in_trial):\n",
    "\n",
    "        model = tf.keras.models.load_model(single_model)\n",
    "        \n",
    "        preds = evaluation.get_predictions(model, x)\n",
    "        model_preds[str(single_model)] = preds\n",
    "    \n",
    "    results = evaluate_from_preds(model_preds)\n",
    "    plot_results(results)\n",
    "    return results"
   ]
  },
  {
   "cell_type": "code",
   "execution_count": 33,
   "metadata": {},
   "outputs": [
    {
     "name": "stderr",
     "output_type": "stream",
     "text": [
      "\r",
      "  0%|          | 0/15 [00:00<?, ?it/s]"
     ]
    },
    {
     "name": "stdout",
     "output_type": "stream",
     "text": [
      "[PosixPath('../results/training_hyperparameters/opt_adam__lr_0.001__ams_True__decay_True__0'), PosixPath('../results/training_hyperparameters/opt_adam__lr_0.001__ams_True__decay_True__1'), PosixPath('../results/training_hyperparameters/opt_adam__lr_0.001__ams_True__decay_True__2'), PosixPath('../results/training_hyperparameters/opt_adam__lr_0.001__ams_True__decay_True__3')]\n",
      "../results/training_hyperparameters/opt_adam__lr_0.001__ams_True__decay_True__0\n",
      "[PosixPath('../results/training_hyperparameters/opt_adam__lr_0.001__ams_True__decay_True__0/weights_epoch_000.h5'), PosixPath('../results/training_hyperparameters/opt_adam__lr_0.001__ams_True__decay_True__0/weights_epoch_001.h5'), PosixPath('../results/training_hyperparameters/opt_adam__lr_0.001__ams_True__decay_True__0/weights_epoch_002.h5'), PosixPath('../results/training_hyperparameters/opt_adam__lr_0.001__ams_True__decay_True__0/weights_epoch_003.h5'), PosixPath('../results/training_hyperparameters/opt_adam__lr_0.001__ams_True__decay_True__0/weights_epoch_004.h5'), PosixPath('../results/training_hyperparameters/opt_adam__lr_0.001__ams_True__decay_True__0/weights_epoch_005.h5'), PosixPath('../results/training_hyperparameters/opt_adam__lr_0.001__ams_True__decay_True__0/weights_epoch_006.h5'), PosixPath('../results/training_hyperparameters/opt_adam__lr_0.001__ams_True__decay_True__0/weights_epoch_007.h5'), PosixPath('../results/training_hyperparameters/opt_adam__lr_0.001__ams_True__decay_True__0/weights_epoch_008.h5'), PosixPath('../results/training_hyperparameters/opt_adam__lr_0.001__ams_True__decay_True__0/weights_epoch_009.h5'), PosixPath('../results/training_hyperparameters/opt_adam__lr_0.001__ams_True__decay_True__0/weights_epoch_010.h5'), PosixPath('../results/training_hyperparameters/opt_adam__lr_0.001__ams_True__decay_True__0/weights_epoch_011.h5'), PosixPath('../results/training_hyperparameters/opt_adam__lr_0.001__ams_True__decay_True__0/weights_epoch_012.h5'), PosixPath('../results/training_hyperparameters/opt_adam__lr_0.001__ams_True__decay_True__0/weights_epoch_013.h5'), PosixPath('../results/training_hyperparameters/opt_adam__lr_0.001__ams_True__decay_True__0/weights_epoch_014.h5')]\n"
     ]
    },
    {
     "name": "stderr",
     "output_type": "stream",
     "text": [
      "100%|██████████| 15/15 [00:35<00:00,  2.40s/it]\n",
      "100%|██████████| 15/15 [00:00<00:00, 37.34it/s]\n"
     ]
    },
    {
     "data": {
      "image/png": "[encoded data removed]",
      "text/plain": [
       "<Figure size 432x288 with 1 Axes>"
      ]
     },
     "metadata": {
      "needs_background": "light"
     },
     "output_type": "display_data"
    }
   ],
   "source": [
    "res10 = evaluate_family_10(family, X_test, y_test, verbose=True)"
   ]
  },
  {
   "cell_type": "code",
   "execution_count": 54,
   "metadata": {},
   "outputs": [],
   "source": [
    "def evaluate_family_11(family, x, y, result_dict=None, desc=None, verbose=False):\n",
    "\n",
    "    results = {'smape': {}, 'mase*': {}}\n",
    "    family = Path(family)\n",
    "    trials = sorted(family.parent.glob(family.name + '*'), key=lambda x: int(x.name.split('__')[-1]))\n",
    "    print(trials)\n",
    "    \n",
    "    trial = trials[0]\n",
    "    print(trial)\n",
    "    trial = Path(trial)\n",
    "    \n",
    "    all_models_in_trial = sorted(trial.glob('*'), key=lambda x: x.name.split('/')[-1])\n",
    "    print(all_models_in_trial)\n",
    "\n",
    "    model_preds = {}\n",
    "    all_model_preds_in_trial = []\n",
    "    \n",
    "    epoch_ind = 0\n",
    "    \n",
    "    for single_model in tqdm(all_models_in_trial):\n",
    "\n",
    "        model = tf.keras.models.load_model(single_model)\n",
    "        \n",
    "        preds = evaluation.get_predictions(model, x)\n",
    "        model_preds[str(single_model)] = preds\n",
    "        \n",
    "        all_model_preds_in_trial.append(preds)\n",
    "\n",
    "        results['smape'][trial.name + '__epoch_{}'.format(epoch_ind + 1)] = np.nanmean(metrics.SMAPE(y, preds[:, -6:]))\n",
    "        results['mase*'][trial.name + '__epoch_{}'.format(epoch_ind + 1)] = np.nanmean(metrics.MASE(x, y, preds[:, -6:]))\n",
    "            \n",
    "        ensemble_preds = np.median(np.array(all_model_preds_in_trial), axis=0)\n",
    "\n",
    "        results['smape']['ens__' + trial.name + '__epoch_{}'.format(epoch_ind + 1)] = np.nanmean(metrics.SMAPE(y, ensemble_preds[:, -6:]))\n",
    "        results['mase*']['ens__' + trial.name + '__epoch_{}'.format(epoch_ind + 1)] = np.nanmean(metrics.MASE(x, y, ensemble_preds[:, -6:]))\n",
    "        \n",
    "        epoch_ind += 1\n",
    "\n",
    "    results2 = evaluate_from_preds(model_preds)\n",
    "\n",
    "    plot_results(results)\n",
    "    return results, results2"
   ]
  },
  {
   "cell_type": "code",
   "execution_count": 55,
   "metadata": {},
   "outputs": [
    {
     "name": "stderr",
     "output_type": "stream",
     "text": [
      "\r",
      "  0%|          | 0/15 [00:00<?, ?it/s]"
     ]
    },
    {
     "name": "stdout",
     "output_type": "stream",
     "text": [
      "[PosixPath('../results/training_hyperparameters/opt_adam__lr_0.001__ams_True__decay_True__0'), PosixPath('../results/training_hyperparameters/opt_adam__lr_0.001__ams_True__decay_True__1'), PosixPath('../results/training_hyperparameters/opt_adam__lr_0.001__ams_True__decay_True__2'), PosixPath('../results/training_hyperparameters/opt_adam__lr_0.001__ams_True__decay_True__3')]\n",
      "../results/training_hyperparameters/opt_adam__lr_0.001__ams_True__decay_True__0\n",
      "[PosixPath('../results/training_hyperparameters/opt_adam__lr_0.001__ams_True__decay_True__0/weights_epoch_000.h5'), PosixPath('../results/training_hyperparameters/opt_adam__lr_0.001__ams_True__decay_True__0/weights_epoch_001.h5'), PosixPath('../results/training_hyperparameters/opt_adam__lr_0.001__ams_True__decay_True__0/weights_epoch_002.h5'), PosixPath('../results/training_hyperparameters/opt_adam__lr_0.001__ams_True__decay_True__0/weights_epoch_003.h5'), PosixPath('../results/training_hyperparameters/opt_adam__lr_0.001__ams_True__decay_True__0/weights_epoch_004.h5'), PosixPath('../results/training_hyperparameters/opt_adam__lr_0.001__ams_True__decay_True__0/weights_epoch_005.h5'), PosixPath('../results/training_hyperparameters/opt_adam__lr_0.001__ams_True__decay_True__0/weights_epoch_006.h5'), PosixPath('../results/training_hyperparameters/opt_adam__lr_0.001__ams_True__decay_True__0/weights_epoch_007.h5'), PosixPath('../results/training_hyperparameters/opt_adam__lr_0.001__ams_True__decay_True__0/weights_epoch_008.h5'), PosixPath('../results/training_hyperparameters/opt_adam__lr_0.001__ams_True__decay_True__0/weights_epoch_009.h5'), PosixPath('../results/training_hyperparameters/opt_adam__lr_0.001__ams_True__decay_True__0/weights_epoch_010.h5'), PosixPath('../results/training_hyperparameters/opt_adam__lr_0.001__ams_True__decay_True__0/weights_epoch_011.h5'), PosixPath('../results/training_hyperparameters/opt_adam__lr_0.001__ams_True__decay_True__0/weights_epoch_012.h5'), PosixPath('../results/training_hyperparameters/opt_adam__lr_0.001__ams_True__decay_True__0/weights_epoch_013.h5'), PosixPath('../results/training_hyperparameters/opt_adam__lr_0.001__ams_True__decay_True__0/weights_epoch_014.h5')]\n"
     ]
    },
    {
     "name": "stderr",
     "output_type": "stream",
     "text": [
      "100%|██████████| 15/15 [00:39<00:00,  2.61s/it]\n",
      "100%|██████████| 15/15 [00:00<00:00, 35.76it/s]\n"
     ]
    },
    {
     "data": {
      "image/png": "[encoded data removed]",
      "text/plain": [
       "<Figure size 432x288 with 1 Axes>"
      ]
     },
     "metadata": {
      "needs_background": "light"
     },
     "output_type": "display_data"
    }
   ],
   "source": [
    "res11_1, res11_2 = evaluate_family_11(family, X_test, y_test, verbose=True)"
   ]
  },
  {
   "cell_type": "code",
   "execution_count": 7,
   "metadata": {},
   "outputs": [],
   "source": [
    "def evaluate_family_12(family, x, y, result_dict=None, desc=None, verbose=False):\n",
    "\n",
    "    res_fb = []\n",
    "    results = {'smape': {}, 'mase*': {}}\n",
    "    family = Path(family)\n",
    "    trials = sorted(family.parent.glob(family.name + '*'), key=lambda x: int(x.name.split('__')[-1]))\n",
    "    print(trials)\n",
    "\n",
    "    for trial in trials:\n",
    "\n",
    "        print()\n",
    "        print(trial)\n",
    "        trial = Path(trial)\n",
    "    \n",
    "        all_models_in_trial = sorted(trial.glob('*'), key=lambda x: x.name.split('/')[-1])\n",
    "        for m in all_models_in_trial:\n",
    "            print(m)\n",
    "\n",
    "        model_preds = {}\n",
    "        epoch_ind = 0\n",
    "\n",
    "        all_model_preds_in_trial = []\n",
    "        \n",
    "        for single_model in tqdm(all_models_in_trial):\n",
    "\n",
    "            model = tf.keras.models.load_model(single_model)\n",
    "\n",
    "            preds = evaluation.get_predictions(model, x)\n",
    "            model_preds[str(single_model)] = preds\n",
    "\n",
    "            all_model_preds_in_trial.append(preds)\n",
    "\n",
    "            results['smape'][trial.name + '__epoch_{}'.format(epoch_ind + 1)] = np.nanmean(metrics.SMAPE(y, preds[:, -6:]))\n",
    "            results['mase*'][trial.name + '__epoch_{}'.format(epoch_ind + 1)] = np.nanmean(metrics.MASE(x, y, preds[:, -6:]))\n",
    "\n",
    "            ensemble_preds = np.median(np.array(all_model_preds_in_trial), axis=0)\n",
    "\n",
    "            results['smape']['ens__' + trial.name + '__epoch_{}'.format(epoch_ind + 1)] = np.nanmean(metrics.SMAPE(y, ensemble_preds[:, -6:]))\n",
    "            results['mase*']['ens__' + trial.name + '__epoch_{}'.format(epoch_ind + 1)] = np.nanmean(metrics.MASE(x, y, ensemble_preds[:, -6:]))\n",
    "\n",
    "            epoch_ind += 1\n",
    "            \n",
    "            del model\n",
    "            tf.keras.backend.clear_session()\n",
    "            \n",
    "    return results"
   ]
  },
  {
   "cell_type": "code",
   "execution_count": 8,
   "metadata": {},
   "outputs": [
    {
     "name": "stderr",
     "output_type": "stream",
     "text": [
      "\r",
      "  0%|          | 0/15 [00:00<?, ?it/s]"
     ]
    },
    {
     "name": "stdout",
     "output_type": "stream",
     "text": [
      "[PosixPath('../results/training_hyperparameters/opt_adam__lr_0.001__ams_True__decay_True__0'), PosixPath('../results/training_hyperparameters/opt_adam__lr_0.001__ams_True__decay_True__1'), PosixPath('../results/training_hyperparameters/opt_adam__lr_0.001__ams_True__decay_True__2'), PosixPath('../results/training_hyperparameters/opt_adam__lr_0.001__ams_True__decay_True__3')]\n",
      "\n",
      "../results/training_hyperparameters/opt_adam__lr_0.001__ams_True__decay_True__0\n",
      "../results/training_hyperparameters/opt_adam__lr_0.001__ams_True__decay_True__0/weights_epoch_000.h5\n",
      "../results/training_hyperparameters/opt_adam__lr_0.001__ams_True__decay_True__0/weights_epoch_001.h5\n",
      "../results/training_hyperparameters/opt_adam__lr_0.001__ams_True__decay_True__0/weights_epoch_002.h5\n",
      "../results/training_hyperparameters/opt_adam__lr_0.001__ams_True__decay_True__0/weights_epoch_003.h5\n",
      "../results/training_hyperparameters/opt_adam__lr_0.001__ams_True__decay_True__0/weights_epoch_004.h5\n",
      "../results/training_hyperparameters/opt_adam__lr_0.001__ams_True__decay_True__0/weights_epoch_005.h5\n",
      "../results/training_hyperparameters/opt_adam__lr_0.001__ams_True__decay_True__0/weights_epoch_006.h5\n",
      "../results/training_hyperparameters/opt_adam__lr_0.001__ams_True__decay_True__0/weights_epoch_007.h5\n",
      "../results/training_hyperparameters/opt_adam__lr_0.001__ams_True__decay_True__0/weights_epoch_008.h5\n",
      "../results/training_hyperparameters/opt_adam__lr_0.001__ams_True__decay_True__0/weights_epoch_009.h5\n",
      "../results/training_hyperparameters/opt_adam__lr_0.001__ams_True__decay_True__0/weights_epoch_010.h5\n",
      "../results/training_hyperparameters/opt_adam__lr_0.001__ams_True__decay_True__0/weights_epoch_011.h5\n",
      "../results/training_hyperparameters/opt_adam__lr_0.001__ams_True__decay_True__0/weights_epoch_012.h5\n",
      "../results/training_hyperparameters/opt_adam__lr_0.001__ams_True__decay_True__0/weights_epoch_013.h5\n",
      "../results/training_hyperparameters/opt_adam__lr_0.001__ams_True__decay_True__0/weights_epoch_014.h5\n"
     ]
    },
    {
     "name": "stderr",
     "output_type": "stream",
     "text": [
      "100%|██████████| 15/15 [00:36<00:00,  2.46s/it]\n",
      "  0%|          | 0/15 [00:00<?, ?it/s]"
     ]
    },
    {
     "name": "stdout",
     "output_type": "stream",
     "text": [
      "\n",
      "../results/training_hyperparameters/opt_adam__lr_0.001__ams_True__decay_True__1\n",
      "../results/training_hyperparameters/opt_adam__lr_0.001__ams_True__decay_True__1/weights_epoch_000.h5\n",
      "../results/training_hyperparameters/opt_adam__lr_0.001__ams_True__decay_True__1/weights_epoch_001.h5\n",
      "../results/training_hyperparameters/opt_adam__lr_0.001__ams_True__decay_True__1/weights_epoch_002.h5\n",
      "../results/training_hyperparameters/opt_adam__lr_0.001__ams_True__decay_True__1/weights_epoch_003.h5\n",
      "../results/training_hyperparameters/opt_adam__lr_0.001__ams_True__decay_True__1/weights_epoch_004.h5\n",
      "../results/training_hyperparameters/opt_adam__lr_0.001__ams_True__decay_True__1/weights_epoch_005.h5\n",
      "../results/training_hyperparameters/opt_adam__lr_0.001__ams_True__decay_True__1/weights_epoch_006.h5\n",
      "../results/training_hyperparameters/opt_adam__lr_0.001__ams_True__decay_True__1/weights_epoch_007.h5\n",
      "../results/training_hyperparameters/opt_adam__lr_0.001__ams_True__decay_True__1/weights_epoch_008.h5\n",
      "../results/training_hyperparameters/opt_adam__lr_0.001__ams_True__decay_True__1/weights_epoch_009.h5\n",
      "../results/training_hyperparameters/opt_adam__lr_0.001__ams_True__decay_True__1/weights_epoch_010.h5\n",
      "../results/training_hyperparameters/opt_adam__lr_0.001__ams_True__decay_True__1/weights_epoch_011.h5\n",
      "../results/training_hyperparameters/opt_adam__lr_0.001__ams_True__decay_True__1/weights_epoch_012.h5\n",
      "../results/training_hyperparameters/opt_adam__lr_0.001__ams_True__decay_True__1/weights_epoch_013.h5\n",
      "../results/training_hyperparameters/opt_adam__lr_0.001__ams_True__decay_True__1/weights_epoch_014.h5\n"
     ]
    },
    {
     "name": "stderr",
     "output_type": "stream",
     "text": [
      "100%|██████████| 15/15 [00:35<00:00,  2.37s/it]\n",
      "  0%|          | 0/15 [00:00<?, ?it/s]"
     ]
    },
    {
     "name": "stdout",
     "output_type": "stream",
     "text": [
      "\n",
      "../results/training_hyperparameters/opt_adam__lr_0.001__ams_True__decay_True__2\n",
      "../results/training_hyperparameters/opt_adam__lr_0.001__ams_True__decay_True__2/weights_epoch_000.h5\n",
      "../results/training_hyperparameters/opt_adam__lr_0.001__ams_True__decay_True__2/weights_epoch_001.h5\n",
      "../results/training_hyperparameters/opt_adam__lr_0.001__ams_True__decay_True__2/weights_epoch_002.h5\n",
      "../results/training_hyperparameters/opt_adam__lr_0.001__ams_True__decay_True__2/weights_epoch_003.h5\n",
      "../results/training_hyperparameters/opt_adam__lr_0.001__ams_True__decay_True__2/weights_epoch_004.h5\n",
      "../results/training_hyperparameters/opt_adam__lr_0.001__ams_True__decay_True__2/weights_epoch_005.h5\n",
      "../results/training_hyperparameters/opt_adam__lr_0.001__ams_True__decay_True__2/weights_epoch_006.h5\n",
      "../results/training_hyperparameters/opt_adam__lr_0.001__ams_True__decay_True__2/weights_epoch_007.h5\n",
      "../results/training_hyperparameters/opt_adam__lr_0.001__ams_True__decay_True__2/weights_epoch_008.h5\n",
      "../results/training_hyperparameters/opt_adam__lr_0.001__ams_True__decay_True__2/weights_epoch_009.h5\n",
      "../results/training_hyperparameters/opt_adam__lr_0.001__ams_True__decay_True__2/weights_epoch_010.h5\n",
      "../results/training_hyperparameters/opt_adam__lr_0.001__ams_True__decay_True__2/weights_epoch_011.h5\n",
      "../results/training_hyperparameters/opt_adam__lr_0.001__ams_True__decay_True__2/weights_epoch_012.h5\n",
      "../results/training_hyperparameters/opt_adam__lr_0.001__ams_True__decay_True__2/weights_epoch_013.h5\n",
      "../results/training_hyperparameters/opt_adam__lr_0.001__ams_True__decay_True__2/weights_epoch_014.h5\n"
     ]
    },
    {
     "name": "stderr",
     "output_type": "stream",
     "text": [
      "100%|██████████| 15/15 [00:35<00:00,  2.39s/it]\n",
      "  0%|          | 0/15 [00:00<?, ?it/s]"
     ]
    },
    {
     "name": "stdout",
     "output_type": "stream",
     "text": [
      "\n",
      "../results/training_hyperparameters/opt_adam__lr_0.001__ams_True__decay_True__3\n",
      "../results/training_hyperparameters/opt_adam__lr_0.001__ams_True__decay_True__3/weights_epoch_000.h5\n",
      "../results/training_hyperparameters/opt_adam__lr_0.001__ams_True__decay_True__3/weights_epoch_001.h5\n",
      "../results/training_hyperparameters/opt_adam__lr_0.001__ams_True__decay_True__3/weights_epoch_002.h5\n",
      "../results/training_hyperparameters/opt_adam__lr_0.001__ams_True__decay_True__3/weights_epoch_003.h5\n",
      "../results/training_hyperparameters/opt_adam__lr_0.001__ams_True__decay_True__3/weights_epoch_004.h5\n",
      "../results/training_hyperparameters/opt_adam__lr_0.001__ams_True__decay_True__3/weights_epoch_005.h5\n",
      "../results/training_hyperparameters/opt_adam__lr_0.001__ams_True__decay_True__3/weights_epoch_006.h5\n",
      "../results/training_hyperparameters/opt_adam__lr_0.001__ams_True__decay_True__3/weights_epoch_007.h5\n",
      "../results/training_hyperparameters/opt_adam__lr_0.001__ams_True__decay_True__3/weights_epoch_008.h5\n",
      "../results/training_hyperparameters/opt_adam__lr_0.001__ams_True__decay_True__3/weights_epoch_009.h5\n",
      "../results/training_hyperparameters/opt_adam__lr_0.001__ams_True__decay_True__3/weights_epoch_010.h5\n",
      "../results/training_hyperparameters/opt_adam__lr_0.001__ams_True__decay_True__3/weights_epoch_011.h5\n",
      "../results/training_hyperparameters/opt_adam__lr_0.001__ams_True__decay_True__3/weights_epoch_012.h5\n",
      "../results/training_hyperparameters/opt_adam__lr_0.001__ams_True__decay_True__3/weights_epoch_013.h5\n",
      "../results/training_hyperparameters/opt_adam__lr_0.001__ams_True__decay_True__3/weights_epoch_014.h5\n"
     ]
    },
    {
     "name": "stderr",
     "output_type": "stream",
     "text": [
      "100%|██████████| 15/15 [00:38<00:00,  2.55s/it]\n"
     ]
    }
   ],
   "source": [
    "family = '../results/training_hyperparameters/opt_adam__lr_0.001__ams_True__decay_True'\n",
    "res12 = evaluate_family_12(family, X_test, y_test)"
   ]
  },
  {
   "cell_type": "code",
   "execution_count": 10,
   "metadata": {},
   "outputs": [
    {
     "data": {
      "text/plain": [
       "[<matplotlib.lines.Line2D at 0x7f309c53b2e8>]"
      ]
     },
     "execution_count": 10,
     "metadata": {},
     "output_type": "execute_result"
    },
    {
     "data": {
      "image/png": "[encoded data removed]",
      "text/plain": [
       "<Figure size 432x288 with 1 Axes>"
      ]
     },
     "metadata": {
      "needs_background": "light"
     },
     "output_type": "display_data"
    }
   ],
   "source": [
    "plt.plot([v for k, v in res12['smape'].items() if k.startswith('opt_adam__lr_0.001__ams_True__decay_True__0')])\n",
    "# plt.plot([v for k, v in res12['smape'].items() if k.startswith('opt_adam__lr_0.001__ams_True__decay_True__1')])\n",
    "# plt.plot([v for k, v in res12['smape'].items() if k.startswith('opt_adam__lr_0.001__ams_True__decay_True__2')])\n",
    "# plt.plot([v for k, v in res12['smape'].items() if k.startswith('opt_adam__lr_0.001__ams_True__decay_True__3')])\n",
    "\n",
    "plt.plot([v for k, v in res12['smape'].items() if k.startswith('ens__opt_adam__lr_0.001__ams_True__decay_True__0')], c='0.5')\n",
    "# plt.plot([v for k, v in res12['smape'].items() if k.startswith('ens__opt_adam__lr_0.001__ams_True__decay_True__1')], c='0.5')\n",
    "# plt.plot([v for k, v in res12['smape'].items() if k.startswith('ens__opt_adam__lr_0.001__ams_True__decay_True__2')], c='0.5')\n",
    "# plt.plot([v for k, v in res12['smape'].items() if k.startswith('ens__opt_adam__lr_0.001__ams_True__decay_True__3')], c='0.5')"
   ]
  },
  {
   "cell_type": "code",
   "execution_count": 13,
   "metadata": {},
   "outputs": [],
   "source": [
    "def evaluate_family_13(family, x, y, result_dict=None, desc=None, verbose=False):\n",
    "\n",
    "    res_fb = []\n",
    "    results = {'smape': {}, 'mase*': {}}\n",
    "    family = Path(family)\n",
    "    trials = sorted(family.parent.glob(family.name + '*'), key=lambda x: int(x.name.split('__')[-1]))\n",
    "    print(trials)\n",
    "\n",
    "    family_preds = None\n",
    "    \n",
    "    for trial in tqdm(trials):\n",
    "\n",
    "#         print()\n",
    "#         print(trial)\n",
    "        trial = Path(trial)\n",
    "    \n",
    "        all_models_in_trial = sorted(trial.glob('*'), key=lambda x: x.name.split('/')[-1])\n",
    "#         for m in all_models_in_trial:\n",
    "#             print(m)\n",
    "\n",
    "        if not family_preds:\n",
    "            family_preds = [[] for _ in range(len(all_models_in_trial))]\n",
    "\n",
    "        all_model_preds_in_trial = []\n",
    "        \n",
    "        for epoch_ind, single_model in enumerate(all_models_in_trial):\n",
    "\n",
    "            model = tf.keras.models.load_model(single_model)\n",
    "\n",
    "            preds = evaluation.get_predictions(model, x)\n",
    "            \n",
    "            family_preds[epoch_ind].append(preds)\n",
    "\n",
    "            all_model_preds_in_trial.append(preds)\n",
    "\n",
    "            results['smape'][trial.name + '__epoch_{}'.format(epoch_ind + 1)] = np.nanmean(metrics.SMAPE(y, preds[:, -6:]))\n",
    "            results['mase*'][trial.name + '__epoch_{}'.format(epoch_ind + 1)] = np.nanmean(metrics.MASE(x, y, preds[:, -6:]))\n",
    "\n",
    "            ensemble_preds = np.median(np.array(all_model_preds_in_trial), axis=0)\n",
    "\n",
    "            results['smape']['ens__' + trial.name + '__epoch_{}'.format(epoch_ind + 1)] = np.nanmean(metrics.SMAPE(y, ensemble_preds[:, -6:]))\n",
    "            results['mase*']['ens__' + trial.name + '__epoch_{}'.format(epoch_ind + 1)] = np.nanmean(metrics.MASE(x, y, ensemble_preds[:, -6:]))\n",
    "        \n",
    "    for i, epoch_preds in enumerate(family_preds):\n",
    "\n",
    "        preds = np.median(np.array(epoch_preds), axis=0)\n",
    "\n",
    "        results['smape']['ens__' + family.name + '____epoch_{}'.format(i)] = np.nanmean(metrics.SMAPE(y, preds[:, -6:]))\n",
    "        results['mase*']['ens__' + family.name + '____epoch_{}'.format(i)] = np.nanmean(metrics.MASE(x, y, preds[:, -6:]))\n",
    "\n",
    "#     final_preds = np.median(np.array(ensemble_preds_all_trials), axis=0)\n",
    "\n",
    "#     results['smape']['ens__' + family.name + '____epoch_'] = np.nanmean(metrics.SMAPE(y, final_preds[:, -6:]))\n",
    "#     results['mase*']['ens__' + family.name + '____epoch_'] = np.nanmean(metrics.MASE(x, y, final_preds[:, -6:]))\n",
    "\n",
    "    return results"
   ]
  },
  {
   "cell_type": "code",
   "execution_count": 17,
   "metadata": {},
   "outputs": [
    {
     "name": "stderr",
     "output_type": "stream",
     "text": [
      "\r",
      "  0%|          | 0/4 [00:00<?, ?it/s]"
     ]
    },
    {
     "name": "stdout",
     "output_type": "stream",
     "text": [
      "[PosixPath('../results/training_hyperparameters/opt_adam__lr_0.001__ams_True__decay_True__0'), PosixPath('../results/training_hyperparameters/opt_adam__lr_0.001__ams_True__decay_True__1'), PosixPath('../results/training_hyperparameters/opt_adam__lr_0.001__ams_True__decay_True__2'), PosixPath('../results/training_hyperparameters/opt_adam__lr_0.001__ams_True__decay_True__3')]\n"
     ]
    },
    {
     "name": "stderr",
     "output_type": "stream",
     "text": [
      "100%|██████████| 4/4 [02:25<00:00, 36.31s/it]\n"
     ]
    }
   ],
   "source": [
    "res13 = evaluate_family_13(family, X_test, y_test)"
   ]
  },
  {
   "cell_type": "code",
   "execution_count": 21,
   "metadata": {},
   "outputs": [
    {
     "data": {
      "text/plain": [
       "[<matplotlib.lines.Line2D at 0x7f2d8d719550>]"
      ]
     },
     "execution_count": 21,
     "metadata": {},
     "output_type": "execute_result"
    },
    {
     "data": {
      "image/png": "[encoded data removed]",
      "text/plain": [
       "<Figure size 432x288 with 1 Axes>"
      ]
     },
     "metadata": {
      "needs_background": "light"
     },
     "output_type": "display_data"
    }
   ],
   "source": [
    "plt.plot([v for k, v in res13['smape'].items() if k.startswith('opt_adam__lr_0.001__ams_True__decay_True__0')])\n",
    "# plt.plot([v for k, v in res12['smape'].items() if k.startswith('opt_adam__lr_0.001__ams_True__decay_True__1')])\n",
    "# plt.plot([v for k, v in res12['smape'].items() if k.startswith('opt_adam__lr_0.001__ams_True__decay_True__2')])\n",
    "# plt.plot([v for k, v in res12['smape'].items() if k.startswith('opt_adam__lr_0.001__ams_True__decay_True__3')])\n",
    "\n",
    "plt.plot([v for k, v in res13['smape'].items() if k.startswith('ens__opt_adam__lr_0.001__ams_True__decay_True__0')], c='0.5')\n",
    "# plt.plot([v for k, v in res12['smape'].items() if k.startswith('ens__opt_adam__lr_0.001__ams_True__decay_True__1')], c='0.5')\n",
    "# plt.plot([v for k, v in res12['smape'].items() if k.startswith('ens__opt_adam__lr_0.001__ams_True__decay_True__2')], c='0.5')\n",
    "# plt.plot([v for k, v in res12['smape'].items() if k.startswith('ens__opt_adam__lr_0.001__ams_True__decay_True__3')], c='0.5')"
   ]
  },
  {
   "cell_type": "code",
   "execution_count": 23,
   "metadata": {},
   "outputs": [
    {
     "data": {
      "text/plain": [
       "[<matplotlib.lines.Line2D at 0x7f2d8d6b5160>]"
      ]
     },
     "execution_count": 23,
     "metadata": {},
     "output_type": "execute_result"
    },
    {
     "data": {
      "image/png": "[encoded data removed]",
      "text/plain": [
       "<Figure size 432x288 with 1 Axes>"
      ]
     },
     "metadata": {
      "needs_background": "light"
     },
     "output_type": "display_data"
    }
   ],
   "source": [
    "# plt.plot([v for k, v in res13['smape'].items() if k.startswith('opt_adam__lr_0.001__ams_True__decay_True____')])\n",
    "# plt.plot([v for k, v in res12['smape'].items() if k.startswith('opt_adam__lr_0.001__ams_True__decay_True__1')])\n",
    "# plt.plot([v for k, v in res12['smape'].items() if k.startswith('opt_adam__lr_0.001__ams_True__decay_True__2')])\n",
    "# plt.plot([v for k, v in res12['smape'].items() if k.startswith('opt_adam__lr_0.001__ams_True__decay_True__3')])\n",
    "\n",
    "plt.plot([v for k, v in res13['smape'].items() if k.startswith('ens__opt_adam__lr_0.001__ams_True__decay_True____')], c='0.5')\n",
    "# plt.plot([v for k, v in res12['smape'].items() if k.startswith('ens__opt_adam__lr_0.001__ams_True__decay_True__1')], c='0.5')\n",
    "# plt.plot([v for k, v in res12['smape'].items() if k.startswith('ens__opt_adam__lr_0.001__ams_True__decay_True__2')], c='0.5')\n",
    "# plt.plot([v for k, v in res12['smape'].items() if k.startswith('ens__opt_adam__lr_0.001__ams_True__decay_True__3')], c='0.5')"
   ]
  },
  {
   "cell_type": "code",
   "execution_count": 27,
   "metadata": {},
   "outputs": [],
   "source": [
    "def evaluate_family_14(family, x, y, result_dict=None, desc=None, verbose=False):\n",
    "\n",
    "    res_fb = []\n",
    "    results = {'smape': {}, 'mase*': {}}\n",
    "    family = Path(family)\n",
    "    trials = sorted(family.parent.glob(family.name + '*'), key=lambda x: int(x.name.split('__')[-1]))\n",
    "    print(trials)\n",
    "\n",
    "    family_preds = None\n",
    "    ensemble_preds_all_trials = []\n",
    "    \n",
    "    for trial in tqdm(trials):\n",
    "\n",
    "        trial = Path(trial)\n",
    "    \n",
    "        all_models_in_trial = sorted(trial.glob('*'), key=lambda x: x.name.split('/')[-1])\n",
    "\n",
    "        if not family_preds:\n",
    "            family_preds = [[] for _ in range(len(all_models_in_trial))]\n",
    "\n",
    "        all_model_preds_in_trial = []\n",
    "        \n",
    "        for epoch_ind, single_model in enumerate(all_models_in_trial):\n",
    "\n",
    "            model = tf.keras.models.load_model(single_model)\n",
    "\n",
    "            preds = evaluation.get_predictions(model, x)\n",
    "            \n",
    "            family_preds[epoch_ind].append(preds)\n",
    "\n",
    "            all_model_preds_in_trial.append(preds)\n",
    "\n",
    "            results['smape'][trial.name + '__epoch_{}'.format(epoch_ind + 1)] = np.nanmean(metrics.SMAPE(y, preds[:, -6:]))\n",
    "            results['mase*'][trial.name + '__epoch_{}'.format(epoch_ind + 1)] = np.nanmean(metrics.MASE(x, y, preds[:, -6:]))\n",
    "\n",
    "            ensemble_preds = np.median(np.array(all_model_preds_in_trial), axis=0)\n",
    "\n",
    "            results['smape']['ens__' + trial.name + '__epoch_{}'.format(epoch_ind + 1)] = np.nanmean(metrics.SMAPE(y, ensemble_preds[:, -6:]))\n",
    "            results['mase*']['ens__' + trial.name + '__epoch_{}'.format(epoch_ind + 1)] = np.nanmean(metrics.MASE(x, y, ensemble_preds[:, -6:]))\n",
    " \n",
    "        ensemble_preds_all_trials.append(ensemble_preds)\n",
    "\n",
    "    for i, epoch_preds in enumerate(family_preds):\n",
    "\n",
    "        preds = np.median(np.array(epoch_preds), axis=0)\n",
    "\n",
    "        results['smape']['ens__' + family.name + '____epoch_{}'.format(i)] = np.nanmean(metrics.SMAPE(y, preds[:, -6:]))\n",
    "        results['mase*']['ens__' + family.name + '____epoch_{}'.format(i)] = np.nanmean(metrics.MASE(x, y, preds[:, -6:]))\n",
    "\n",
    "    final_preds = np.median(np.array(ensemble_preds_all_trials), axis=0)\n",
    "\n",
    "    results['smape']['ens__' + family.name + '____epoch_'] = np.nanmean(metrics.SMAPE(y, final_preds[:, -6:]))\n",
    "    results['mase*']['ens__' + family.name + '____epoch_'] = np.nanmean(metrics.MASE(x, y, final_preds[:, -6:]))\n",
    "\n",
    "    return results"
   ]
  },
  {
   "cell_type": "code",
   "execution_count": 28,
   "metadata": {},
   "outputs": [
    {
     "name": "stderr",
     "output_type": "stream",
     "text": [
      "\r",
      "  0%|          | 0/4 [00:00<?, ?it/s]"
     ]
    },
    {
     "name": "stdout",
     "output_type": "stream",
     "text": [
      "[PosixPath('../results/training_hyperparameters/opt_adam__lr_0.001__ams_True__decay_True__0'), PosixPath('../results/training_hyperparameters/opt_adam__lr_0.001__ams_True__decay_True__1'), PosixPath('../results/training_hyperparameters/opt_adam__lr_0.001__ams_True__decay_True__2'), PosixPath('../results/training_hyperparameters/opt_adam__lr_0.001__ams_True__decay_True__3')]\n"
     ]
    },
    {
     "name": "stderr",
     "output_type": "stream",
     "text": [
      "100%|██████████| 4/4 [02:27<00:00, 36.97s/it]\n"
     ]
    }
   ],
   "source": [
    "res14 = evaluate_family_14(family, X_test, y_test)"
   ]
  },
  {
   "cell_type": "code",
   "execution_count": 31,
   "metadata": {},
   "outputs": [
    {
     "data": {
      "text/plain": [
       "[<matplotlib.lines.Line2D at 0x7f298ad91be0>]"
      ]
     },
     "execution_count": 31,
     "metadata": {},
     "output_type": "execute_result"
    },
    {
     "data": {
      "image/png": "[encoded data removed]",
      "text/plain": [
       "<Figure size 720x432 with 1 Axes>"
      ]
     },
     "metadata": {
      "needs_background": "light"
     },
     "output_type": "display_data"
    }
   ],
   "source": [
    "plt.figure(figsize=(10, 6))\n",
    "\n",
    "plt.plot([v for k, v in res14['smape'].items() if \n",
    "          k.startswith('opt_adam__lr_0.001__ams_True__decay_True__0')], c='0.5', ls='--')\n",
    "plt.plot([v for k, v in res14['smape'].items() if k.startswith('opt_adam__lr_0.001__ams_True__decay_True__1')], c='0.5', ls='--')\n",
    "plt.plot([v for k, v in res14['smape'].items() if k.startswith('opt_adam__lr_0.001__ams_True__decay_True__2')], c='0.5', ls='--')\n",
    "plt.plot([v for k, v in res14['smape'].items() if k.startswith('opt_adam__lr_0.001__ams_True__decay_True__3')], c='0.5', ls='--')\n",
    "\n",
    "plt.plot([v for k, v in res14['smape'].items() if k.startswith('ens__opt_adam__lr_0.001__ams_True__decay_True__0')], c='C1')\n",
    "plt.plot([v for k, v in res14['smape'].items() if k.startswith('ens__opt_adam__lr_0.001__ams_True__decay_True__1')], c='C1')\n",
    "plt.plot([v for k, v in res14['smape'].items() if k.startswith('ens__opt_adam__lr_0.001__ams_True__decay_True__2')], c='C1')\n",
    "plt.plot([v for k, v in res14['smape'].items() if k.startswith('ens__opt_adam__lr_0.001__ams_True__decay_True__3')], c='C1')\n",
    "\n",
    "plt.plot([v for k, v in res14['smape'].items() if k.startswith('ens__opt_adam__lr_0.001__ams_True__decay_True____')], c='C0')"
   ]
  },
  {
   "cell_type": "code",
   "execution_count": 5,
   "metadata": {},
   "outputs": [],
   "source": [
    "def evaluate_family_15(family, x, y, result_dict=None, desc=None, verbose=False):\n",
    "\n",
    "    res_fb = []\n",
    "    results = {'smape': {}, 'mase*': {}}\n",
    "    family = Path(family)\n",
    "    trials = sorted(family.parent.glob(family.name + '*'), key=lambda x: int(x.name.split('__')[-1]))\n",
    "    print(trials)\n",
    "\n",
    "    family_preds = None\n",
    "    ensemble_preds_all_trials = []\n",
    "    \n",
    "    for trial in tqdm(trials):\n",
    "\n",
    "        trial = Path(trial)\n",
    "    \n",
    "        all_models_in_trial = sorted(trial.glob('*'), key=lambda x: x.name.split('/')[-1])\n",
    "\n",
    "        if not family_preds:\n",
    "            family_preds = [[] for _ in range(len(all_models_in_trial))]\n",
    "\n",
    "        all_model_preds_in_trial = []\n",
    "        \n",
    "        for epoch_ind, single_model in enumerate(all_models_in_trial):\n",
    "\n",
    "            model = tf.keras.models.load_model(single_model)\n",
    "\n",
    "            preds = evaluation.get_predictions(model, x)\n",
    "            \n",
    "            family_preds[epoch_ind].append(preds)\n",
    "\n",
    "            results['smape'][trial.name + '__epoch_{}'.format(epoch_ind + 1)] = np.nanmean(metrics.SMAPE(y, preds[:, -6:]))\n",
    "            results['mase*'][trial.name + '__epoch_{}'.format(epoch_ind + 1)] = np.nanmean(metrics.MASE(x, y, preds[:, -6:]))\n",
    "\n",
    "            if epoch_ind > 1:\n",
    "                all_model_preds_in_trial.append(preds)\n",
    "\n",
    "                ensemble_preds = np.median(np.array(all_model_preds_in_trial), axis=0)\n",
    "\n",
    "                results['smape']['ens__' + trial.name + '__epoch_{}'.format(epoch_ind + 1)] = np.nanmean(metrics.SMAPE(y, ensemble_preds[:, -6:]))\n",
    "                results['mase*']['ens__' + trial.name + '__epoch_{}'.format(epoch_ind + 1)] = np.nanmean(metrics.MASE(x, y, ensemble_preds[:, -6:]))\n",
    " \n",
    "            del model\n",
    "            tf.keras.backend.clear_session()\n",
    "\n",
    "        ensemble_preds_all_trials.append(ensemble_preds)\n",
    "\n",
    "    for i, epoch_preds in enumerate(family_preds):\n",
    "\n",
    "        preds = np.median(np.array(epoch_preds), axis=0)\n",
    "\n",
    "        results['smape']['ens__' + family.name + '____epoch_{}'.format(i)] = np.nanmean(metrics.SMAPE(y, preds[:, -6:]))\n",
    "        results['mase*']['ens__' + family.name + '____epoch_{}'.format(i)] = np.nanmean(metrics.MASE(x, y, preds[:, -6:]))\n",
    "\n",
    "    final_preds = np.median(np.array(ensemble_preds_all_trials), axis=0)\n",
    "\n",
    "    results['smape']['ens__' + family.name + '____epoch_'] = np.nanmean(metrics.SMAPE(y, final_preds[:, -6:]))\n",
    "    results['mase*']['ens__' + family.name + '____epoch_'] = np.nanmean(metrics.MASE(x, y, final_preds[:, -6:]))\n",
    "\n",
    "    return results"
   ]
  },
  {
   "cell_type": "code",
   "execution_count": 7,
   "metadata": {},
   "outputs": [],
   "source": [
    "family = '../results/training_hyperparameters/opt_adam__lr_0.001__ams_True__decay_True'"
   ]
  },
  {
   "cell_type": "code",
   "execution_count": 8,
   "metadata": {},
   "outputs": [
    {
     "name": "stderr",
     "output_type": "stream",
     "text": [
      "\r",
      "  0%|          | 0/4 [00:00<?, ?it/s]"
     ]
    },
    {
     "name": "stdout",
     "output_type": "stream",
     "text": [
      "[PosixPath('../results/training_hyperparameters/opt_adam__lr_0.001__ams_True__decay_True__0'), PosixPath('../results/training_hyperparameters/opt_adam__lr_0.001__ams_True__decay_True__1'), PosixPath('../results/training_hyperparameters/opt_adam__lr_0.001__ams_True__decay_True__2'), PosixPath('../results/training_hyperparameters/opt_adam__lr_0.001__ams_True__decay_True__3')]\n"
     ]
    },
    {
     "name": "stderr",
     "output_type": "stream",
     "text": [
      "100%|██████████| 4/4 [02:25<00:00, 36.39s/it]\n"
     ]
    }
   ],
   "source": [
    "res15 = evaluate_family_15(family, X_test, y_test)"
   ]
  },
  {
   "cell_type": "code",
   "execution_count": 19,
   "metadata": {},
   "outputs": [
    {
     "data": {
      "text/plain": [
       "<matplotlib.collections.PathCollection at 0x7fc2a05954e0>"
      ]
     },
     "execution_count": 19,
     "metadata": {},
     "output_type": "execute_result"
    },
    {
     "data": {
      "image/png": "[encoded data removed]",
      "text/plain": [
       "<Figure size 720x432 with 1 Axes>"
      ]
     },
     "metadata": {
      "needs_background": "light"
     },
     "output_type": "display_data"
    }
   ],
   "source": [
    "plt.figure(figsize=(10, 6))\n",
    "\n",
    "plt.plot([v for k, v in res15['smape'].items() if \n",
    "          k.startswith('opt_adam__lr_0.001__ams_True__decay_True__0')], c='0.5', ls='--')\n",
    "plt.plot([v for k, v in res15['smape'].items() if k.startswith('opt_adam__lr_0.001__ams_True__decay_True__1')], c='0.5', ls='--')\n",
    "plt.plot([v for k, v in res15['smape'].items() if k.startswith('opt_adam__lr_0.001__ams_True__decay_True__2')], c='0.5', ls='--')\n",
    "plt.plot([v for k, v in res15['smape'].items() if k.startswith('opt_adam__lr_0.001__ams_True__decay_True__3')], c='0.5', ls='--')\n",
    "\n",
    "plt.plot(range(2, 15), [v for k, v in res15['smape'].items() if k.startswith('ens__opt_adam__lr_0.001__ams_True__decay_True__0')], c='C1')\n",
    "plt.plot(range(2, 15), [v for k, v in res15['smape'].items() if k.startswith('ens__opt_adam__lr_0.001__ams_True__decay_True__1')], c='C1')\n",
    "plt.plot(range(2, 15), [v for k, v in res15['smape'].items() if k.startswith('ens__opt_adam__lr_0.001__ams_True__decay_True__2')], c='C1')\n",
    "plt.plot(range(2, 15), [v for k, v in res15['smape'].items() if k.startswith('ens__opt_adam__lr_0.001__ams_True__decay_True__3')], c='C1')\n",
    "\n",
    "plt.plot([v for k, v in res15['smape'].items() if k.startswith('ens__opt_adam__lr_0.001__ams_True__decay_True____')], c='C0')\n",
    "\n",
    "plt.scatter([14], [v for k, v in res15['smape'].items() if k.endswith('____epoch_')], marker='x', c='r', s=100, zorder=0)"
   ]
  }
 ],
 "metadata": {
  "kernelspec": {
   "display_name": "aug",
   "language": "python",
   "name": "aug"
  },
  "language_info": {
   "codemirror_mode": {
    "name": "ipython",
    "version": 3
   },
   "file_extension": ".py",
   "mimetype": "text/x-python",
   "name": "python",
   "nbconvert_exporter": "python",
   "pygments_lexer": "ipython3",
   "version": "3.6.9"
  }
 },
 "nbformat": 4,
 "nbformat_minor": 4
}
