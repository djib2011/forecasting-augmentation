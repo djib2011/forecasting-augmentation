{
 "cells": [
  {
   "cell_type": "code",
   "execution_count": 1,
   "metadata": {},
   "outputs": [],
   "source": [
    "from pathlib import Path\n",
    "import pandas as pd\n",
    "import pickle as pkl\n",
    "import matplotlib.pyplot as plt\n",
    "import seaborn as sns\n",
    "%matplotlib inline"
   ]
  },
  {
   "cell_type": "code",
   "execution_count": 2,
   "metadata": {},
   "outputs": [],
   "source": [
    "# df_all = pd.read_csv('../reports/lstm_tuning_windows/results.csv')\n",
    "df_all = pd.read_csv('/tmp/lstm_tuning_results.csv')"
   ]
  },
  {
   "cell_type": "code",
   "execution_count": 3,
   "metadata": {},
   "outputs": [
    {
     "data": {
      "text/html": [
       "<div>\n",
       "<style scoped>\n",
       "    .dataframe tbody tr th:only-of-type {\n",
       "        vertical-align: middle;\n",
       "    }\n",
       "\n",
       "    .dataframe tbody tr th {\n",
       "        vertical-align: top;\n",
       "    }\n",
       "\n",
       "    .dataframe thead th {\n",
       "        text-align: right;\n",
       "    }\n",
       "</style>\n",
       "<table border=\"1\" class=\"dataframe\">\n",
       "  <thead>\n",
       "    <tr style=\"text-align: right;\">\n",
       "      <th></th>\n",
       "      <th>input_len</th>\n",
       "      <th>direction</th>\n",
       "      <th>size</th>\n",
       "      <th>depth</th>\n",
       "      <th>num</th>\n",
       "      <th>epoch</th>\n",
       "      <th>ensemble</th>\n",
       "      <th>smape</th>\n",
       "      <th>mase*</th>\n",
       "    </tr>\n",
       "  </thead>\n",
       "  <tbody>\n",
       "    <tr>\n",
       "      <th>1806</th>\n",
       "      <td>18</td>\n",
       "      <td>bi</td>\n",
       "      <td>256</td>\n",
       "      <td>2</td>\n",
       "      <td>6.0</td>\n",
       "      <td>9</td>\n",
       "      <td>False</td>\n",
       "      <td>13.189401</td>\n",
       "      <td>2.671092</td>\n",
       "    </tr>\n",
       "    <tr>\n",
       "      <th>566</th>\n",
       "      <td>18</td>\n",
       "      <td>bi</td>\n",
       "      <td>256</td>\n",
       "      <td>2</td>\n",
       "      <td>6.0</td>\n",
       "      <td>9</td>\n",
       "      <td>False</td>\n",
       "      <td>13.189401</td>\n",
       "      <td>2.671092</td>\n",
       "    </tr>\n",
       "    <tr>\n",
       "      <th>6974</th>\n",
       "      <td>18</td>\n",
       "      <td>uni</td>\n",
       "      <td>256</td>\n",
       "      <td>3</td>\n",
       "      <td>3.0</td>\n",
       "      <td>8</td>\n",
       "      <td>False</td>\n",
       "      <td>13.208804</td>\n",
       "      <td>2.673714</td>\n",
       "    </tr>\n",
       "    <tr>\n",
       "      <th>1114</th>\n",
       "      <td>18</td>\n",
       "      <td>uni</td>\n",
       "      <td>256</td>\n",
       "      <td>3</td>\n",
       "      <td>3.0</td>\n",
       "      <td>8</td>\n",
       "      <td>False</td>\n",
       "      <td>13.208804</td>\n",
       "      <td>2.673714</td>\n",
       "    </tr>\n",
       "    <tr>\n",
       "      <th>274</th>\n",
       "      <td>18</td>\n",
       "      <td>uni</td>\n",
       "      <td>256</td>\n",
       "      <td>3</td>\n",
       "      <td>3.0</td>\n",
       "      <td>8</td>\n",
       "      <td>False</td>\n",
       "      <td>13.208804</td>\n",
       "      <td>2.673714</td>\n",
       "    </tr>\n",
       "    <tr>\n",
       "      <th>...</th>\n",
       "      <td>...</td>\n",
       "      <td>...</td>\n",
       "      <td>...</td>\n",
       "      <td>...</td>\n",
       "      <td>...</td>\n",
       "      <td>...</td>\n",
       "      <td>...</td>\n",
       "      <td>...</td>\n",
       "      <td>...</td>\n",
       "    </tr>\n",
       "    <tr>\n",
       "      <th>4758</th>\n",
       "      <td>18</td>\n",
       "      <td>uni</td>\n",
       "      <td>128</td>\n",
       "      <td>4</td>\n",
       "      <td>2.0</td>\n",
       "      <td>5</td>\n",
       "      <td>False</td>\n",
       "      <td>18.186094</td>\n",
       "      <td>3.591660</td>\n",
       "    </tr>\n",
       "    <tr>\n",
       "      <th>6692</th>\n",
       "      <td>18</td>\n",
       "      <td>uni</td>\n",
       "      <td>64</td>\n",
       "      <td>4</td>\n",
       "      <td>6.0</td>\n",
       "      <td>7</td>\n",
       "      <td>False</td>\n",
       "      <td>18.269536</td>\n",
       "      <td>3.605566</td>\n",
       "    </tr>\n",
       "    <tr>\n",
       "      <th>4718</th>\n",
       "      <td>18</td>\n",
       "      <td>uni</td>\n",
       "      <td>128</td>\n",
       "      <td>4</td>\n",
       "      <td>0.0</td>\n",
       "      <td>5</td>\n",
       "      <td>False</td>\n",
       "      <td>18.345795</td>\n",
       "      <td>3.634925</td>\n",
       "    </tr>\n",
       "    <tr>\n",
       "      <th>4608</th>\n",
       "      <td>18</td>\n",
       "      <td>uni</td>\n",
       "      <td>128</td>\n",
       "      <td>4</td>\n",
       "      <td>3.0</td>\n",
       "      <td>5</td>\n",
       "      <td>False</td>\n",
       "      <td>18.438642</td>\n",
       "      <td>3.664549</td>\n",
       "    </tr>\n",
       "    <tr>\n",
       "      <th>4698</th>\n",
       "      <td>18</td>\n",
       "      <td>uni</td>\n",
       "      <td>128</td>\n",
       "      <td>4</td>\n",
       "      <td>8.0</td>\n",
       "      <td>5</td>\n",
       "      <td>False</td>\n",
       "      <td>18.474583</td>\n",
       "      <td>3.673517</td>\n",
       "    </tr>\n",
       "  </tbody>\n",
       "</table>\n",
       "<p>7310 rows × 9 columns</p>\n",
       "</div>"
      ],
      "text/plain": [
       "      input_len direction  size  depth  num  epoch  ensemble      smape  \\\n",
       "1806         18        bi   256      2  6.0      9     False  13.189401   \n",
       "566          18        bi   256      2  6.0      9     False  13.189401   \n",
       "6974         18       uni   256      3  3.0      8     False  13.208804   \n",
       "1114         18       uni   256      3  3.0      8     False  13.208804   \n",
       "274          18       uni   256      3  3.0      8     False  13.208804   \n",
       "...         ...       ...   ...    ...  ...    ...       ...        ...   \n",
       "4758         18       uni   128      4  2.0      5     False  18.186094   \n",
       "6692         18       uni    64      4  6.0      7     False  18.269536   \n",
       "4718         18       uni   128      4  0.0      5     False  18.345795   \n",
       "4608         18       uni   128      4  3.0      5     False  18.438642   \n",
       "4698         18       uni   128      4  8.0      5     False  18.474583   \n",
       "\n",
       "         mase*  \n",
       "1806  2.671092  \n",
       "566   2.671092  \n",
       "6974  2.673714  \n",
       "1114  2.673714  \n",
       "274   2.673714  \n",
       "...        ...  \n",
       "4758  3.591660  \n",
       "6692  3.605566  \n",
       "4718  3.634925  \n",
       "4608  3.664549  \n",
       "4698  3.673517  \n",
       "\n",
       "[7310 rows x 9 columns]"
      ]
     },
     "execution_count": 3,
     "metadata": {},
     "output_type": "execute_result"
    }
   ],
   "source": [
    "df_all.sort_values('smape')"
   ]
  },
  {
   "cell_type": "code",
   "execution_count": 24,
   "metadata": {},
   "outputs": [],
   "source": [
    "df = df_all[(df_all['ensemble'] == True)]\n",
    "df = df[df['num'].isna()]"
   ]
  },
  {
   "cell_type": "markdown",
   "metadata": {},
   "source": [
    "## Direction"
   ]
  },
  {
   "cell_type": "code",
   "execution_count": 25,
   "metadata": {},
   "outputs": [
    {
     "data": {
      "text/plain": [
       "<AxesSubplot:xlabel='direction', ylabel='smape'>"
      ]
     },
     "execution_count": 25,
     "metadata": {},
     "output_type": "execute_result"
    },
    {
     "data": {
      "image/png": "[encoded data removed]",
      "text/plain": [
       "<Figure size 432x288 with 1 Axes>"
      ]
     },
     "metadata": {
      "needs_background": "light"
     },
     "output_type": "display_data"
    }
   ],
   "source": [
    "sns.boxplot(x='direction', y='smape', data=df)"
   ]
  },
  {
   "cell_type": "code",
   "execution_count": 26,
   "metadata": {},
   "outputs": [],
   "source": [
    "df_best = df[df['direction'] == 'bi']"
   ]
  },
  {
   "cell_type": "markdown",
   "metadata": {},
   "source": [
    "## Size"
   ]
  },
  {
   "cell_type": "code",
   "execution_count": 27,
   "metadata": {
    "scrolled": true
   },
   "outputs": [
    {
     "data": {
      "text/plain": [
       "<AxesSubplot:xlabel='size', ylabel='smape'>"
      ]
     },
     "execution_count": 27,
     "metadata": {},
     "output_type": "execute_result"
    },
    {
     "data": {
      "image/png": "[encoded data removed]",
      "text/plain": [
       "<Figure size 432x288 with 1 Axes>"
      ]
     },
     "metadata": {
      "needs_background": "light"
     },
     "output_type": "display_data"
    }
   ],
   "source": [
    "sns.boxplot(x='size', y='smape', data=df)"
   ]
  },
  {
   "cell_type": "code",
   "execution_count": 28,
   "metadata": {},
   "outputs": [
    {
     "data": {
      "text/plain": [
       "<AxesSubplot:xlabel='size', ylabel='smape'>"
      ]
     },
     "execution_count": 28,
     "metadata": {},
     "output_type": "execute_result"
    },
    {
     "data": {
      "image/png": "[encoded data removed]",
      "text/plain": [
       "<Figure size 432x288 with 1 Axes>"
      ]
     },
     "metadata": {
      "needs_background": "light"
     },
     "output_type": "display_data"
    }
   ],
   "source": [
    "sns.boxplot(x='size', y='smape', data=df_best)"
   ]
  },
  {
   "cell_type": "code",
   "execution_count": 29,
   "metadata": {},
   "outputs": [],
   "source": [
    "df_best_2 = df_best[df_best['size'] == 256]"
   ]
  },
  {
   "cell_type": "markdown",
   "metadata": {},
   "source": [
    "## Depth"
   ]
  },
  {
   "cell_type": "code",
   "execution_count": 30,
   "metadata": {},
   "outputs": [
    {
     "data": {
      "text/plain": [
       "<AxesSubplot:xlabel='depth', ylabel='smape'>"
      ]
     },
     "execution_count": 30,
     "metadata": {},
     "output_type": "execute_result"
    },
    {
     "data": {
      "image/png": "[encoded data removed]",
      "text/plain": [
       "<Figure size 432x288 with 1 Axes>"
      ]
     },
     "metadata": {
      "needs_background": "light"
     },
     "output_type": "display_data"
    }
   ],
   "source": [
    "sns.boxplot(x='depth', y='smape', data=df)"
   ]
  },
  {
   "cell_type": "code",
   "execution_count": 31,
   "metadata": {},
   "outputs": [
    {
     "data": {
      "text/plain": [
       "<AxesSubplot:xlabel='depth', ylabel='smape'>"
      ]
     },
     "execution_count": 31,
     "metadata": {},
     "output_type": "execute_result"
    },
    {
     "data": {
      "image/png": "[encoded data removed]",
      "text/plain": [
       "<Figure size 432x288 with 1 Axes>"
      ]
     },
     "metadata": {
      "needs_background": "light"
     },
     "output_type": "display_data"
    }
   ],
   "source": [
    "sns.boxplot(x='depth', y='smape', data=df_best)"
   ]
  },
  {
   "cell_type": "code",
   "execution_count": 32,
   "metadata": {},
   "outputs": [
    {
     "data": {
      "text/plain": [
       "<AxesSubplot:xlabel='depth', ylabel='smape'>"
      ]
     },
     "execution_count": 32,
     "metadata": {},
     "output_type": "execute_result"
    },
    {
     "data": {
      "image/png": "[encoded data removed]",
      "text/plain": [
       "<Figure size 432x288 with 1 Axes>"
      ]
     },
     "metadata": {
      "needs_background": "light"
     },
     "output_type": "display_data"
    }
   ],
   "source": [
    "sns.boxplot(x='depth', y='smape', data=df_best_2)"
   ]
  },
  {
   "cell_type": "code",
   "execution_count": 33,
   "metadata": {},
   "outputs": [],
   "source": [
    "df_best_3 = df_best_2[df_best_2['depth'] == 2]"
   ]
  },
  {
   "cell_type": "markdown",
   "metadata": {},
   "source": [
    "## All together"
   ]
  },
  {
   "cell_type": "code",
   "execution_count": 34,
   "metadata": {},
   "outputs": [
    {
     "data": {
      "text/plain": [
       "<AxesSubplot:xlabel='size', ylabel='smape'>"
      ]
     },
     "execution_count": 34,
     "metadata": {},
     "output_type": "execute_result"
    },
    {
     "data": {
      "image/png": "[encoded data removed]",
      "text/plain": [
       "<Figure size 1440x720 with 1 Axes>"
      ]
     },
     "metadata": {
      "needs_background": "light"
     },
     "output_type": "display_data"
    }
   ],
   "source": [
    "plt.figure(figsize=(20, 10))\n",
    "sns.boxplot(x='size', y='smape', data=df_best, hue='depth')"
   ]
  },
  {
   "cell_type": "code",
   "execution_count": 35,
   "metadata": {},
   "outputs": [
    {
     "data": {
      "text/plain": [
       "<AxesSubplot:xlabel='size', ylabel='smape'>"
      ]
     },
     "execution_count": 35,
     "metadata": {},
     "output_type": "execute_result"
    },
    {
     "data": {
      "image/png": "[encoded data removed]",
      "text/plain": [
       "<Figure size 1440x720 with 1 Axes>"
      ]
     },
     "metadata": {
      "needs_background": "light"
     },
     "output_type": "display_data"
    }
   ],
   "source": [
    "plt.figure(figsize=(20, 10))\n",
    "sns.boxplot(x='size', y='smape', data=df[df['direction'] == 'uni'], hue='depth')"
   ]
  },
  {
   "cell_type": "markdown",
   "metadata": {},
   "source": [
    "## View best"
   ]
  },
  {
   "cell_type": "code",
   "execution_count": 21,
   "metadata": {},
   "outputs": [
    {
     "data": {
      "text/html": [
       "<div>\n",
       "<style scoped>\n",
       "    .dataframe tbody tr th:only-of-type {\n",
       "        vertical-align: middle;\n",
       "    }\n",
       "\n",
       "    .dataframe tbody tr th {\n",
       "        vertical-align: top;\n",
       "    }\n",
       "\n",
       "    .dataframe thead th {\n",
       "        text-align: right;\n",
       "    }\n",
       "</style>\n",
       "<table border=\"1\" class=\"dataframe\">\n",
       "  <thead>\n",
       "    <tr style=\"text-align: right;\">\n",
       "      <th></th>\n",
       "      <th>input_len</th>\n",
       "      <th>direction</th>\n",
       "      <th>size</th>\n",
       "      <th>depth</th>\n",
       "      <th>num</th>\n",
       "      <th>epoch</th>\n",
       "      <th>ensemble</th>\n",
       "      <th>smape</th>\n",
       "      <th>mase*</th>\n",
       "    </tr>\n",
       "  </thead>\n",
       "  <tbody>\n",
       "    <tr>\n",
       "      <th>2011</th>\n",
       "      <td>18</td>\n",
       "      <td>bi</td>\n",
       "      <td>128</td>\n",
       "      <td>2</td>\n",
       "      <td>4.0</td>\n",
       "      <td>6</td>\n",
       "      <td>True</td>\n",
       "      <td>13.230999</td>\n",
       "      <td>2.679673</td>\n",
       "    </tr>\n",
       "    <tr>\n",
       "      <th>2015</th>\n",
       "      <td>18</td>\n",
       "      <td>bi</td>\n",
       "      <td>128</td>\n",
       "      <td>2</td>\n",
       "      <td>4.0</td>\n",
       "      <td>8</td>\n",
       "      <td>True</td>\n",
       "      <td>13.235907</td>\n",
       "      <td>2.679911</td>\n",
       "    </tr>\n",
       "    <tr>\n",
       "      <th>2017</th>\n",
       "      <td>18</td>\n",
       "      <td>bi</td>\n",
       "      <td>128</td>\n",
       "      <td>2</td>\n",
       "      <td>4.0</td>\n",
       "      <td>9</td>\n",
       "      <td>True</td>\n",
       "      <td>13.237303</td>\n",
       "      <td>2.682308</td>\n",
       "    </tr>\n",
       "    <tr>\n",
       "      <th>2019</th>\n",
       "      <td>18</td>\n",
       "      <td>bi</td>\n",
       "      <td>128</td>\n",
       "      <td>2</td>\n",
       "      <td>4.0</td>\n",
       "      <td>10</td>\n",
       "      <td>True</td>\n",
       "      <td>13.237893</td>\n",
       "      <td>2.683810</td>\n",
       "    </tr>\n",
       "    <tr>\n",
       "      <th>95</th>\n",
       "      <td>18</td>\n",
       "      <td>uni</td>\n",
       "      <td>256</td>\n",
       "      <td>2</td>\n",
       "      <td>5.0</td>\n",
       "      <td>3</td>\n",
       "      <td>True</td>\n",
       "      <td>13.240248</td>\n",
       "      <td>2.689491</td>\n",
       "    </tr>\n",
       "    <tr>\n",
       "      <th>...</th>\n",
       "      <td>...</td>\n",
       "      <td>...</td>\n",
       "      <td>...</td>\n",
       "      <td>...</td>\n",
       "      <td>...</td>\n",
       "      <td>...</td>\n",
       "      <td>...</td>\n",
       "      <td>...</td>\n",
       "      <td>...</td>\n",
       "    </tr>\n",
       "    <tr>\n",
       "      <th>5231</th>\n",
       "      <td>18</td>\n",
       "      <td>uni</td>\n",
       "      <td>16</td>\n",
       "      <td>4</td>\n",
       "      <td>3.0</td>\n",
       "      <td>1</td>\n",
       "      <td>True</td>\n",
       "      <td>17.654292</td>\n",
       "      <td>3.434580</td>\n",
       "    </tr>\n",
       "    <tr>\n",
       "      <th>6514</th>\n",
       "      <td>18</td>\n",
       "      <td>uni</td>\n",
       "      <td>64</td>\n",
       "      <td>4</td>\n",
       "      <td>NaN</td>\n",
       "      <td>4</td>\n",
       "      <td>True</td>\n",
       "      <td>17.675770</td>\n",
       "      <td>3.432445</td>\n",
       "    </tr>\n",
       "    <tr>\n",
       "      <th>5256</th>\n",
       "      <td>18</td>\n",
       "      <td>uni</td>\n",
       "      <td>16</td>\n",
       "      <td>4</td>\n",
       "      <td>NaN</td>\n",
       "      <td>6</td>\n",
       "      <td>True</td>\n",
       "      <td>17.685190</td>\n",
       "      <td>3.432419</td>\n",
       "    </tr>\n",
       "    <tr>\n",
       "      <th>5884</th>\n",
       "      <td>18</td>\n",
       "      <td>uni</td>\n",
       "      <td>32</td>\n",
       "      <td>4</td>\n",
       "      <td>NaN</td>\n",
       "      <td>4</td>\n",
       "      <td>True</td>\n",
       "      <td>17.704417</td>\n",
       "      <td>3.443986</td>\n",
       "    </tr>\n",
       "    <tr>\n",
       "      <th>4624</th>\n",
       "      <td>18</td>\n",
       "      <td>uni</td>\n",
       "      <td>128</td>\n",
       "      <td>4</td>\n",
       "      <td>NaN</td>\n",
       "      <td>4</td>\n",
       "      <td>True</td>\n",
       "      <td>17.791684</td>\n",
       "      <td>3.479735</td>\n",
       "    </tr>\n",
       "  </tbody>\n",
       "</table>\n",
       "<p>3830 rows × 9 columns</p>\n",
       "</div>"
      ],
      "text/plain": [
       "      input_len direction  size  depth  num  epoch  ensemble      smape  \\\n",
       "2011         18        bi   128      2  4.0      6      True  13.230999   \n",
       "2015         18        bi   128      2  4.0      8      True  13.235907   \n",
       "2017         18        bi   128      2  4.0      9      True  13.237303   \n",
       "2019         18        bi   128      2  4.0     10      True  13.237893   \n",
       "95           18       uni   256      2  5.0      3      True  13.240248   \n",
       "...         ...       ...   ...    ...  ...    ...       ...        ...   \n",
       "5231         18       uni    16      4  3.0      1      True  17.654292   \n",
       "6514         18       uni    64      4  NaN      4      True  17.675770   \n",
       "5256         18       uni    16      4  NaN      6      True  17.685190   \n",
       "5884         18       uni    32      4  NaN      4      True  17.704417   \n",
       "4624         18       uni   128      4  NaN      4      True  17.791684   \n",
       "\n",
       "         mase*  \n",
       "2011  2.679673  \n",
       "2015  2.679911  \n",
       "2017  2.682308  \n",
       "2019  2.683810  \n",
       "95    2.689491  \n",
       "...        ...  \n",
       "5231  3.434580  \n",
       "6514  3.432445  \n",
       "5256  3.432419  \n",
       "5884  3.443986  \n",
       "4624  3.479735  \n",
       "\n",
       "[3830 rows x 9 columns]"
      ]
     },
     "execution_count": 21,
     "metadata": {},
     "output_type": "execute_result"
    }
   ],
   "source": [
    "df.sort_values('smape')"
   ]
  }
 ],
 "metadata": {
  "kernelspec": {
   "display_name": "aug",
   "language": "python",
   "name": "aug"
  },
  "language_info": {
   "codemirror_mode": {
    "name": "ipython",
    "version": 3
   },
   "file_extension": ".py",
   "mimetype": "text/x-python",
   "name": "python",
   "nbconvert_exporter": "python",
   "pygments_lexer": "ipython3",
   "version": "3.6.9"
  }
 },
 "nbformat": 4,
 "nbformat_minor": 2
}
