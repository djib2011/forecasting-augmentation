{
 "cells": [
  {
   "cell_type": "code",
   "execution_count": 4,
   "metadata": {
    "collapsed": true
   },
   "outputs": [],
   "source": [
    "from pathlib import Path\n",
    "import pandas as pd\n",
    "import pickle as pkl\n",
    "import matplotlib.pyplot as plt\n",
    "import seaborn as sns\n",
    "%matplotlib inline"
   ]
  },
  {
   "cell_type": "code",
   "execution_count": 3,
   "metadata": {},
   "outputs": [
    {
     "name": "stdout",
     "output_type": "stream",
     "text": [
      "\u001b[0m\u001b[01;34masdf\u001b[0m/                                   inp_18__dir_uni__size_32__depth_4.pkl\r\n",
      "classify_image_graph_def.pb             inp_18__dir_uni__size_64__depth_2.pkl\r\n",
      "fileDvTkxY                              inp_18__dir_uni__size_64__depth_3.pkl\r\n",
      "fileQp0syq                              inp_18__dir_uni__size_64__depth_4.pkl\r\n",
      "fileXresXR                              \u001b[01;34mpip-l4wmxq7w-uninstall\u001b[0m/\r\n",
      "inp_18__dir_bi__size_128__depth_2.pkl   \u001b[01;34m__pycache__\u001b[0m/\r\n",
      "inp_18__dir_bi__size_128__depth_3.pkl   \u001b[01;34mpymp-4qje0gom\u001b[0m/\r\n",
      "inp_18__dir_bi__size_128__depth_4.pkl   \u001b[01;34mpymp-caurykkl\u001b[0m/\r\n",
      "inp_18__dir_bi__size_16__depth_2.pkl    \u001b[01;34mpymp-dpo6d8du\u001b[0m/\r\n",
      "inp_18__dir_bi__size_16__depth_3.pkl    \u001b[01;34mpymp-geroix_5\u001b[0m/\r\n",
      "inp_18__dir_bi__size_16__depth_4.pkl    \u001b[01;34mpymp-huno70w7\u001b[0m/\r\n",
      "inp_18__dir_bi__size_32__depth_2.pkl    \u001b[01;34mpymp-i6s7_ese\u001b[0m/\r\n",
      "inp_18__dir_bi__size_32__depth_3.pkl    \u001b[01;34mpymp-mjknd3fl\u001b[0m/\r\n",
      "inp_18__dir_bi__size_32__depth_4.pkl    \u001b[01;34mpymp-mn4nzpj7\u001b[0m/\r\n",
      "inp_18__dir_bi__size_64__depth_2.pkl    \u001b[01;34mpymp-uf2dagiu\u001b[0m/\r\n",
      "inp_18__dir_bi__size_64__depth_3.pkl    \u001b[01;34mpymp-vo5p9dsv\u001b[0m/\r\n",
      "inp_18__dir_bi__size_64__depth_4.pkl    server_results.log\r\n",
      "inp_18__dir_uni__size_128__depth_2.pkl  tmp73uqprbb\r\n",
      "inp_18__dir_uni__size_128__depth_3.pkl  tmp8tal8dgi\r\n",
      "inp_18__dir_uni__size_128__depth_4.pkl  \u001b[01;34mtmpabpy8clc_kernels\u001b[0m/\r\n",
      "inp_18__dir_uni__size_16__depth_2.pkl   tmpk3ug84iy\r\n",
      "inp_18__dir_uni__size_16__depth_3.pkl   tmpxctuf1w2.py\r\n",
      "inp_18__dir_uni__size_16__depth_4.pkl   tmpymmeyryk\r\n",
      "inp_18__dir_uni__size_32__depth_2.pkl   \u001b[01;34mtmux-20105\u001b[0m/\r\n",
      "inp_18__dir_uni__size_32__depth_3.pkl\r\n"
     ]
    }
   ],
   "source": [
    "ls /tmp"
   ]
  },
  {
   "cell_type": "code",
   "execution_count": 12,
   "metadata": {
    "collapsed": true
   },
   "outputs": [],
   "source": [
    "result_files = list(Path('/tmp').glob('*.pkl'))"
   ]
  },
  {
   "cell_type": "code",
   "execution_count": 29,
   "metadata": {},
   "outputs": [
    {
     "name": "stdout",
     "output_type": "stream",
     "text": [
      "/tmp/inp_18__dir_bi__size_64__depth_3.pkl     | 13.004 +/- 0.011 (min = 12.986)\n",
      "/tmp/inp_18__dir_bi__size_16__depth_2.pkl     | 13.029 +/- 0.008 (min = 13.014)\n",
      "/tmp/inp_18__dir_bi__size_16__depth_3.pkl     | 13.029 +/- 0.008 (min = 13.014)\n",
      "/tmp/inp_18__dir_uni__size_32__depth_3.pkl    | 12.994 +/- 0.012 (min = 12.964)\n",
      "/tmp/inp_18__dir_uni__size_16__depth_3.pkl    | 12.998 +/- 0.008 (min = 12.986)\n",
      "/tmp/inp_18__dir_bi__size_128__depth_3.pkl    | 13.044 +/- 0.010 (min = 13.026)\n",
      "/tmp/inp_18__dir_uni__size_128__depth_3.pkl   | 13.000 +/- 0.007 (min = 12.986)\n",
      "/tmp/inp_18__dir_uni__size_16__depth_4.pkl    | 12.994 +/- 0.013 (min = 12.964)\n",
      "/tmp/inp_18__dir_uni__size_64__depth_2.pkl    | 12.994 +/- 0.012 (min = 12.964)\n",
      "/tmp/inp_18__dir_uni__size_128__depth_4.pkl   | 13.000 +/- 0.007 (min = 12.986)\n",
      "/tmp/inp_18__dir_bi__size_16__depth_4.pkl     | 13.029 +/- 0.008 (min = 13.014)\n",
      "/tmp/inp_18__dir_bi__size_32__depth_3.pkl     | 13.016 +/- 0.009 (min = 13.002)\n",
      "/tmp/inp_18__dir_uni__size_128__depth_2.pkl   | 13.000 +/- 0.007 (min = 12.986)\n",
      "/tmp/inp_18__dir_bi__size_64__depth_4.pkl     | 13.003 +/- 0.010 (min = 12.986)\n",
      "/tmp/inp_18__dir_uni__size_16__depth_2.pkl    | 13.000 +/- 0.007 (min = 12.986)\n",
      "/tmp/inp_18__dir_uni__size_32__depth_2.pkl    | 12.994 +/- 0.013 (min = 12.964)\n",
      "/tmp/inp_18__dir_bi__size_128__depth_2.pkl    | 13.044 +/- 0.010 (min = 13.026)\n",
      "/tmp/inp_18__dir_uni__size_64__depth_4.pkl    | 12.994 +/- 0.012 (min = 12.964)\n",
      "/tmp/inp_18__dir_bi__size_32__depth_2.pkl     | 13.016 +/- 0.009 (min = 13.002)\n",
      "/tmp/inp_18__dir_uni__size_32__depth_4.pkl    | 12.994 +/- 0.012 (min = 12.964)\n",
      "/tmp/inp_18__dir_bi__size_64__depth_2.pkl     | 13.004 +/- 0.011 (min = 12.986)\n",
      "/tmp/inp_18__dir_uni__size_64__depth_3.pkl    | 12.994 +/- 0.012 (min = 12.964)\n",
      "/tmp/inp_18__dir_bi__size_32__depth_4.pkl     | 13.016 +/- 0.009 (min = 13.002)\n",
      "/tmp/inp_18__dir_bi__size_128__depth_4.pkl    | 13.037 +/- 0.013 (min = 13.014)\n"
     ]
    }
   ],
   "source": [
    "def describe(df):\n",
    "    m = df.sort_values('smape')[:10]['smape'].mean()\n",
    "    s = df.sort_values('smape')[:10]['smape'].std()\n",
    "    mn = df.sort_values('smape')[:10]['smape'].min()\n",
    "    \n",
    "    return '{:.3f} +/- {:.3f} (min = {:.3f})'.format(m, s, mn)\n",
    "\n",
    "\n",
    "for file in result_files:\n",
    "    with open(str(file), 'rb') as f:\n",
    "        a = pd.DataFrame(pkl.load(f))\n",
    "        stats = describe(a)\n",
    "        print('{:<45} | {}'.format(str(file), stats))"
   ]
  },
  {
   "cell_type": "code",
   "execution_count": 26,
   "metadata": {},
   "outputs": [
    {
     "data": {
      "text/plain": [
       "43"
      ]
     },
     "execution_count": 26,
     "metadata": {},
     "output_type": "execute_result"
    }
   ],
   "source": [
    "len('/tmp/inp_18__dir_uni__size_128__depth_2.pkl')"
   ]
  },
  {
   "cell_type": "code",
   "execution_count": null,
   "metadata": {
    "collapsed": true
   },
   "outputs": [],
   "source": []
  }
 ],
 "metadata": {
  "kernelspec": {
   "display_name": "aug",
   "language": "python",
   "name": "aug"
  },
  "language_info": {
   "codemirror_mode": {
    "name": "ipython",
    "version": 3
   },
   "file_extension": ".py",
   "mimetype": "text/x-python",
   "name": "python",
   "nbconvert_exporter": "python",
   "pygments_lexer": "ipython3",
   "version": "3.6.12"
  }
 },
 "nbformat": 4,
 "nbformat_minor": 2
}
