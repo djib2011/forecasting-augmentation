{
 "cells": [
  {
   "cell_type": "code",
   "execution_count": 1,
   "metadata": {},
   "outputs": [],
   "source": [
    "import numpy as np\n",
    "import pandas as pd\n",
    "from pathlib import Path\n",
    "import pickle as pkl\n",
    "import os\n",
    "import sys\n",
    "\n",
    "os.chdir('..')\n",
    "sys.path.append('.')\n",
    "\n",
    "import evaluation"
   ]
  },
  {
   "cell_type": "code",
   "execution_count": 2,
   "metadata": {},
   "outputs": [],
   "source": [
    "files = [str(f) for f in Path('/tmp').glob('*.pkl')]"
   ]
  },
  {
   "cell_type": "code",
   "execution_count": 3,
   "metadata": {},
   "outputs": [
    {
     "data": {
      "text/plain": [
       "['/tmp/inp_18__dir_uni__size_256__depth_3.pkl',\n",
       " '/tmp/inp_18__dir_bi__size_256__depth_3.pkl',\n",
       " '/tmp/inp_18__dir_uni__size_256__depth_4.pkl',\n",
       " '/tmp/inp_18__dir_uni__size_256__depth_2.pkl',\n",
       " '/tmp/inp_18__dir_bi__size_256__depth_2.pkl']"
      ]
     },
     "execution_count": 3,
     "metadata": {},
     "output_type": "execute_result"
    }
   ],
   "source": [
    "files"
   ]
  },
  {
   "cell_type": "code",
   "execution_count": 4,
   "metadata": {},
   "outputs": [],
   "source": [
    "results = []\n",
    "\n",
    "for f_path in files:\n",
    "    with open(f_path, 'rb') as f:\n",
    "        results.append(pkl.load(f))"
   ]
  },
  {
   "cell_type": "code",
   "execution_count": 11,
   "metadata": {},
   "outputs": [],
   "source": [
    "dfs = [evaluation.create_results_df_multi_weights(r, columns=['input_len', 'direction', 'size', 'depth'])\n",
    "       for r in results]"
   ]
  },
  {
   "cell_type": "code",
   "execution_count": 14,
   "metadata": {},
   "outputs": [],
   "source": [
    "df = pd.concat(dfs)"
   ]
  },
  {
   "cell_type": "code",
   "execution_count": 17,
   "metadata": {},
   "outputs": [
    {
     "data": {
      "text/html": [
       "<div>\n",
       "<style scoped>\n",
       "    .dataframe tbody tr th:only-of-type {\n",
       "        vertical-align: middle;\n",
       "    }\n",
       "\n",
       "    .dataframe tbody tr th {\n",
       "        vertical-align: top;\n",
       "    }\n",
       "\n",
       "    .dataframe thead th {\n",
       "        text-align: right;\n",
       "    }\n",
       "</style>\n",
       "<table border=\"1\" class=\"dataframe\">\n",
       "  <thead>\n",
       "    <tr style=\"text-align: right;\">\n",
       "      <th></th>\n",
       "      <th>input_len</th>\n",
       "      <th>direction</th>\n",
       "      <th>size</th>\n",
       "      <th>depth</th>\n",
       "      <th>num</th>\n",
       "      <th>epoch</th>\n",
       "      <th>ensemble</th>\n",
       "      <th>smape</th>\n",
       "      <th>mase*</th>\n",
       "    </tr>\n",
       "  </thead>\n",
       "  <tbody>\n",
       "    <tr>\n",
       "      <th>146</th>\n",
       "      <td>18</td>\n",
       "      <td>bi</td>\n",
       "      <td>256</td>\n",
       "      <td>2</td>\n",
       "      <td>6</td>\n",
       "      <td>9</td>\n",
       "      <td>False</td>\n",
       "      <td>13.189401</td>\n",
       "      <td>2.671092</td>\n",
       "    </tr>\n",
       "    <tr>\n",
       "      <th>146</th>\n",
       "      <td>18</td>\n",
       "      <td>bi</td>\n",
       "      <td>256</td>\n",
       "      <td>2</td>\n",
       "      <td>6</td>\n",
       "      <td>9</td>\n",
       "      <td>False</td>\n",
       "      <td>13.189401</td>\n",
       "      <td>2.671092</td>\n",
       "    </tr>\n",
       "    <tr>\n",
       "      <th>274</th>\n",
       "      <td>18</td>\n",
       "      <td>uni</td>\n",
       "      <td>256</td>\n",
       "      <td>3</td>\n",
       "      <td>3</td>\n",
       "      <td>8</td>\n",
       "      <td>False</td>\n",
       "      <td>13.208804</td>\n",
       "      <td>2.673714</td>\n",
       "    </tr>\n",
       "    <tr>\n",
       "      <th>274</th>\n",
       "      <td>18</td>\n",
       "      <td>uni</td>\n",
       "      <td>256</td>\n",
       "      <td>3</td>\n",
       "      <td>3</td>\n",
       "      <td>8</td>\n",
       "      <td>False</td>\n",
       "      <td>13.208804</td>\n",
       "      <td>2.673714</td>\n",
       "    </tr>\n",
       "    <tr>\n",
       "      <th>186</th>\n",
       "      <td>18</td>\n",
       "      <td>bi</td>\n",
       "      <td>256</td>\n",
       "      <td>2</td>\n",
       "      <td>1</td>\n",
       "      <td>9</td>\n",
       "      <td>False</td>\n",
       "      <td>13.218448</td>\n",
       "      <td>2.675721</td>\n",
       "    </tr>\n",
       "    <tr>\n",
       "      <th>...</th>\n",
       "      <td>...</td>\n",
       "      <td>...</td>\n",
       "      <td>...</td>\n",
       "      <td>...</td>\n",
       "      <td>...</td>\n",
       "      <td>...</td>\n",
       "      <td>...</td>\n",
       "      <td>...</td>\n",
       "      <td>...</td>\n",
       "    </tr>\n",
       "    <tr>\n",
       "      <th>560</th>\n",
       "      <td>18</td>\n",
       "      <td>uni</td>\n",
       "      <td>256</td>\n",
       "      <td>4</td>\n",
       "      <td>1</td>\n",
       "      <td>6</td>\n",
       "      <td>False</td>\n",
       "      <td>17.022816</td>\n",
       "      <td>3.500237</td>\n",
       "    </tr>\n",
       "    <tr>\n",
       "      <th>220</th>\n",
       "      <td>18</td>\n",
       "      <td>uni</td>\n",
       "      <td>256</td>\n",
       "      <td>3</td>\n",
       "      <td>5</td>\n",
       "      <td>6</td>\n",
       "      <td>False</td>\n",
       "      <td>17.088121</td>\n",
       "      <td>3.389761</td>\n",
       "    </tr>\n",
       "    <tr>\n",
       "      <th>220</th>\n",
       "      <td>18</td>\n",
       "      <td>uni</td>\n",
       "      <td>256</td>\n",
       "      <td>3</td>\n",
       "      <td>5</td>\n",
       "      <td>6</td>\n",
       "      <td>False</td>\n",
       "      <td>17.088121</td>\n",
       "      <td>3.389761</td>\n",
       "    </tr>\n",
       "    <tr>\n",
       "      <th>350</th>\n",
       "      <td>18</td>\n",
       "      <td>uni</td>\n",
       "      <td>256</td>\n",
       "      <td>3</td>\n",
       "      <td>8</td>\n",
       "      <td>6</td>\n",
       "      <td>False</td>\n",
       "      <td>17.169296</td>\n",
       "      <td>3.430654</td>\n",
       "    </tr>\n",
       "    <tr>\n",
       "      <th>350</th>\n",
       "      <td>18</td>\n",
       "      <td>uni</td>\n",
       "      <td>256</td>\n",
       "      <td>3</td>\n",
       "      <td>8</td>\n",
       "      <td>6</td>\n",
       "      <td>False</td>\n",
       "      <td>17.169296</td>\n",
       "      <td>3.430654</td>\n",
       "    </tr>\n",
       "  </tbody>\n",
       "</table>\n",
       "<p>1870 rows × 9 columns</p>\n",
       "</div>"
      ],
      "text/plain": [
       "    input_len direction size depth num epoch  ensemble      smape     mase*\n",
       "146        18        bi  256     2   6     9     False  13.189401  2.671092\n",
       "146        18        bi  256     2   6     9     False  13.189401  2.671092\n",
       "274        18       uni  256     3   3     8     False  13.208804  2.673714\n",
       "274        18       uni  256     3   3     8     False  13.208804  2.673714\n",
       "186        18        bi  256     2   1     9     False  13.218448  2.675721\n",
       "..        ...       ...  ...   ...  ..   ...       ...        ...       ...\n",
       "560        18       uni  256     4   1     6     False  17.022816  3.500237\n",
       "220        18       uni  256     3   5     6     False  17.088121  3.389761\n",
       "220        18       uni  256     3   5     6     False  17.088121  3.389761\n",
       "350        18       uni  256     3   8     6     False  17.169296  3.430654\n",
       "350        18       uni  256     3   8     6     False  17.169296  3.430654\n",
       "\n",
       "[1870 rows x 9 columns]"
      ]
     },
     "execution_count": 17,
     "metadata": {},
     "output_type": "execute_result"
    }
   ],
   "source": [
    "df.sort_values('smape')"
   ]
  },
  {
   "cell_type": "code",
   "execution_count": 19,
   "metadata": {},
   "outputs": [],
   "source": [
    "res = pd.read_csv('reports/lstm_tuning_windows/results.csv')"
   ]
  },
  {
   "cell_type": "code",
   "execution_count": 22,
   "metadata": {},
   "outputs": [],
   "source": [
    "pd.concat([df, res]).to_csv('/tmp/lstm_tuning_results.csv', index=False)"
   ]
  }
 ],
 "metadata": {
  "kernelspec": {
   "display_name": "aug",
   "language": "python",
   "name": "aug"
  },
  "language_info": {
   "codemirror_mode": {
    "name": "ipython",
    "version": 3
   },
   "file_extension": ".py",
   "mimetype": "text/x-python",
   "name": "python",
   "nbconvert_exporter": "python",
   "pygments_lexer": "ipython3",
   "version": "3.6.9"
  }
 },
 "nbformat": 4,
 "nbformat_minor": 4
}
