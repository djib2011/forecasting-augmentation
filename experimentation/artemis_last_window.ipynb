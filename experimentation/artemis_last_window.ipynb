{
 "cells": [
  {
   "cell_type": "code",
   "execution_count": 1,
   "metadata": {},
   "outputs": [],
   "source": [
    "import pandas as pd\n",
    "import numpy as np\n",
    "import matplotlib.pyplot as plt\n",
    "import seaborn as sns\n",
    "%matplotlib inline\n",
    "\n",
    "\n",
    "import os\n",
    "import sys\n",
    "os.chdir('..')\n",
    "sys.path.append('.')\n",
    "\n",
    "\n",
    "\n",
    "import evaluation\n",
    "import datasets\n",
    "from utils import metrics"
   ]
  },
  {
   "cell_type": "code",
   "execution_count": 2,
   "metadata": {},
   "outputs": [],
   "source": [
    "f1 = '/home/artemis/AugmExp/Forecasts/Final/frc_last_windows.csv'\n",
    "f2 = '/home/artemis/AugmExp/Forecasts/frc_win1.csv'"
   ]
  },
  {
   "cell_type": "code",
   "execution_count": 3,
   "metadata": {},
   "outputs": [],
   "source": [
    "x, y = datasets.load_test_set()"
   ]
  },
  {
   "cell_type": "code",
   "execution_count": 4,
   "metadata": {},
   "outputs": [],
   "source": [
    "df1 = pd.read_csv(f1, header=None)\n",
    "df2 = pd.read_csv(f2, header=None)"
   ]
  },
  {
   "cell_type": "code",
   "execution_count": 7,
   "metadata": {},
   "outputs": [
    {
     "data": {
      "text/plain": [
       "13.239758751787017"
      ]
     },
     "execution_count": 7,
     "metadata": {},
     "output_type": "execute_result"
    }
   ],
   "source": [
    "metrics.SMAPE(y, df1.values).mean()"
   ]
  },
  {
   "cell_type": "code",
   "execution_count": 8,
   "metadata": {},
   "outputs": [
    {
     "data": {
      "text/plain": [
       "13.6101262405061"
      ]
     },
     "execution_count": 8,
     "metadata": {},
     "output_type": "execute_result"
    }
   ],
   "source": [
    "metrics.SMAPE(y, df2.values).mean()"
   ]
  },
  {
   "cell_type": "code",
   "execution_count": 24,
   "metadata": {},
   "outputs": [
    {
     "name": "stdout",
     "output_type": "stream",
     "text": [
      "    wrong  right\n",
      "1.  7.932  7.712\n",
      "2. 10.457 10.742\n",
      "3. 12.459 12.859\n",
      "4. 14.354 14.840\n",
      "5. 16.249 16.803\n",
      "6. 17.988 18.706\n"
     ]
    }
   ],
   "source": [
    "print('    wrong  right')\n",
    "for i in range(6):\n",
    "    a1 = metrics.SMAPE(y[:, i:i+1], df1.values[:, i:i+1]).mean()\n",
    "    a2 = metrics.SMAPE(y[:, i:i+1], df2.values[:, i:i+1]).mean()\n",
    "    print('{}. {:>6.3f} {:>6.3f}'.format(i+1, a1, a2))"
   ]
  },
  {
   "cell_type": "code",
   "execution_count": 27,
   "metadata": {},
   "outputs": [
    {
     "name": "stdout",
     "output_type": "stream",
     "text": [
      "1.  7.742  7.712\n",
      "2. 10.960 10.742\n",
      "3. 12.835 12.859\n",
      "4. 14.862 14.840\n",
      "5. 16.831 16.803\n"
     ]
    }
   ],
   "source": [
    "for i in range(5):\n",
    "    a1 = metrics.SMAPE(y[:, i:i+1], df1.values[:, i+1:i+2]).mean()\n",
    "    a2 = metrics.SMAPE(y[:, i:i+1], df2.values[:, i:i+1]).mean()\n",
    "    print('{}. {:>6.3f} {:>6.3f}'.format(i+1, a1, a2))"
   ]
  },
  {
   "cell_type": "code",
   "execution_count": 28,
   "metadata": {},
   "outputs": [
    {
     "data": {
      "text/plain": [
       "12.645740498193552"
      ]
     },
     "execution_count": 28,
     "metadata": {},
     "output_type": "execute_result"
    }
   ],
   "source": [
    "metrics.SMAPE(y[:, :5], df1.values[:, 1:6]).mean()"
   ]
  },
  {
   "cell_type": "code",
   "execution_count": 29,
   "metadata": {},
   "outputs": [
    {
     "data": {
      "text/plain": [
       "12.591030159948389"
      ]
     },
     "execution_count": 29,
     "metadata": {},
     "output_type": "execute_result"
    }
   ],
   "source": [
    "metrics.SMAPE(y[:, :5], df2.values[:, :5]).mean()"
   ]
  },
  {
   "cell_type": "code",
   "execution_count": 35,
   "metadata": {},
   "outputs": [
    {
     "name": "stdout",
     "output_type": "stream",
     "text": [
      "1.  7.742  7.712\n",
      "2. 10.960 10.742\n",
      "3. 12.835 12.859\n",
      "4. 14.862 14.840\n",
      "5. 16.831 16.803\n"
     ]
    }
   ],
   "source": [
    "for i in range(5):\n",
    "    a1 = metrics.SMAPE(y[:, i:i+1], df1.values[:, i+1:i+2]).mean()\n",
    "    a2 = metrics.SMAPE(y[:, i:i+1], df2.values[:, i:i+1]).mean()\n",
    "    print('{}. {:>6.3f} {:>6.3f}'.format(i+1, a1, a2))"
   ]
  },
  {
   "cell_type": "code",
   "execution_count": 37,
   "metadata": {},
   "outputs": [
    {
     "name": "stdout",
     "output_type": "stream",
     "text": [
      "2. 10.742 10.481\n",
      "3. 12.859 12.376\n",
      "4. 14.840 14.348\n",
      "5. 16.803 16.220\n",
      "6. 18.706 18.001\n"
     ]
    }
   ],
   "source": [
    "for i in range(5):\n",
    "    a1 = metrics.SMAPE(y[:, i+1:i+2], df2.values[:, i+1:i+2]).mean()\n",
    "    a2 = metrics.SMAPE(y[:, i+1:i+2], df2.values[:, i:i+1]).mean()\n",
    "    print('{}. {:>6.3f} {:>6.3f}'.format(i+2, a1, a2))"
   ]
  },
  {
   "cell_type": "code",
   "execution_count": 39,
   "metadata": {},
   "outputs": [
    {
     "data": {
      "text/plain": [
       "14.28512741084128"
      ]
     },
     "execution_count": 39,
     "metadata": {},
     "output_type": "execute_result"
    }
   ],
   "source": [
    "metrics.SMAPE(y[:, 1:], df2.values[:, :5]).mean()"
   ]
  },
  {
   "cell_type": "code",
   "execution_count": 40,
   "metadata": {},
   "outputs": [
    {
     "data": {
      "text/plain": [
       "14.789801937874792"
      ]
     },
     "execution_count": 40,
     "metadata": {},
     "output_type": "execute_result"
    }
   ],
   "source": [
    "metrics.SMAPE(y[:, 1:], df2.values[:, 1:]).mean()"
   ]
  },
  {
   "cell_type": "code",
   "execution_count": 46,
   "metadata": {},
   "outputs": [
    {
     "data": {
      "text/plain": [
       "13.189564134644844"
      ]
     },
     "execution_count": 46,
     "metadata": {},
     "output_type": "execute_result"
    }
   ],
   "source": [
    "metrics.SMAPE(y, np.c_[df2.values[:, 0], df2.values[:, :5]]).mean()"
   ]
  },
  {
   "cell_type": "code",
   "execution_count": 47,
   "metadata": {},
   "outputs": [
    {
     "data": {
      "text/plain": [
       "13.6101262405061"
      ]
     },
     "execution_count": 47,
     "metadata": {},
     "output_type": "execute_result"
    }
   ],
   "source": [
    "metrics.SMAPE(y, df2.values).mean()"
   ]
  }
 ],
 "metadata": {
  "kernelspec": {
   "display_name": "aug",
   "language": "python",
   "name": "aug"
  },
  "language_info": {
   "codemirror_mode": {
    "name": "ipython",
    "version": 3
   },
   "file_extension": ".py",
   "mimetype": "text/x-python",
   "name": "python",
   "nbconvert_exporter": "python",
   "pygments_lexer": "ipython3",
   "version": "3.6.9"
  }
 },
 "nbformat": 4,
 "nbformat_minor": 4
}
